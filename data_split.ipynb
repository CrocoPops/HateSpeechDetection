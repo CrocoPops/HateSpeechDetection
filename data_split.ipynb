{
 "cells": [
  {
   "cell_type": "code",
   "execution_count": 7,
   "metadata": {},
   "outputs": [
    {
     "name": "stderr",
     "output_type": "stream",
     "text": [
      "C:\\Users\\fdavi\\AppData\\Local\\Packages\\PythonSoftwareFoundation.Python.3.12_qbz5n2kfra8p0\\LocalCache\\local-packages\\Python312\\site-packages\\numpy\\core\\fromnumeric.py:59: FutureWarning: 'DataFrame.swapaxes' is deprecated and will be removed in a future version. Please use 'DataFrame.transpose' instead.\n",
      "  return bound(*args, **kwds)\n"
     ]
    }
   ],
   "source": [
    "import os\n",
    "import numpy\n",
    "import datasets\n",
    "\n",
    "from sklearn.model_selection import train_test_split\n",
    "from constants import RANDOM_STATE\n",
    "\n",
    "# Read the complete dataset\n",
    "dataset = datasets.load_dataset('ucberkeley-dlab/measuring-hate-speech')   \n",
    "df = dataset['train'].to_pandas()\n",
    "\n",
    "# Assign label from hate speech score and dropping all unused columns\n",
    "df['labels'] = [2 if c < -1 else (1 if c > -1 and c < 0.5 else 0) for c in df['hate_speech_score']]\n",
    "df = df[['text', 'labels']]\n",
    "\n",
    "# Take 10% for test set\n",
    "df_train, df_test = train_test_split(df, test_size=0.1, random_state=RANDOM_STATE)\n",
    "\n",
    "# The remaining 90% will be splitted in three sub-datasets\n",
    "numpy.random.seed(RANDOM_STATE)\n",
    "df1, df2, df3 = numpy.array_split(df_train, 3)\n",
    "\n",
    "# Saving all to file\n",
    "df_test.to_csv(os.path.join('original_datasets', 'dataset_test.csv'), index=False)\n",
    "df1.to_csv(os.path.join('original_datasets', 'dataset1.csv'), index=False)\n",
    "df2.to_csv(os.path.join('original_datasets', 'dataset2.csv'), index=False)\n",
    "df3.to_csv(os.path.join('original_datasets', 'dataset3.csv'), index=False)"
   ]
  },
  {
   "cell_type": "code",
   "execution_count": null,
   "metadata": {},
   "outputs": [],
   "source": []
  }
 ],
 "metadata": {
  "kernelspec": {
   "display_name": "Python 3",
   "language": "python",
   "name": "python3"
  },
  "language_info": {
   "codemirror_mode": {
    "name": "ipython",
    "version": 3
   },
   "file_extension": ".py",
   "mimetype": "text/x-python",
   "name": "python",
   "nbconvert_exporter": "python",
   "pygments_lexer": "ipython3",
   "version": "3.12.3"
  }
 },
 "nbformat": 4,
 "nbformat_minor": 2
}
