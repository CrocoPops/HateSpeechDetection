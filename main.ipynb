{
 "cells": [
  {
   "cell_type": "code",
   "execution_count": null,
   "metadata": {},
   "outputs": [],
   "source": [
    "import torch\n",
    "import matplotlib.pyplot as plt\n",
    "import warnings\n",
    "from transformers import AutoTokenizer, AutoModelForSequenceClassification\n",
    "from functions import get_dataset, get_model_accuracy, plot_chart\n",
    "from constants import DEVICE\n",
    "from multiagent import WeightedAverage, Plurality, ProbabilitiesSum, Borda, MaxProb\n",
    "from tqdm import tqdm\n",
    "from sklearn.metrics import ConfusionMatrixDisplay\n",
    "\n",
    "\n",
    "# Libraries setup (and ignoring warnings)\n",
    "warnings.simplefilter(action='ignore', category=FutureWarning)\n",
    "tqdm.pandas()\n",
    "\n",
    "# Loading the models (from local machine) and tokenizers (from HuggingFace hub)\n",
    "tokenizer_xlnet = AutoTokenizer.from_pretrained('models/xlnet')\n",
    "model_xlnet = AutoModelForSequenceClassification.from_pretrained('models/xlnet', num_labels = 3).to(DEVICE)\n",
    "tokenizer_bert = AutoTokenizer.from_pretrained('models/bert')\n",
    "model_bert = AutoModelForSequenceClassification.from_pretrained('models/bert', num_labels = 3).to(DEVICE)\n",
    "tokenizer_gpt2 = AutoTokenizer.from_pretrained('models/gpt2')\n",
    "model_gpt2 = AutoModelForSequenceClassification.from_pretrained('models/gpt2', num_labels = 3).to(DEVICE)\n",
    "\n",
    "# Getting the test data\n",
    "df = get_dataset('dataset_test.csv')"
   ]
  },
  {
   "cell_type": "code",
   "execution_count": null,
   "metadata": {},
   "outputs": [],
   "source": [
    "# Calculating each model accuracy on the merged test set\n",
    "gpt2_all_acc, gpt2_cm = get_model_accuracy(model_gpt2, tokenizer_gpt2, df)\n",
    "bert_all_acc, bert_cm = get_model_accuracy(model_bert, tokenizer_bert, df)\n",
    "xlnet_all_acc, xlnet_cm = get_model_accuracy(model_xlnet, tokenizer_xlnet, df)\n",
    "\n",
    "print(\"GPT2\", gpt2_all_acc)\n",
    "print(\"BERT\", bert_all_acc)\n",
    "print(\"XLNET\", xlnet_all_acc)"
   ]
  },
  {
   "cell_type": "code",
   "execution_count": null,
   "metadata": {},
   "outputs": [],
   "source": [
    "disp_gpt2_cm = ConfusionMatrixDisplay(confusion_matrix=gpt2_cm, display_labels=['0','1','2'])\n",
    "disp_bert_cm = ConfusionMatrixDisplay(confusion_matrix=bert_cm, display_labels=['0','1','2'])\n",
    "disp_xlnet_cm = ConfusionMatrixDisplay(confusion_matrix=xlnet_cm, display_labels=['0','1','2'])\n",
    "\n",
    "# Plotting the result\n",
    "plot_chart(['GPT2','BERT','XLNet'], [gpt2_all_acc, bert_all_acc, xlnet_all_acc], 'Model accuracies on test set')\n",
    "\n",
    "fig, axes = plt.subplots(3, 1, figsize=(10, 15))\n",
    "\n",
    "axes[0].set_title('GPT-2 Confusion Matrix - All dataset')\n",
    "axes[1].set_title('BERT Confusion Matrix - All dataset')\n",
    "axes[2].set_title('XLNET Confusion Matrix - All dataset')\n",
    "\n",
    "disp_gpt2_cm.plot(cmap=plt.cm.Blues, ax=axes[0])\n",
    "disp_bert_cm.plot(cmap=plt.cm.Blues, ax=axes[1])\n",
    "disp_xlnet_cm.plot(cmap=plt.cm.Blues, ax=axes[2])\n",
    "\n",
    "plt.tight_layout()\n",
    "plt.show()"
   ]
  },
  {
   "cell_type": "code",
   "execution_count": null,
   "metadata": {},
   "outputs": [],
   "source": [
    "# Initializing all the multiagent voting rules\n",
    "rules = [ProbabilitiesSum(), Plurality(), MaxProb(), WeightedAverage(), Borda()]\n",
    "\n",
    "# Calculating all the multiagent results\n",
    "probabilities = {}\n",
    "for index, row in tqdm(df.iterrows(), total=len(df)):\n",
    "    # Calculating GPT2's prediction\n",
    "    inputs_gpt2    = tokenizer_gpt2(row['text'], return_tensors=\"pt\", max_length=128, truncation=True).to(DEVICE)\n",
    "    probabilities['gpt2']   = torch.softmax(model_gpt2(**inputs_gpt2).logits, 1)\n",
    "\n",
    "    # Calculating XLNET's prediction\n",
    "    inputs_xlnet    = tokenizer_xlnet(row['text'], return_tensors=\"pt\", max_length=128, truncation=True).to(DEVICE)\n",
    "    probabilities['xlnet']   = torch.softmax(model_xlnet(**inputs_xlnet).logits, 1)\n",
    "\n",
    "    # Calculating BERT's prediction\n",
    "    inputs_bert    = tokenizer_bert(row['text'], return_tensors=\"pt\", max_length=128, truncation=True).to(DEVICE)\n",
    "    probabilities['bert']   = torch.softmax(model_bert(**inputs_bert).logits, 1)\n",
    "\n",
    "    # Applying each voting rule\n",
    "    for r in rules:\n",
    "        r(probabilities, row['labels'])\n",
    "\n",
    "# Plotting the results\n",
    "plot_chart([r.__class__.__name__ for r in rules], [ r.correct_counter/len(df) for r in rules], 'Multiagent accuracies')\n",
    "\n",
    "for r in rules:\n",
    "    print(r.__class__.__name__, r.correct_counter/len(df))\n"
   ]
  }
 ],
 "metadata": {
  "kernelspec": {
   "display_name": "Python 3",
   "language": "python",
   "name": "python3"
  },
  "language_info": {
   "codemirror_mode": {
    "name": "ipython",
    "version": 3
   },
   "file_extension": ".py",
   "mimetype": "text/x-python",
   "name": "python",
   "nbconvert_exporter": "python",
   "pygments_lexer": "ipython3",
   "version": "3.11.0"
  }
 },
 "nbformat": 4,
 "nbformat_minor": 2
}
