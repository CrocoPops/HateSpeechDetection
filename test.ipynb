{
 "cells": [
  {
   "cell_type": "code",
   "execution_count": 1,
   "metadata": {},
   "outputs": [
    {
     "name": "stderr",
     "output_type": "stream",
     "text": [
      "[nltk_data] Downloading package stopwords to\n",
      "[nltk_data]     C:\\Users\\fdavi\\AppData\\Roaming\\nltk_data...\n",
      "[nltk_data]   Package stopwords is already up-to-date!\n",
      "[nltk_data] Downloading package punkt to\n",
      "[nltk_data]     C:\\Users\\fdavi\\AppData\\Roaming\\nltk_data...\n",
      "[nltk_data]   Package punkt is already up-to-date!\n",
      "[nltk_data] Downloading package wordnet to\n",
      "[nltk_data]     C:\\Users\\fdavi\\AppData\\Roaming\\nltk_data...\n",
      "[nltk_data]   Package wordnet is already up-to-date!\n",
      "<frozen importlib._bootstrap>:488: DeprecationWarning: Type google._upb._message.MessageMapContainer uses PyType_Spec with a metaclass that has custom tp_new. This is deprecated and will no longer be allowed in Python 3.14.\n",
      "<frozen importlib._bootstrap>:488: DeprecationWarning: Type google._upb._message.ScalarMapContainer uses PyType_Spec with a metaclass that has custom tp_new. This is deprecated and will no longer be allowed in Python 3.14.\n"
     ]
    }
   ],
   "source": [
    "# Libraries\n",
    "import pandas as pd\n",
    "import datasets\n",
    "import os\n",
    "\n",
    "from sklearn.model_selection import train_test_split\n",
    "from ml_things import plot_confusion_matrix\n",
    "from transformers import logging\n",
    "from tqdm import tqdm\n",
    "\n",
    "# Custom functions/classes/variables\n",
    "from utils import preprocessing, models_handler\n",
    "from utils.multiagent import WeightedAverage, ProbabilitiesSum, Plurality, Borda\n",
    "from utils.constants import TEST_SAMPLES, RANDOM_STATE, TEST_SIZE\n"
   ]
  },
  {
   "cell_type": "code",
   "execution_count": 2,
   "metadata": {},
   "outputs": [],
   "source": [
    "# Disable transformers warnings\n",
    "logging.set_verbosity(logging.ERROR)"
   ]
  },
  {
   "cell_type": "code",
   "execution_count": 3,
   "metadata": {},
   "outputs": [
    {
     "name": "stdout",
     "output_type": "stream",
     "text": [
      "Cleaned dataset found, loading it.\n",
      "Splitting the dataset.\n",
      "Initializing models.\n",
      "Testing the models.\n"
     ]
    },
    {
     "name": "stderr",
     "output_type": "stream",
     "text": [
      "  0%|          | 0/1000 [00:00<?, ?it/s]"
     ]
    },
    {
     "name": "stdout",
     "output_type": "stream",
     "text": [
      "[1.91735801e-04 2.94838786e-07 9.99807969e-01]\n"
     ]
    },
    {
     "name": "stderr",
     "output_type": "stream",
     "text": [
      "\n"
     ]
    },
    {
     "ename": "TypeError",
     "evalue": "Borda.get_borda_scores() takes 1 positional argument but 2 were given",
     "output_type": "error",
     "traceback": [
      "\u001b[1;31m---------------------------------------------------------------------------\u001b[0m",
      "\u001b[1;31mTypeError\u001b[0m                                 Traceback (most recent call last)",
      "Cell \u001b[1;32mIn[3], line 61\u001b[0m\n\u001b[0;32m     59\u001b[0m     \u001b[38;5;66;03m# Calling each multiagent voting rule and updating the internal results\u001b[39;00m\n\u001b[0;32m     60\u001b[0m     \u001b[38;5;28;01mfor\u001b[39;00m rule \u001b[38;5;129;01min\u001b[39;00m rules:\n\u001b[1;32m---> 61\u001b[0m         \u001b[43mrule\u001b[49m\u001b[43m(\u001b[49m\u001b[43maccuracies\u001b[49m\u001b[43m,\u001b[49m\u001b[43m \u001b[49m\u001b[43mpredictions\u001b[49m\u001b[43m,\u001b[49m\u001b[43m \u001b[49m\u001b[43mlabel\u001b[49m\u001b[43m)\u001b[49m\n\u001b[0;32m     64\u001b[0m \u001b[38;5;66;03m# Printing results and plotting confusion matrices\u001b[39;00m\n\u001b[0;32m     65\u001b[0m \u001b[38;5;28;01mfor\u001b[39;00m rule \u001b[38;5;129;01min\u001b[39;00m rules:\n",
      "File \u001b[1;32mc:\\Users\\fdavi\\Desktop\\HateSpeechDetection\\utils\\multiagent.py:83\u001b[0m, in \u001b[0;36mBorda.__call__\u001b[1;34m(self, accuracies, predictions, label)\u001b[0m\n\u001b[0;32m     81\u001b[0m \u001b[38;5;28;01mfor\u001b[39;00m value \u001b[38;5;129;01min\u001b[39;00m predictions\u001b[38;5;241m.\u001b[39mvalues():\n\u001b[0;32m     82\u001b[0m     \u001b[38;5;28mprint\u001b[39m(value[\u001b[38;5;124m'\u001b[39m\u001b[38;5;124mprediction_probabilities\u001b[39m\u001b[38;5;124m'\u001b[39m])\n\u001b[1;32m---> 83\u001b[0m     scores \u001b[38;5;241m+\u001b[39m\u001b[38;5;241m=\u001b[39m \u001b[38;5;28;43mself\u001b[39;49m\u001b[38;5;241;43m.\u001b[39;49m\u001b[43mget_borda_scores\u001b[49m\u001b[43m(\u001b[49m\u001b[43mvalue\u001b[49m\u001b[43m[\u001b[49m\u001b[38;5;124;43m'\u001b[39;49m\u001b[38;5;124;43mprediction_probabilities\u001b[39;49m\u001b[38;5;124;43m'\u001b[39;49m\u001b[43m]\u001b[49m\u001b[43m)\u001b[49m\n\u001b[0;32m     85\u001b[0m predicted_class \u001b[38;5;241m=\u001b[39m scores\u001b[38;5;241m.\u001b[39mindex(\u001b[38;5;28mmax\u001b[39m(scores))\n\u001b[0;32m     86\u001b[0m \u001b[38;5;28mself\u001b[39m\u001b[38;5;241m.\u001b[39mupdate_metrics(predicted_class, label)\n",
      "\u001b[1;31mTypeError\u001b[0m: Borda.get_borda_scores() takes 1 positional argument but 2 were given"
     ]
    }
   ],
   "source": [
    "if not os.path.isfile('cleaned_data.csv'):\n",
    "\n",
    "    print(\"Cleaned dataset not found, proceeding to create it.\")\n",
    "\n",
    "    # Load the dataset \n",
    "    data = datasets.load_dataset('ucberkeley-dlab/measuring-hate-speech')['train'].to_pandas()\n",
    "    data['class'] = [2 if c < -1 else (1 if c > -1 and c < 0.5 else 0) for c in data['hate_speech_score']]\n",
    "\n",
    "    # Preprocess the text column\n",
    "    data['text'] = preprocessing.apply_all(data['text'])\n",
    "    data = data[data['text'].notna()]\n",
    "\n",
    "    # Keeping only the wanted columns\n",
    "    data = data[['text', 'class']]\n",
    "    data.to_csv('cleaned_data.csv', index = False)\n",
    "else:\n",
    "    print(\"Cleaned dataset found, loading it.\")\n",
    "\n",
    "    data = pd.read_csv('cleaned_data.csv')\n",
    "\n",
    "\n",
    "# Splitting the dataset\n",
    "print(\"Splitting the dataset.\")\n",
    "X_train, X_test, y_train, y_test = train_test_split(list(data[\"text\"]), list(data[\"class\"]), test_size=TEST_SIZE, random_state=RANDOM_STATE)\n",
    "\n",
    "# Initializing models\n",
    "print(\"Initializing models.\")\n",
    "model_gpt2, tokenizer_gpt2 = models_handler.get_gpt2(True)\n",
    "model_bert, tokenizer_bert = models_handler.get_bert(True)\n",
    "model_xlnet, tokenizer_xlnet = models_handler.get_xlnet(True)\n",
    "model_logreg, vectorizer_logreg = models_handler.get_logreg(True)\n",
    "\n",
    "# Testing the models\n",
    "print(\"Testing the models.\")\n",
    "\n",
    "# Taking the first TEST_SAMPLES form the test set\n",
    "input_sentences = X_test[0:TEST_SAMPLES]\n",
    "output_labels = y_test[0:TEST_SAMPLES]\n",
    "input_lr = vectorizer_logreg.transform(input_sentences)\n",
    "\n",
    "# Getting the saved accuracies for each model\n",
    "accuracies = models_handler.get_accuracies()\n",
    "\n",
    "# Multiagent voting rules\n",
    "rules = [WeightedAverage(), ProbabilitiesSum(), Plurality(), Borda()]\n",
    "\n",
    "# inn will be the input to NN models: gpt2, xlnet and bert\n",
    "# ilr will be the input to the logreg model\n",
    "for ilr, inn, label in tqdm(zip(input_lr, input_sentences, output_labels), total = TEST_SAMPLES):\n",
    "\n",
    "    predictions = {}\n",
    "\n",
    "    # Make predictions\n",
    "    predictions['lr'] = models_handler.predict_lr(model_logreg, ilr)\n",
    "    predictions['xlnet'] = models_handler.predict_nn(model_xlnet, tokenizer_xlnet, inn)\n",
    "    predictions['bert'] = models_handler.predict_nn(model_bert, tokenizer_bert, inn)\n",
    "    predictions['gpt2'] = models_handler.predict_nn(model_gpt2, tokenizer_gpt2, inn)\n",
    "\n",
    "    # Calling each multiagent voting rule and updating the internal results\n",
    "    for rule in rules:\n",
    "        rule(accuracies, predictions, label)\n",
    "\n",
    "\n",
    "# Printing results and plotting confusion matrices\n",
    "for rule in rules:\n",
    "    print(\"Multiagent rule: \", rule.__class__.__name__)\n",
    "    print(f\"Predicted correctly {rule.correct_counter} out of {len(input_sentences)} sentences (accuracy {rule.correct_counter / len(input_sentences)}).\")\n",
    "    plot_confusion_matrix(y_true=output_labels, y_pred=rule.predicted_classes, classes=[0, 1, 2], normalize=True, use_title=f\"Confusion Matrix - Multiagent ({rule.__class__.__name__})\")\n"
   ]
  },
  {
   "cell_type": "code",
   "execution_count": null,
   "metadata": {},
   "outputs": [
    {
     "name": "stdout",
     "output_type": "stream",
     "text": [
      "[]\n",
      "[]\n",
      "Accuracy: 0.897\n"
     ]
    },
    {
     "data": {
      "text/plain": [
       "['c:\\\\Users\\\\fdavi\\\\Desktop\\\\HateSpeechDetection\\\\models\\\\LogisticRegression_model.joblib']"
      ]
     },
     "execution_count": 4,
     "metadata": {},
     "output_type": "execute_result"
    }
   ],
   "source": [
    "# from sklearn.linear_model import LogisticRegression\n",
    "# from sklearn.metrics import accuracy_score\n",
    "\n",
    "# input_sentences = X_train\n",
    "# output_labels = y_train\n",
    "# print(data[data['text'].isnull()].index.tolist())\n",
    "# print(data[data['text'].isnull()]['class'].tolist())\n",
    "# input_lr = vectorizer_logreg.transform(input_sentences)\n",
    "\n",
    "# model = LogisticRegression(C=1000, max_iter=300, solver='newton-cg')\n",
    "# model.fit(input_lr, y_train)\n",
    "\n",
    "# X_test_vect = vectorizer_logreg.transform(X_test)\n",
    "# logreg_pred = model.predict(X_test_vect)\n",
    "# print(f\"Accuracy: {accuracy_score(logreg_pred, y_test):.3f}\")\n",
    "\n",
    "# from joblib import dump\n",
    "\n",
    "# dump(model, os.path.join(os.getcwd(), \"models\", 'LogisticRegression_model.joblib'))"
   ]
  }
 ],
 "metadata": {
  "kernelspec": {
   "display_name": "Python 3",
   "language": "python",
   "name": "python3"
  },
  "language_info": {
   "codemirror_mode": {
    "name": "ipython",
    "version": 3
   },
   "file_extension": ".py",
   "mimetype": "text/x-python",
   "name": "python",
   "nbconvert_exporter": "python",
   "pygments_lexer": "ipython3",
   "version": "3.12.3"
  }
 },
 "nbformat": 4,
 "nbformat_minor": 2
}
