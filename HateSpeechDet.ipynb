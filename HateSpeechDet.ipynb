{
 "cells": [
  {
   "cell_type": "markdown",
   "metadata": {},
   "source": [
    "# Libraries"
   ]
  },
  {
   "cell_type": "code",
   "execution_count": 51,
   "metadata": {},
   "outputs": [],
   "source": [
    "import torch\n",
    "import os\n",
    "import pandas as pd\n",
    "import matplotlib.pyplot as plt\n",
    "import re\n",
    "import nltk\n",
    "\n",
    "from sklearn.exceptions import ConvergenceWarning\n",
    "from nltk.corpus import stopwords\n",
    "from nltk.tokenize import word_tokenize\n",
    "from nltk.stem import PorterStemmer, WordNetLemmatizer\n",
    "from sklearn.model_selection import train_test_split\n",
    "from transformers import GPT2Config, GPT2Tokenizer, GPT2ForSequenceClassification, BertTokenizer, BertForSequenceClassification, AdamW\n",
    "from torch.utils.data import DataLoader, TensorDataset\n",
    "from sklearn.metrics import accuracy_score, classification_report\n",
    "from torch.utils.tensorboard import SummaryWriter\n",
    "from tqdm.notebook import tqdm\n",
    "from ml_things import plot_dict, plot_confusion_matrix\n",
    "from sklearn.feature_extraction.text import TfidfVectorizer\n",
    "from sklearn.model_selection import GridSearchCV\n",
    "from sklearn.linear_model import LogisticRegression\n",
    "from sklearn.feature_extraction.text import CountVectorizer\n",
    "from sklearn.feature_extraction.text import TfidfVectorizer\n",
    "from sklearn.pipeline import Pipeline\n",
    "from sklearn.feature_extraction.text import TfidfTransformer\n",
    "from sklearn.preprocessing import StandardScaler\n",
    "from joblib import dump\n",
    "from joblib import load\n",
    "from sklearn.metrics import precision_score, recall_score, f1_score, confusion_matrix, ConfusionMatrixDisplay"
   ]
  },
  {
   "cell_type": "markdown",
   "metadata": {},
   "source": [
    "# Preprocessing\n",
    "\n",
    "- <strong>count</strong>: number of CrowdFlower users who coded each tweet\n",
    "- <strong>hate_speech</strong>: number of CF users who judged the tweet to be hate speech\n",
    "- <strong>offensive_language</strong>: number of CF users who judged the tweet to be offensive\n",
    "- <strong>neither</strong>: number of CF users who judged the tweet to be neither offensive nor non-offensive\n",
    "- <strong>class</strong>: class label for majority of CF users. 0 - hate speech 1 - offensive language 2 - neither\n",
    "- <strong>tweet</strong>: text tweet"
   ]
  },
  {
   "cell_type": "code",
   "execution_count": 52,
   "metadata": {},
   "outputs": [
    {
     "data": {
      "text/html": [
       "<div>\n",
       "<style scoped>\n",
       "    .dataframe tbody tr th:only-of-type {\n",
       "        vertical-align: middle;\n",
       "    }\n",
       "\n",
       "    .dataframe tbody tr th {\n",
       "        vertical-align: top;\n",
       "    }\n",
       "\n",
       "    .dataframe thead th {\n",
       "        text-align: right;\n",
       "    }\n",
       "</style>\n",
       "<table border=\"1\" class=\"dataframe\">\n",
       "  <thead>\n",
       "    <tr style=\"text-align: right;\">\n",
       "      <th></th>\n",
       "      <th>count</th>\n",
       "      <th>hate_speech</th>\n",
       "      <th>offensive_language</th>\n",
       "      <th>neither</th>\n",
       "      <th>class</th>\n",
       "      <th>tweet</th>\n",
       "    </tr>\n",
       "  </thead>\n",
       "  <tbody>\n",
       "    <tr>\n",
       "      <th>0</th>\n",
       "      <td>3</td>\n",
       "      <td>0</td>\n",
       "      <td>0</td>\n",
       "      <td>3</td>\n",
       "      <td>2</td>\n",
       "      <td>As a woman you shouldn't complain about clean...</td>\n",
       "    </tr>\n",
       "    <tr>\n",
       "      <th>1</th>\n",
       "      <td>3</td>\n",
       "      <td>0</td>\n",
       "      <td>3</td>\n",
       "      <td>0</td>\n",
       "      <td>1</td>\n",
       "      <td>boy dats cold...tyga dwn bad for cuffin dat h...</td>\n",
       "    </tr>\n",
       "    <tr>\n",
       "      <th>2</th>\n",
       "      <td>3</td>\n",
       "      <td>0</td>\n",
       "      <td>3</td>\n",
       "      <td>0</td>\n",
       "      <td>1</td>\n",
       "      <td>You ever fuck a bitch and she start to cry? Y...</td>\n",
       "    </tr>\n",
       "    <tr>\n",
       "      <th>3</th>\n",
       "      <td>3</td>\n",
       "      <td>0</td>\n",
       "      <td>2</td>\n",
       "      <td>1</td>\n",
       "      <td>1</td>\n",
       "      <td>@viva_based she look like a tranny</td>\n",
       "    </tr>\n",
       "    <tr>\n",
       "      <th>4</th>\n",
       "      <td>6</td>\n",
       "      <td>0</td>\n",
       "      <td>6</td>\n",
       "      <td>0</td>\n",
       "      <td>1</td>\n",
       "      <td>The shit you hear about me might be true or i...</td>\n",
       "    </tr>\n",
       "  </tbody>\n",
       "</table>\n",
       "</div>"
      ],
      "text/plain": [
       "   count  hate_speech  offensive_language  neither  class  \\\n",
       "0      3            0                   0        3      2   \n",
       "1      3            0                   3        0      1   \n",
       "2      3            0                   3        0      1   \n",
       "3      3            0                   2        1      1   \n",
       "4      6            0                   6        0      1   \n",
       "\n",
       "                                               tweet  \n",
       "0   As a woman you shouldn't complain about clean...  \n",
       "1   boy dats cold...tyga dwn bad for cuffin dat h...  \n",
       "2   You ever fuck a bitch and she start to cry? Y...  \n",
       "3                 @viva_based she look like a tranny  \n",
       "4   The shit you hear about me might be true or i...  "
      ]
     },
     "execution_count": 52,
     "metadata": {},
     "output_type": "execute_result"
    }
   ],
   "source": [
    "# Tensorboard initialization\n",
    "writer = SummaryWriter(log_dir=\"./logs\")\n",
    "\n",
    "def parse_tweets_until_colon(data):\n",
    "    parsed_tweets = []\n",
    "    for tweet in data['tweet']:\n",
    "        colon_index = tweet.find(':')\n",
    "        if colon_index != -1:\n",
    "            parsed_tweets.append(tweet[colon_index + 1:])\n",
    "        else:\n",
    "            parsed_tweets.append(tweet)\n",
    "    return parsed_tweets\n",
    "\n",
    "data = pd.read_csv('labeled_data.csv')\n",
    "data = data.drop(columns='Unnamed: 0')\n",
    "data['tweet'] = parse_tweets_until_colon(data)\n",
    "\n",
    "data.head()"
   ]
  },
  {
   "cell_type": "markdown",
   "metadata": {},
   "source": [
    "# Text cleaning\n",
    "\n",
    "- <strong>Lowercasing</strong>: Convert all text to lowercase to ensure uniformity.\n",
    "- <strong>Removing Punctuation</strong>: Eliminate punctuation marks as they often don't carry much meaning in NLP tasks.\n",
    "- <strong>Removing Special Characters</strong>: Remove special characters, emojis, URLs, etc., which may not contribute to the task at hand.\n",
    "- <strong>Removing Stopwords</strong>: Stopwords are common words (e.g., \"the\", \"is\", \"and\") that occur frequently but often carry little information. Removing them can reduce noise in the data."
   ]
  },
  {
   "cell_type": "code",
   "execution_count": 53,
   "metadata": {},
   "outputs": [
    {
     "name": "stderr",
     "output_type": "stream",
     "text": [
      "[nltk_data] Downloading package stopwords to /home/manuz/nltk_data...\n",
      "[nltk_data]   Package stopwords is already up-to-date!\n",
      "[nltk_data] Downloading package punkt to /home/manuz/nltk_data...\n",
      "[nltk_data]   Package punkt is already up-to-date!\n",
      "[nltk_data] Downloading package wordnet to /home/manuz/nltk_data...\n",
      "[nltk_data]   Package wordnet is already up-to-date!\n"
     ]
    },
    {
     "data": {
      "text/html": [
       "<div>\n",
       "<style scoped>\n",
       "    .dataframe tbody tr th:only-of-type {\n",
       "        vertical-align: middle;\n",
       "    }\n",
       "\n",
       "    .dataframe tbody tr th {\n",
       "        vertical-align: top;\n",
       "    }\n",
       "\n",
       "    .dataframe thead th {\n",
       "        text-align: right;\n",
       "    }\n",
       "</style>\n",
       "<table border=\"1\" class=\"dataframe\">\n",
       "  <thead>\n",
       "    <tr style=\"text-align: right;\">\n",
       "      <th></th>\n",
       "      <th>count</th>\n",
       "      <th>hate_speech</th>\n",
       "      <th>offensive_language</th>\n",
       "      <th>neither</th>\n",
       "      <th>class</th>\n",
       "      <th>tweet</th>\n",
       "    </tr>\n",
       "  </thead>\n",
       "  <tbody>\n",
       "    <tr>\n",
       "      <th>0</th>\n",
       "      <td>3</td>\n",
       "      <td>0</td>\n",
       "      <td>0</td>\n",
       "      <td>3</td>\n",
       "      <td>2</td>\n",
       "      <td>woman shouldnt complain clean hous amp man alw...</td>\n",
       "    </tr>\n",
       "    <tr>\n",
       "      <th>1</th>\n",
       "      <td>3</td>\n",
       "      <td>0</td>\n",
       "      <td>3</td>\n",
       "      <td>0</td>\n",
       "      <td>1</td>\n",
       "      <td>boy dat coldtyga dwn bad cuffin dat hoe st place</td>\n",
       "    </tr>\n",
       "    <tr>\n",
       "      <th>2</th>\n",
       "      <td>3</td>\n",
       "      <td>0</td>\n",
       "      <td>3</td>\n",
       "      <td>0</td>\n",
       "      <td>1</td>\n",
       "      <td>ever fuck bitch start cri confus shit</td>\n",
       "    </tr>\n",
       "    <tr>\n",
       "      <th>3</th>\n",
       "      <td>3</td>\n",
       "      <td>0</td>\n",
       "      <td>2</td>\n",
       "      <td>1</td>\n",
       "      <td>1</td>\n",
       "      <td>viva_bas look like tranni</td>\n",
       "    </tr>\n",
       "    <tr>\n",
       "      <th>4</th>\n",
       "      <td>6</td>\n",
       "      <td>0</td>\n",
       "      <td>6</td>\n",
       "      <td>0</td>\n",
       "      <td>1</td>\n",
       "      <td>shit hear might true might faker bitch told ya</td>\n",
       "    </tr>\n",
       "  </tbody>\n",
       "</table>\n",
       "</div>"
      ],
      "text/plain": [
       "   count  hate_speech  offensive_language  neither  class  \\\n",
       "0      3            0                   0        3      2   \n",
       "1      3            0                   3        0      1   \n",
       "2      3            0                   3        0      1   \n",
       "3      3            0                   2        1      1   \n",
       "4      6            0                   6        0      1   \n",
       "\n",
       "                                               tweet  \n",
       "0  woman shouldnt complain clean hous amp man alw...  \n",
       "1   boy dat coldtyga dwn bad cuffin dat hoe st place  \n",
       "2              ever fuck bitch start cri confus shit  \n",
       "3                          viva_bas look like tranni  \n",
       "4     shit hear might true might faker bitch told ya  "
      ]
     },
     "execution_count": 53,
     "metadata": {},
     "output_type": "execute_result"
    }
   ],
   "source": [
    "nltk.download(\"stopwords\")\n",
    "nltk.download(\"punkt\")\n",
    "nltk.download(\"wordnet\")\n",
    "\n",
    "def clean_text(data):\n",
    "    cleaned_tweets = []\n",
    "    for tweet in data:\n",
    "        tweet = tweet.lower()  # Convert text to lowercase\n",
    "        tweet = re.sub(r\"[^\\w\\s]\", \"\", tweet)  # Remove punctuation\n",
    "        tweet = re.sub(r\"\\d+\", \"\", tweet)  # Remove numbers\n",
    "        tweet = re.sub(r\"\\s+\", \" \", tweet).strip()  # Remove extra whitespaces\n",
    "        cleaned_tweets.append(tweet)\n",
    "    return cleaned_tweets\n",
    "\n",
    "def remove_stopwords(data):\n",
    "    nostopwords_tweets = []\n",
    "    for tweet in data:\n",
    "        tokens = word_tokenize(tweet)  # Tokenize text\n",
    "        stop_words = set(stopwords.words(\"english\"))\n",
    "        filtered_tokens = [word for word in tokens if word not in stop_words]  # Remove stopwords\n",
    "        filtered_text = \" \".join(filtered_tokens)  # Join tokens back into a string\n",
    "        nostopwords_tweets.append(filtered_text)\n",
    "    return nostopwords_tweets\n",
    "\n",
    "def apply_stemming(data):\n",
    "    stemmer = PorterStemmer()\n",
    "    stemmed_tweets = []\n",
    "    for tweet in data:\n",
    "        tokens = word_tokenize(tweet)  # Tokenize text\n",
    "        stemmed_tokens = [stemmer.stem(token) for token in tokens]  # Apply stemming\n",
    "        stemmed_text = \" \".join(stemmed_tokens)  # Join tokens back into a string\n",
    "        stemmed_tweets.append(stemmed_text)\n",
    "    return stemmed_tweets\n",
    "\n",
    "def apply_lemmatization(data):\n",
    "    lemmatizer = WordNetLemmatizer()\n",
    "    lemmatized_tweets = []\n",
    "    for tweet in data:\n",
    "        tokens = word_tokenize(tweet)  # Tokenize text\n",
    "        lemmatized_tokens = [lemmatizer.lemmatize(token) for token in tokens]  # Apply lemmatization\n",
    "        lemmatized_text = \" \".join(lemmatized_tokens)  # Join tokens back into a string\n",
    "        lemmatized_tweets.append(lemmatized_text)\n",
    "    return lemmatized_tweets\n",
    "\n",
    "data[\"tweet\"] = clean_text(data[\"tweet\"])\n",
    "data[\"tweet\"] = remove_stopwords(data[\"tweet\"])\n",
    "data[\"tweet\"] = apply_stemming(data[\"tweet\"])\n",
    "data[\"tweet\"] = apply_lemmatization(data[\"tweet\"])\n",
    "\n",
    "data.head()"
   ]
  },
  {
   "cell_type": "markdown",
   "metadata": {},
   "source": [
    "## Split training/test set\n",
    "\n",
    "- 80% → training set\n",
    "- 20% → test set"
   ]
  },
  {
   "cell_type": "code",
   "execution_count": 59,
   "metadata": {},
   "outputs": [],
   "source": [
    "X_train, X_test, y_train, y_test = train_test_split(data[\"tweet\"], data[\"class\"], test_size=0.2, random_state=37)"
   ]
  },
  {
   "cell_type": "markdown",
   "metadata": {},
   "source": [
    "# Model initialization\n"
   ]
  },
  {
   "cell_type": "code",
   "execution_count": 60,
   "metadata": {},
   "outputs": [
    {
     "name": "stderr",
     "output_type": "stream",
     "text": [
      "Some weights of BertForSequenceClassification were not initialized from the model checkpoint at bert-base-uncased and are newly initialized: ['classifier.bias', 'classifier.weight']\n",
      "You should probably TRAIN this model on a down-stream task to be able to use it for predictions and inference.\n"
     ]
    }
   ],
   "source": [
    "device = torch.device(\"cuda\" if torch.cuda.is_available() else \"cpu\")\n",
    "\n",
    "# GPT-2\n",
    "tokenizer_gpt2 = GPT2Tokenizer.from_pretrained('gpt2')\n",
    "tokenizer_gpt2.pad_token = tokenizer_gpt2.eos_token  # Set padding token to eos_token\n",
    "\n",
    "model_config_gpt2 = GPT2Config.from_pretrained('gpt2', num_labels=3, pad_token_id=tokenizer_gpt2.pad_token_id)\n",
    "model_gpt2 = GPT2ForSequenceClassification(model_config_gpt2).to(device)\n",
    "\n",
    "#BERT\n",
    "tokenizer_bert = BertTokenizer.from_pretrained('bert-base-uncased')\n",
    "model_bert = BertForSequenceClassification.from_pretrained('bert-base-uncased', num_labels=3).to(device)\n",
    "\n",
    "#LOGISTIC REGRESSION\n",
    "vectorizer = CountVectorizer()\n",
    "\n",
    "# Fit and transform the data\n",
    "X_train_vect = vectorizer.fit_transform(X_train)\n",
    "X_test_vect = vectorizer.transform(X_test)"
   ]
  },
  {
   "cell_type": "markdown",
   "metadata": {},
   "source": [
    "# ML: Logistic Regression"
   ]
  },
  {
   "cell_type": "code",
   "execution_count": 61,
   "metadata": {},
   "outputs": [
    {
     "name": "stdout",
     "output_type": "stream",
     "text": [
      "Best params: {'C': 1, 'max_iter': 10000, 'penalty': 'l2', 'solver': 'lbfgs'}\n",
      "Accuracy: 0.884\n",
      "Precision: 0.872\n",
      "Recall: 0.884\n",
      "F1 Score: 0.876\n",
      "Confusion Matrix:\n",
      " [[  66  180   24]\n",
      " [  75 3684   95]\n",
      " [   7  192  634]]\n",
      "Classification Report:\n",
      "              precision    recall  f1-score   support\n",
      "\n",
      "     class 0       0.45      0.24      0.32       270\n",
      "     class 1       0.91      0.96      0.93      3854\n",
      "     class 2       0.84      0.76      0.80       833\n",
      "\n",
      "    accuracy                           0.88      4957\n",
      "   macro avg       0.73      0.65      0.68      4957\n",
      "weighted avg       0.87      0.88      0.88      4957\n",
      "\n",
      "Normalized confusion matrix\n"
     ]
    },
    {
     "data": {
      "image/png": "[encoded data removed]",
      "text/plain": [
       "<Figure size 2880x720 with 2 Axes>"
      ]
     },
     "metadata": {},
     "output_type": "display_data"
    },
    {
     "data": {
      "text/plain": [
       "array([[0.24444444, 0.66666667, 0.08888889],\n",
       "       [0.0194603 , 0.95588998, 0.02464971],\n",
       "       [0.00840336, 0.2304922 , 0.76110444]])"
      ]
     },
     "execution_count": 61,
     "metadata": {},
     "output_type": "execute_result"
    }
   ],
   "source": [
    "logreg = LogisticRegression(n_jobs=1, C=1e5)\n",
    "\n",
    "# Define the parameter grid\n",
    "param_grid = {\n",
    "    'C': [0.01, 0.1, 1, 10, 100],\n",
    "    'penalty': ['l2'],\n",
    "    'solver': ['saga', 'sag', 'newton-cg', 'lbfgs'],\n",
    "    'max_iter': [10000]\n",
    "}\n",
    "\n",
    "\n",
    "# Perform GridSearchCV\n",
    "grid_search = GridSearchCV(logreg, param_grid, cv=5, n_jobs=-1)\n",
    "\n",
    "# Fit the grid search on the scaled training data\n",
    "grid_search.fit(X_train_vect, y_train)\n",
    "\n",
    "# Get the best model\n",
    "best_logreg = grid_search.best_estimator_\n",
    "\n",
    "# Evaluate the best model on the test set\n",
    "logreg_pred = best_logreg.predict(X_test_vect)\n",
    "#print(\"{} \\n\\n\".format(X_test_vect))\n",
    "# Print the best parameters and accuracy\n",
    "print(\"Best params: {}\".format(grid_search.best_params_))\n",
    "print('Accuracy: {:.3f}'.format(accuracy_score(logreg_pred, y_test)))\n",
    "\n",
    "# Save the best Logistic Regression model\n",
    "dump(best_logreg, 'LogisticRegression_model.joblib')\n",
    "\n",
    "# Analysis\n",
    "precision = precision_score(y_test, logreg_pred, average='weighted')\n",
    "recall = recall_score(y_test, logreg_pred, average='weighted')\n",
    "f1 = f1_score(y_test, logreg_pred, average='weighted')\n",
    "conf_matrix = confusion_matrix(y_test, logreg_pred)\n",
    "\n",
    "classes = sorted(set(y_test))\n",
    "\n",
    "print(\"Precision: {:.3f}\".format(precision))\n",
    "print(\"Recall: {:.3f}\".format(recall))\n",
    "print(\"F1 Score: {:.3f}\".format(f1))\n",
    "print(\"Confusion Matrix:\\n\", conf_matrix)\n",
    "\n",
    "# Plot confusion matrix\n",
    "print(\"Classification Report:\")\n",
    "print(classification_report(y_test, logreg_pred, target_names=['class 0', 'class 1', 'class 2']))\n",
    "plot_confusion_matrix(y_true = y_test, y_pred = logreg_pred, classes=[0, 1, 2], normalize=True, magnify=0.1, use_title=\"Confusion Matrix - Logistic Regression\")"
   ]
  },
  {
   "cell_type": "markdown",
   "metadata": {},
   "source": [
    "# GPT-2\n",
    "\n",
    "The OpenAI GPT-2 (Generative Pre-Trained Transformer 2) is a transfomer-based language model. It's a standard model for NLP tasks."
   ]
  },
  {
   "cell_type": "code",
   "execution_count": 10,
   "metadata": {},
   "outputs": [
    {
     "name": "stdout",
     "output_type": "stream",
     "text": [
      "Starting training: epochs - 3, lr - 1e-05, batch size - 32\n"
     ]
    },
    {
     "data": {
      "application/vnd.jupyter.widget-view+json": {
       "model_id": "460289cd0b8849c7adcf99237464a2e8",
       "version_major": 2,
       "version_minor": 0
      },
      "text/plain": [
       "  0%|          | 0/3 [00:00<?, ?it/s]"
      ]
     },
     "metadata": {},
     "output_type": "display_data"
    },
    {
     "name": "stdout",
     "output_type": "stream",
     "text": [
      "Epoch 1: Average Loss: 0.4666576202357969\n",
      "Epoch 2: Average Loss: 0.31535104067335207\n",
      "Epoch 3: Average Loss: 0.2527648022398353\n",
      "Training complete: epochs - 3, lr - 1e-05, batch size - 32\n",
      "Starting training: epochs - 3, lr - 2e-05, batch size - 32\n"
     ]
    },
    {
     "data": {
      "application/vnd.jupyter.widget-view+json": {
       "model_id": "56925a567e8e46f2afe32f48f0fa044c",
       "version_major": 2,
       "version_minor": 0
      },
      "text/plain": [
       "  0%|          | 0/3 [00:00<?, ?it/s]"
      ]
     },
     "metadata": {},
     "output_type": "display_data"
    },
    {
     "name": "stdout",
     "output_type": "stream",
     "text": [
      "Epoch 1: Average Loss: 0.4327464167629519\n",
      "Epoch 2: Average Loss: 0.2959613393511503\n",
      "Epoch 3: Average Loss: 0.2362463475144919\n",
      "Training complete: epochs - 3, lr - 2e-05, batch size - 32\n",
      "Starting training: epochs - 3, lr - 5e-05, batch size - 32\n"
     ]
    },
    {
     "data": {
      "application/vnd.jupyter.widget-view+json": {
       "model_id": "6e4f29a71aa7426f954b9b1dde142f3a",
       "version_major": 2,
       "version_minor": 0
      },
      "text/plain": [
       "  0%|          | 0/3 [00:00<?, ?it/s]"
      ]
     },
     "metadata": {},
     "output_type": "display_data"
    },
    {
     "name": "stdout",
     "output_type": "stream",
     "text": [
      "Epoch 1: Average Loss: 0.4394380470076876\n",
      "Epoch 2: Average Loss: 0.2733584694023575\n",
      "Epoch 3: Average Loss: 0.1888421480844338\n",
      "Training complete: epochs - 3, lr - 5e-05, batch size - 32\n",
      "Starting training: epochs - 4, lr - 1e-05, batch size - 32\n"
     ]
    },
    {
     "data": {
      "application/vnd.jupyter.widget-view+json": {
       "model_id": "233ec6e700e94136aa02ba8e7097c14f",
       "version_major": 2,
       "version_minor": 0
      },
      "text/plain": [
       "  0%|          | 0/4 [00:00<?, ?it/s]"
      ]
     },
     "metadata": {},
     "output_type": "display_data"
    },
    {
     "name": "stdout",
     "output_type": "stream",
     "text": [
      "Epoch 1: Average Loss: 0.459380547798449\n",
      "Epoch 2: Average Loss: 0.31325811776783197\n",
      "Epoch 3: Average Loss: 0.25367461268699937\n",
      "Epoch 4: Average Loss: 0.19913027522364452\n",
      "Training complete: epochs - 4, lr - 1e-05, batch size - 32\n",
      "Starting training: epochs - 4, lr - 2e-05, batch size - 32\n"
     ]
    },
    {
     "data": {
      "application/vnd.jupyter.widget-view+json": {
       "model_id": "bad4720a4cd24a8e850ed6530702d5bd",
       "version_major": 2,
       "version_minor": 0
      },
      "text/plain": [
       "  0%|          | 0/4 [00:00<?, ?it/s]"
      ]
     },
     "metadata": {},
     "output_type": "display_data"
    },
    {
     "name": "stdout",
     "output_type": "stream",
     "text": [
      "Epoch 1: Average Loss: 0.4320656385693339\n",
      "Epoch 2: Average Loss: 0.29288863858147973\n",
      "Epoch 3: Average Loss: 0.22426130080956125\n",
      "Epoch 4: Average Loss: 0.16300899141633343\n",
      "Training complete: epochs - 4, lr - 2e-05, batch size - 32\n",
      "Starting training: epochs - 4, lr - 5e-05, batch size - 32\n"
     ]
    },
    {
     "data": {
      "application/vnd.jupyter.widget-view+json": {
       "model_id": "00d6874e7f544676a00b3c57781176b9",
       "version_major": 2,
       "version_minor": 0
      },
      "text/plain": [
       "  0%|          | 0/4 [00:00<?, ?it/s]"
      ]
     },
     "metadata": {},
     "output_type": "display_data"
    },
    {
     "name": "stdout",
     "output_type": "stream",
     "text": [
      "Epoch 1: Average Loss: 0.45245850454535214\n",
      "Epoch 2: Average Loss: 0.27091778281835777\n",
      "Epoch 3: Average Loss: 0.18412678253145948\n",
      "Epoch 4: Average Loss: 0.10639805674305065\n",
      "Training complete: epochs - 4, lr - 5e-05, batch size - 32\n",
      "Starting training: epochs - 5, lr - 1e-05, batch size - 32\n"
     ]
    },
    {
     "data": {
      "application/vnd.jupyter.widget-view+json": {
       "model_id": "f0b2faa198914b2da945ba3f79435f29",
       "version_major": 2,
       "version_minor": 0
      },
      "text/plain": [
       "  0%|          | 0/5 [00:00<?, ?it/s]"
      ]
     },
     "metadata": {},
     "output_type": "display_data"
    },
    {
     "name": "stdout",
     "output_type": "stream",
     "text": [
      "Epoch 1: Average Loss: 0.4577102864221219\n",
      "Epoch 2: Average Loss: 0.3139476363396933\n",
      "Epoch 3: Average Loss: 0.25284547757717873\n",
      "Epoch 4: Average Loss: 0.20249399232768242\n",
      "Epoch 5: Average Loss: 0.14698416335102651\n",
      "Training complete: epochs - 5, lr - 1e-05, batch size - 32\n",
      "Starting training: epochs - 5, lr - 2e-05, batch size - 32\n"
     ]
    },
    {
     "data": {
      "application/vnd.jupyter.widget-view+json": {
       "model_id": "65b57db4326c4e2ca9817b93bd486e43",
       "version_major": 2,
       "version_minor": 0
      },
      "text/plain": [
       "  0%|          | 0/5 [00:00<?, ?it/s]"
      ]
     },
     "metadata": {},
     "output_type": "display_data"
    },
    {
     "name": "stdout",
     "output_type": "stream",
     "text": [
      "Epoch 1: Average Loss: 0.4405756922378655\n",
      "Epoch 2: Average Loss: 0.29628168930329624\n",
      "Epoch 3: Average Loss: 0.23263936815783381\n",
      "Epoch 4: Average Loss: 0.1684115221859106\n",
      "Epoch 5: Average Loss: 0.11240873173435008\n",
      "Training complete: epochs - 5, lr - 2e-05, batch size - 32\n",
      "Starting training: epochs - 5, lr - 5e-05, batch size - 32\n"
     ]
    },
    {
     "data": {
      "application/vnd.jupyter.widget-view+json": {
       "model_id": "54e912507ff044b185ccb5eccfed53c5",
       "version_major": 2,
       "version_minor": 0
      },
      "text/plain": [
       "  0%|          | 0/5 [00:00<?, ?it/s]"
      ]
     },
     "metadata": {},
     "output_type": "display_data"
    },
    {
     "name": "stdout",
     "output_type": "stream",
     "text": [
      "Epoch 1: Average Loss: 0.46557165588582716\n",
      "Epoch 2: Average Loss: 0.2733691209206177\n",
      "Epoch 3: Average Loss: 0.18510632945464983\n",
      "Epoch 4: Average Loss: 0.11188181898361373\n",
      "Epoch 5: Average Loss: 0.0639164261671061\n",
      "Training complete: epochs - 5, lr - 5e-05, batch size - 32\n",
      "Starting training: epochs - 3, lr - 1e-05, batch size - 64\n"
     ]
    },
    {
     "data": {
      "application/vnd.jupyter.widget-view+json": {
       "model_id": "f2f29d612ab84b148d19776b53d87579",
       "version_major": 2,
       "version_minor": 0
      },
      "text/plain": [
       "  0%|          | 0/3 [00:00<?, ?it/s]"
      ]
     },
     "metadata": {},
     "output_type": "display_data"
    },
    {
     "name": "stdout",
     "output_type": "stream",
     "text": [
      "Epoch 1: Average Loss: 0.48827568840595986\n",
      "Epoch 2: Average Loss: 0.3266363963484764\n",
      "Epoch 3: Average Loss: 0.2599844251909564\n",
      "Training complete: epochs - 3, lr - 1e-05, batch size - 64\n",
      "Starting training: epochs - 3, lr - 2e-05, batch size - 64\n"
     ]
    },
    {
     "data": {
      "application/vnd.jupyter.widget-view+json": {
       "model_id": "58845457119e4eb69c2877b58cdde35d",
       "version_major": 2,
       "version_minor": 0
      },
      "text/plain": [
       "  0%|          | 0/3 [00:00<?, ?it/s]"
      ]
     },
     "metadata": {},
     "output_type": "display_data"
    },
    {
     "name": "stdout",
     "output_type": "stream",
     "text": [
      "Epoch 1: Average Loss: 0.4814954192888352\n",
      "Epoch 2: Average Loss: 0.2998685600536485\n",
      "Epoch 3: Average Loss: 0.23603386273307184\n",
      "Training complete: epochs - 3, lr - 2e-05, batch size - 64\n",
      "Starting training: epochs - 3, lr - 5e-05, batch size - 64\n"
     ]
    },
    {
     "data": {
      "application/vnd.jupyter.widget-view+json": {
       "model_id": "949e6346d47042f8bd7f9fc0674fd440",
       "version_major": 2,
       "version_minor": 0
      },
      "text/plain": [
       "  0%|          | 0/3 [00:00<?, ?it/s]"
      ]
     },
     "metadata": {},
     "output_type": "display_data"
    },
    {
     "name": "stdout",
     "output_type": "stream",
     "text": [
      "Epoch 1: Average Loss: 0.5536418554282958\n",
      "Epoch 2: Average Loss: 0.28821442540614833\n",
      "Epoch 3: Average Loss: 0.193326653095503\n",
      "Training complete: epochs - 3, lr - 5e-05, batch size - 64\n",
      "Starting training: epochs - 4, lr - 1e-05, batch size - 64\n"
     ]
    },
    {
     "data": {
      "application/vnd.jupyter.widget-view+json": {
       "model_id": "ed9bd9a9adaf482ea88e1b07d0be4157",
       "version_major": 2,
       "version_minor": 0
      },
      "text/plain": [
       "  0%|          | 0/4 [00:00<?, ?it/s]"
      ]
     },
     "metadata": {},
     "output_type": "display_data"
    },
    {
     "name": "stdout",
     "output_type": "stream",
     "text": [
      "Epoch 1: Average Loss: 0.49213100638120405\n",
      "Epoch 2: Average Loss: 0.3271653533462555\n",
      "Epoch 3: Average Loss: 0.2628895026301184\n",
      "Epoch 4: Average Loss: 0.19982548621032506\n",
      "Training complete: epochs - 4, lr - 1e-05, batch size - 64\n",
      "Starting training: epochs - 4, lr - 2e-05, batch size - 64\n"
     ]
    },
    {
     "data": {
      "application/vnd.jupyter.widget-view+json": {
       "model_id": "f0cb64affdc5484a9d19f014c74846e1",
       "version_major": 2,
       "version_minor": 0
      },
      "text/plain": [
       "  0%|          | 0/4 [00:00<?, ?it/s]"
      ]
     },
     "metadata": {},
     "output_type": "display_data"
    },
    {
     "name": "stdout",
     "output_type": "stream",
     "text": [
      "Epoch 1: Average Loss: 0.4599138166635267\n",
      "Epoch 2: Average Loss: 0.3030246488269298\n",
      "Epoch 3: Average Loss: 0.2371575276217153\n",
      "Epoch 4: Average Loss: 0.18014133686740552\n",
      "Training complete: epochs - 4, lr - 2e-05, batch size - 64\n",
      "Starting training: epochs - 4, lr - 5e-05, batch size - 64\n"
     ]
    },
    {
     "data": {
      "application/vnd.jupyter.widget-view+json": {
       "model_id": "24d50e202e814dad9700b02f5899a585",
       "version_major": 2,
       "version_minor": 0
      },
      "text/plain": [
       "  0%|          | 0/4 [00:00<?, ?it/s]"
      ]
     },
     "metadata": {},
     "output_type": "display_data"
    },
    {
     "name": "stdout",
     "output_type": "stream",
     "text": [
      "Epoch 1: Average Loss: 0.5025125026222198\n",
      "Epoch 2: Average Loss: 0.281110830965542\n",
      "Epoch 3: Average Loss: 0.1966168788411925\n",
      "Epoch 4: Average Loss: 0.12428522583457731\n",
      "Training complete: epochs - 4, lr - 5e-05, batch size - 64\n",
      "Starting training: epochs - 5, lr - 1e-05, batch size - 64\n"
     ]
    },
    {
     "data": {
      "application/vnd.jupyter.widget-view+json": {
       "model_id": "34c0beaf707f46f4a21184f27eec06fd",
       "version_major": 2,
       "version_minor": 0
      },
      "text/plain": [
       "  0%|          | 0/5 [00:00<?, ?it/s]"
      ]
     },
     "metadata": {},
     "output_type": "display_data"
    },
    {
     "name": "stdout",
     "output_type": "stream",
     "text": [
      "Epoch 1: Average Loss: 0.4900239372926374\n",
      "Epoch 2: Average Loss: 0.3270774746854459\n",
      "Epoch 3: Average Loss: 0.2593597021795088\n",
      "Epoch 4: Average Loss: 0.20295808762311934\n",
      "Epoch 5: Average Loss: 0.15336644375516523\n",
      "Training complete: epochs - 5, lr - 1e-05, batch size - 64\n",
      "Starting training: epochs - 5, lr - 2e-05, batch size - 64\n"
     ]
    },
    {
     "data": {
      "application/vnd.jupyter.widget-view+json": {
       "model_id": "d74904e0990f4e9f8423d82a6548876f",
       "version_major": 2,
       "version_minor": 0
      },
      "text/plain": [
       "  0%|          | 0/5 [00:00<?, ?it/s]"
      ]
     },
     "metadata": {},
     "output_type": "display_data"
    },
    {
     "name": "stdout",
     "output_type": "stream",
     "text": [
      "Epoch 1: Average Loss: 0.47172245561115206\n",
      "Epoch 2: Average Loss: 0.30429753879866295\n",
      "Epoch 3: Average Loss: 0.23974873225294774\n",
      "Epoch 4: Average Loss: 0.18162433199824826\n",
      "Epoch 5: Average Loss: 0.13104490430484855\n",
      "Training complete: epochs - 5, lr - 2e-05, batch size - 64\n",
      "Starting training: epochs - 5, lr - 5e-05, batch size - 64\n"
     ]
    },
    {
     "data": {
      "application/vnd.jupyter.widget-view+json": {
       "model_id": "45d179095cbe44d8a14359378824cdd3",
       "version_major": 2,
       "version_minor": 0
      },
      "text/plain": [
       "  0%|          | 0/5 [00:00<?, ?it/s]"
      ]
     },
     "metadata": {},
     "output_type": "display_data"
    },
    {
     "name": "stdout",
     "output_type": "stream",
     "text": [
      "Epoch 1: Average Loss: 0.5431735965994097\n",
      "Epoch 2: Average Loss: 0.28907041999120864\n",
      "Epoch 3: Average Loss: 0.19890625839752535\n",
      "Epoch 4: Average Loss: 0.123128404107786\n",
      "Epoch 5: Average Loss: 0.07389133282216086\n",
      "Training complete: epochs - 5, lr - 5e-05, batch size - 64\n",
      "Starting training: epochs - 3, lr - 1e-05, batch size - 128\n"
     ]
    },
    {
     "data": {
      "application/vnd.jupyter.widget-view+json": {
       "model_id": "228a29f2a0ed442dac3dc4d4665c3c64",
       "version_major": 2,
       "version_minor": 0
      },
      "text/plain": [
       "  0%|          | 0/3 [00:00<?, ?it/s]"
      ]
     },
     "metadata": {},
     "output_type": "display_data"
    },
    {
     "name": "stdout",
     "output_type": "stream",
     "text": [
      "Epoch 1: Average Loss: 0.5246379596571769\n",
      "Epoch 2: Average Loss: 0.3455384559208347\n",
      "Epoch 3: Average Loss: 0.2759916256512365\n",
      "Training complete: epochs - 3, lr - 1e-05, batch size - 128\n",
      "Starting training: epochs - 3, lr - 2e-05, batch size - 128\n"
     ]
    },
    {
     "data": {
      "application/vnd.jupyter.widget-view+json": {
       "model_id": "e67bd0d49a7642119c8be9763101e8d1",
       "version_major": 2,
       "version_minor": 0
      },
      "text/plain": [
       "  0%|          | 0/3 [00:00<?, ?it/s]"
      ]
     },
     "metadata": {},
     "output_type": "display_data"
    },
    {
     "name": "stdout",
     "output_type": "stream",
     "text": [
      "Epoch 1: Average Loss: 0.5431431306946662\n",
      "Epoch 2: Average Loss: 0.3311563141884342\n",
      "Epoch 3: Average Loss: 0.2589511995834689\n",
      "Training complete: epochs - 3, lr - 2e-05, batch size - 128\n",
      "Starting training: epochs - 3, lr - 5e-05, batch size - 128\n"
     ]
    },
    {
     "data": {
      "application/vnd.jupyter.widget-view+json": {
       "model_id": "40a2cf501f054d74acedfc47c766b7da",
       "version_major": 2,
       "version_minor": 0
      },
      "text/plain": [
       "  0%|          | 0/3 [00:00<?, ?it/s]"
      ]
     },
     "metadata": {},
     "output_type": "display_data"
    },
    {
     "name": "stdout",
     "output_type": "stream",
     "text": [
      "Epoch 1: Average Loss: 0.6442685627168224\n",
      "Epoch 2: Average Loss: 0.32695223150714753\n",
      "Epoch 3: Average Loss: 0.23173122953984046\n",
      "Training complete: epochs - 3, lr - 5e-05, batch size - 128\n",
      "Starting training: epochs - 4, lr - 1e-05, batch size - 128\n"
     ]
    },
    {
     "data": {
      "application/vnd.jupyter.widget-view+json": {
       "model_id": "e0dcf6f00a2d41b7a0884c34abf4d4aa",
       "version_major": 2,
       "version_minor": 0
      },
      "text/plain": [
       "  0%|          | 0/4 [00:00<?, ?it/s]"
      ]
     },
     "metadata": {},
     "output_type": "display_data"
    },
    {
     "name": "stdout",
     "output_type": "stream",
     "text": [
      "Epoch 1: Average Loss: 0.5126603601440307\n",
      "Epoch 2: Average Loss: 0.33868480670836665\n",
      "Epoch 3: Average Loss: 0.2733262458155232\n",
      "Epoch 4: Average Loss: 0.2133897352603174\n",
      "Training complete: epochs - 4, lr - 1e-05, batch size - 128\n",
      "Starting training: epochs - 4, lr - 2e-05, batch size - 128\n"
     ]
    },
    {
     "data": {
      "application/vnd.jupyter.widget-view+json": {
       "model_id": "3f8c2c323e234594926b89ba013a76f4",
       "version_major": 2,
       "version_minor": 0
      },
      "text/plain": [
       "  0%|          | 0/4 [00:00<?, ?it/s]"
      ]
     },
     "metadata": {},
     "output_type": "display_data"
    },
    {
     "name": "stdout",
     "output_type": "stream",
     "text": [
      "Epoch 1: Average Loss: 0.5762275009386001\n",
      "Epoch 2: Average Loss: 0.329463374326306\n",
      "Epoch 3: Average Loss: 0.25256059982122914\n",
      "Epoch 4: Average Loss: 0.1938086169861978\n",
      "Training complete: epochs - 4, lr - 2e-05, batch size - 128\n",
      "Starting training: epochs - 4, lr - 5e-05, batch size - 128\n"
     ]
    },
    {
     "data": {
      "application/vnd.jupyter.widget-view+json": {
       "model_id": "bfaf2c70f4014905984e504564525001",
       "version_major": 2,
       "version_minor": 0
      },
      "text/plain": [
       "  0%|          | 0/4 [00:00<?, ?it/s]"
      ]
     },
     "metadata": {},
     "output_type": "display_data"
    },
    {
     "name": "stdout",
     "output_type": "stream",
     "text": [
      "Epoch 1: Average Loss: 0.6235489120406489\n",
      "Epoch 2: Average Loss: 0.3157649081560873\n",
      "Epoch 3: Average Loss: 0.2208108796227363\n",
      "Epoch 4: Average Loss: 0.14262094327038335\n",
      "Training complete: epochs - 4, lr - 5e-05, batch size - 128\n",
      "Starting training: epochs - 5, lr - 1e-05, batch size - 128\n"
     ]
    },
    {
     "data": {
      "application/vnd.jupyter.widget-view+json": {
       "model_id": "cecff326c07f474c80e3e88be020bc5a",
       "version_major": 2,
       "version_minor": 0
      },
      "text/plain": [
       "  0%|          | 0/5 [00:00<?, ?it/s]"
      ]
     },
     "metadata": {},
     "output_type": "display_data"
    },
    {
     "name": "stdout",
     "output_type": "stream",
     "text": [
      "Epoch 1: Average Loss: 0.525117988163425\n",
      "Epoch 2: Average Loss: 0.34206558091025197\n",
      "Epoch 3: Average Loss: 0.26896427975546927\n",
      "Epoch 4: Average Loss: 0.21009603306170432\n",
      "Epoch 5: Average Loss: 0.14844024021538996\n",
      "Training complete: epochs - 5, lr - 1e-05, batch size - 128\n",
      "Starting training: epochs - 5, lr - 2e-05, batch size - 128\n"
     ]
    },
    {
     "data": {
      "application/vnd.jupyter.widget-view+json": {
       "model_id": "7dcc696481b745c2b7e5cfa703ba0e14",
       "version_major": 2,
       "version_minor": 0
      },
      "text/plain": [
       "  0%|          | 0/5 [00:00<?, ?it/s]"
      ]
     },
     "metadata": {},
     "output_type": "display_data"
    },
    {
     "name": "stdout",
     "output_type": "stream",
     "text": [
      "Epoch 1: Average Loss: 0.5761028705104705\n",
      "Epoch 2: Average Loss: 0.3295031671562502\n",
      "Epoch 3: Average Loss: 0.2577319760476389\n",
      "Epoch 4: Average Loss: 0.19507695936387584\n",
      "Epoch 5: Average Loss: 0.1408253732948534\n",
      "Training complete: epochs - 5, lr - 2e-05, batch size - 128\n",
      "Starting training: epochs - 5, lr - 5e-05, batch size - 128\n"
     ]
    },
    {
     "data": {
      "application/vnd.jupyter.widget-view+json": {
       "model_id": "040a6c470db64653923a22e29dcdca50",
       "version_major": 2,
       "version_minor": 0
      },
      "text/plain": [
       "  0%|          | 0/5 [00:00<?, ?it/s]"
      ]
     },
     "metadata": {},
     "output_type": "display_data"
    },
    {
     "name": "stdout",
     "output_type": "stream",
     "text": [
      "Epoch 1: Average Loss: 0.638664867993324\n",
      "Epoch 2: Average Loss: 0.3237379310592528\n",
      "Epoch 3: Average Loss: 0.22862926202435646\n",
      "Epoch 4: Average Loss: 0.1477069075790144\n",
      "Epoch 5: Average Loss: 0.08721262602916648\n",
      "Training complete: epochs - 5, lr - 5e-05, batch size - 128\n",
      "Parameter tuning phase ended. Best parameters: epochs - 3, batch size - 32, lr - 1e-05\n",
      "\n",
      "--- TRAINING WITH BEST PARAMETERS ---\n",
      "Starting training: epochs - 3, lr - 1e-05, batch size - 32\n"
     ]
    },
    {
     "name": "stderr",
     "output_type": "stream",
     "text": [
      "C:\\Users\\Eddy\\AppData\\Roaming\\Python\\Python312\\site-packages\\transformers\\optimization.py:457: FutureWarning: This implementation of AdamW is deprecated and will be removed in a future version. Use the PyTorch implementation torch.optim.AdamW instead, or set `no_deprecation_warning=True` to disable this warning\n",
      "  warnings.warn(\n"
     ]
    },
    {
     "data": {
      "application/vnd.jupyter.widget-view+json": {
       "model_id": "c24cdfd02b6f42d09617920b13b2fec3",
       "version_major": 2,
       "version_minor": 0
      },
      "text/plain": [
       "  0%|          | 0/3 [00:00<?, ?it/s]"
      ]
     },
     "metadata": {},
     "output_type": "display_data"
    },
    {
     "name": "stdout",
     "output_type": "stream",
     "text": [
      "Epoch 1: Average Loss: 0.4619572825729847\n",
      "Epoch 2: Average Loss: 0.31090536931709895\n",
      "Epoch 3: Average Loss: 0.2509695390269401\n",
      "Training complete: epochs - 3, lr - 1e-05, batch size - 32\n",
      "GPT-2 Accuracy: 0.8622150494250554\n"
     ]
    },
    {
     "name": "stderr",
     "output_type": "stream",
     "text": [
      "C:\\Users\\Eddy\\AppData\\Roaming\\Python\\Python312\\site-packages\\ml_things\\plot_functions.py:409: DeprecationWarning: `magnify` needs to have value in [0,1]! `1.2` will be converted to `0.1` as default.\n",
      "  warnings.warn(f'`magnify` needs to have value in [0,1]! `{magnify}` will be converted to `0.1` as default.',\n"
     ]
    },
    {
     "data": {
      "image/png": "[encoded data removed]",
      "text/plain": [
       "<Figure size 2880x720 with 1 Axes>"
      ]
     },
     "metadata": {},
     "output_type": "display_data"
    },
    {
     "name": "stderr",
     "output_type": "stream",
     "text": [
      "C:\\Users\\Eddy\\AppData\\Roaming\\Python\\Python312\\site-packages\\ml_things\\plot_functions.py:409: DeprecationWarning: `magnify` needs to have value in [0,1]! `1.2` will be converted to `0.1` as default.\n",
      "  warnings.warn(f'`magnify` needs to have value in [0,1]! `{magnify}` will be converted to `0.1` as default.',\n"
     ]
    },
    {
     "data": {
      "image/png": "[encoded data removed]",
      "text/plain": [
       "<Figure size 2880x720 with 1 Axes>"
      ]
     },
     "metadata": {},
     "output_type": "display_data"
    },
    {
     "name": "stdout",
     "output_type": "stream",
     "text": [
      "Classification Report:\n",
      "              precision    recall  f1-score   support\n",
      "\n",
      "     class 0       0.41      0.26      0.32       290\n",
      "     class 1       0.90      0.94      0.92      3832\n",
      "     class 2       0.77      0.72      0.75       835\n",
      "\n",
      "    accuracy                           0.86      4957\n",
      "   macro avg       0.70      0.64      0.66      4957\n",
      "weighted avg       0.85      0.86      0.85      4957\n",
      "\n",
      "Normalized confusion matrix\n"
     ]
    },
    {
     "data": {
      "image/png": "[encoded data removed]",
      "text/plain": [
       "<Figure size 2880x720 with 2 Axes>"
      ]
     },
     "metadata": {},
     "output_type": "display_data"
    },
    {
     "data": {
      "text/plain": [
       "array([[0.26206897, 0.63448276, 0.10344828],\n",
       "       [0.02400835, 0.93763048, 0.03836117],\n",
       "       [0.01916168, 0.25628743, 0.7245509 ]])"
      ]
     },
     "execution_count": 5,
     "metadata": {},
     "output_type": "execute_result"
    }
   ],
   "source": [
    "\n",
    "\n",
    "max_length = 32\n",
    "tokenized_texts_train = tokenizer_gpt2(list(X_train), padding=True, truncation=True, max_length=max_length, return_tensors='pt')\n",
    "tokenized_texts_test = tokenizer_gpt2(list(X_test), padding=True, truncation=True, max_length=max_length, return_tensors='pt')\n",
    "\n",
    "\n",
    "# Save tokenized data to disk\n",
    "torch.save(tokenized_texts_train, 'tokenized_texts_train_gpt2.pth')  \n",
    "torch.save(tokenized_texts_test, 'tokenized_texts_test_gpt2.pth')\n",
    "\n",
    "labels_train = torch.tensor(list(y_train)).to(device)\n",
    "labels_test = torch.tensor(list(y_test)).to(device)\n",
    "\n",
    "train_dataset_gpt2 = TensorDataset(tokenized_texts_train.input_ids, tokenized_texts_train.attention_mask, labels_train)\n",
    "test_dataset_gpt2 = TensorDataset(tokenized_texts_test.input_ids, tokenized_texts_test.attention_mask, labels_test)\n",
    "\n",
    "model_config_gpt2 = GPT2Config.from_pretrained('gpt2', num_labels=3, pad_token_id=tokenizer_gpt2.pad_token_id)\n",
    "\n",
    "def train_gpt2(model, epochs, lr, batch_size, device, save_model=False):\n",
    "    all_loss_gpt2 = {'train_loss':[], 'val_loss':[]}\n",
    "    all_acc_gpt2 = {'train_acc':[], 'val_acc':[]}\n",
    "    train_loader_gpt2 = DataLoader(train_dataset_gpt2, batch_size=batch_size, shuffle=True)\n",
    "    test_loader_gpt2 = DataLoader(test_dataset_gpt2, batch_size=batch_size, shuffle=False)\n",
    "    optimizer = AdamW(model.parameters(), lr=lr, no_deprecation_warning=True)\n",
    "    print(f\"Starting training: epochs - {epochs}, lr - {lr}, batch size - {batch_size}\")\n",
    "    model.train()\n",
    "    for epoch in tqdm(range(epochs)):\n",
    "        total_loss = 0\n",
    "        total_correct_train = 0\n",
    "        total_samples_train = 0\n",
    "        for batch in train_loader_gpt2:\n",
    "            input_ids, attention_mask, labels = batch\n",
    "            input_ids, attention_mask, labels = input_ids.to(device), attention_mask.to(device), labels.to(device)\n",
    "\n",
    "            optimizer.zero_grad()\n",
    "\n",
    "            outputs = model(input_ids=input_ids, attention_mask=attention_mask, labels=labels)\n",
    "\n",
    "            loss = outputs.loss\n",
    "            writer.add_scalar(\"Loss/train_gpt2\", loss, epoch)\n",
    "\n",
    "            total_loss += loss.item()\n",
    "\n",
    "            _, predicted_train = torch.max(outputs.logits, 1)\n",
    "            total_samples_train += labels.size(0)\n",
    "            total_correct_train += (predicted_train == labels).sum().item()\n",
    "\n",
    "            loss.backward()\n",
    "            optimizer.step()\n",
    "        print(f'Epoch {epoch + 1}: Average Loss: {total_loss / len(train_loader_gpt2)}')\n",
    "        all_loss_gpt2['train_loss'].append(total_loss / len(train_loader_gpt2))\n",
    "        all_acc_gpt2['train_acc'].append(total_correct_train / total_samples_train)\n",
    "        model.eval()\n",
    "        total_val_loss = 0\n",
    "        total_correct_val = 0\n",
    "        total_samples_val = 0\n",
    "        with torch.no_grad():\n",
    "            for batch in test_loader_gpt2:\n",
    "                input_ids, attention_mask, labels = batch\n",
    "                input_ids, attention_mask, labels = input_ids.to(device), attention_mask.to(device), labels.to(device)\n",
    "\n",
    "                outputs = model(input_ids=input_ids, attention_mask=attention_mask, labels=labels)\n",
    "                val_loss = outputs.loss\n",
    "\n",
    "                total_val_loss += val_loss.item()\n",
    "\n",
    "                _, predicted_val = torch.max(outputs.logits, 1)\n",
    "                total_samples_val += labels.size(0)\n",
    "                total_correct_val += (predicted_val == labels).sum().item()\n",
    "        \n",
    "        all_loss_gpt2['val_loss'].append(total_val_loss / len(test_loader_gpt2))\n",
    "        all_acc_gpt2['val_acc'].append(total_correct_val / total_samples_val)\n",
    "        writer.add_scalar(\"Loss/val_gpt2\", total_val_loss / len(test_loader_gpt2), epoch)\n",
    "\n",
    "        if save_model:\n",
    "            torch.save(model.state_dict(), 'gpt2_model.pth') # saving gpt-2 model\n",
    "        writer.flush()\n",
    "    print(f\"Training complete: epochs - {epochs}, lr - {lr}, batch size - {batch_size}\")\n",
    "    return model, all_loss_gpt2, all_acc_gpt2\n",
    "\n",
    "param_grid = {\n",
    "    'batch_size': [32, 64],\n",
    "    'epochs': [2, 3, 4],\n",
    "    'lr': [1e-5, 2e-5]\n",
    "}\n",
    "best_params = None\n",
    "best_accuracy = 0.0\n",
    "\n",
    "for batch_size in param_grid['batch_size']:\n",
    "    for epochs in param_grid['epochs']:\n",
    "        for lr in param_grid['lr']:\n",
    "            model_gpt2 = GPT2ForSequenceClassification(model_config_gpt2).to(device)\n",
    "            model_gpt2.resize_token_embeddings(len(tokenizer_gpt2))\n",
    "\n",
    "            model_gpt2, all_loss_gpt2, all_acc_gpt2 = train_gpt2(model=model_gpt2, epochs=epochs, batch_size=batch_size, lr=lr, device=device)\n",
    "\n",
    "            val_accuracy = all_acc_gpt2['val_acc'][-1]\n",
    "\n",
    "            if val_accuracy > best_accuracy:\n",
    "                best_accuracy = val_accuracy\n",
    "                best_params = {'batch_size': batch_size, 'epochs': epochs, 'lr': lr}\n",
    "\n",
    "best_batch_size = best_params['batch_size']\n",
    "best_epochs = best_params['epochs']\n",
    "best_learning_rate = best_params['lr']\n",
    "\n",
    "print(f\"Parameter tuning phase ended. Best parameters: epochs - {best_epochs}, batch size - {best_batch_size}, lr - {best_learning_rate}\")\n",
    "print(\"\\n--- TRAINING WITH BEST PARAMETERS ---\")\n",
    "# Train the model with the best parameters\n",
    "model_gpt2 = GPT2ForSequenceClassification(model_config_gpt2).to(device)\n",
    "model_gpt2.resize_token_embeddings(len(tokenizer_gpt2))\n",
    "optimizer_gpt2 = AdamW(model_gpt2.parameters(), lr=best_learning_rate)\n",
    "\n",
    "model_gpt2, all_loss_gpt2, all_acc_gpt2 = train_gpt2(model=model_gpt2,  epochs=best_epochs, batch_size=best_batch_size, lr=best_learning_rate, device=device, save_model=True)\n",
    "\n",
    "model_gpt2.eval()\n",
    "predicted_labels_gpt2 = []\n",
    "true_labels_gpt2 = []\n",
    "\n",
    "test_loader_gpt2 = DataLoader(test_dataset_gpt2, batch_size=best_batch_size, shuffle=False)\n",
    "\n",
    "with torch.no_grad():\n",
    "    for batch in test_loader_gpt2:\n",
    "        input_ids, attention_mask, labels = batch\n",
    "        input_ids, attention_mask, labels = input_ids.to(device), attention_mask.to(device), labels.to(device)\n",
    "\n",
    "        outputs = model_gpt2(input_ids=input_ids, attention_mask=attention_mask)\n",
    "        logits = outputs.logits\n",
    "\n",
    "        predicted_labels_gpt2.extend(torch.argmax(logits, axis=1).tolist()) #Extract the max logits value and convert from pytorch to a pyList\n",
    "        true_labels_gpt2.extend(labels.tolist())\n",
    "\n",
    "accuracy_gpt2 = accuracy_score(true_labels_gpt2, predicted_labels_gpt2)\n",
    "print(f'GPT-2 Accuracy: {accuracy_gpt2}')\n",
    "\n",
    "plot_dict(all_loss_gpt2, use_xlabel='Epochs', use_ylabel='Loss', use_linestyles=['-', '--'])\n",
    "plot_dict(all_acc_gpt2, use_xlabel='Epochs', use_ylabel='Accuracy', use_linestyles=['-', '--'])\n",
    "\n",
    "print(\"Classification Report:\")\n",
    "print(classification_report(true_labels_gpt2, predicted_labels_gpt2, target_names=['class 0', 'class 1', 'class 2']))\n",
    "\n",
    "plot_confusion_matrix(y_true=true_labels_gpt2, y_pred=predicted_labels_gpt2, classes=[0, 1, 2], normalize=True, magnify=0.1, use_title=\"Confusion Matrix - GPT-2\")"
   ]
  },
  {
   "cell_type": "markdown",
   "metadata": {},
   "source": [
    "# BERT\n",
    "\n",
    "BERT (Bidirectional Encoder Representations from Transformers) was developed by Google researchers."
   ]
  },
  {
   "cell_type": "code",
   "execution_count": 5,
   "metadata": {},
   "outputs": [
    {
     "ename": "NameError",
     "evalue": "name 'max_length' is not defined",
     "output_type": "error",
     "traceback": [
      "\u001b[1;31m---------------------------------------------------------------------------\u001b[0m",
      "\u001b[1;31mNameError\u001b[0m                                 Traceback (most recent call last)",
      "Cell \u001b[1;32mIn[5], line 3\u001b[0m\n\u001b[0;32m      1\u001b[0m tokenizer_bert \u001b[38;5;241m=\u001b[39m BertTokenizer\u001b[38;5;241m.\u001b[39mfrom_pretrained(\u001b[38;5;124m'\u001b[39m\u001b[38;5;124mbert-base-uncased\u001b[39m\u001b[38;5;124m'\u001b[39m)\n\u001b[1;32m----> 3\u001b[0m tokenized_texts_train_bert \u001b[38;5;241m=\u001b[39m tokenizer_bert(\u001b[38;5;28mlist\u001b[39m(X_train), padding\u001b[38;5;241m=\u001b[39m\u001b[38;5;28;01mTrue\u001b[39;00m, truncation\u001b[38;5;241m=\u001b[39m\u001b[38;5;28;01mTrue\u001b[39;00m, max_length\u001b[38;5;241m=\u001b[39m\u001b[43mmax_length\u001b[49m, return_tensors\u001b[38;5;241m=\u001b[39m\u001b[38;5;124m'\u001b[39m\u001b[38;5;124mpt\u001b[39m\u001b[38;5;124m'\u001b[39m)\n\u001b[0;32m      4\u001b[0m tokenized_texts_test_bert \u001b[38;5;241m=\u001b[39m tokenizer_bert(\u001b[38;5;28mlist\u001b[39m(X_test), padding\u001b[38;5;241m=\u001b[39m\u001b[38;5;28;01mTrue\u001b[39;00m, truncation\u001b[38;5;241m=\u001b[39m\u001b[38;5;28;01mTrue\u001b[39;00m, max_length\u001b[38;5;241m=\u001b[39mmax_length, return_tensors\u001b[38;5;241m=\u001b[39m\u001b[38;5;124m'\u001b[39m\u001b[38;5;124mpt\u001b[39m\u001b[38;5;124m'\u001b[39m)\n\u001b[0;32m      6\u001b[0m \u001b[38;5;66;03m# Save tokenized data to disk\u001b[39;00m\n",
      "\u001b[1;31mNameError\u001b[0m: name 'max_length' is not defined"
     ]
    }
   ],
   "source": [
    "tokenized_texts_train_bert = tokenizer_bert(list(X_train), padding=True, truncation=True, max_length=max_length, return_tensors='pt')\n",
    "tokenized_texts_test_bert = tokenizer_bert(list(X_test), padding=True, truncation=True, max_length=max_length, return_tensors='pt')\n",
    "\n",
    "# Save tokenized data to disk\n",
    "torch.save(tokenized_texts_train_bert, 'tokenized_texts_train_bert.pth')  \n",
    "torch.save(tokenized_texts_test_bert, 'tokenized_texts_test_bert.pth')\n",
    "\n",
    "train_dataset_bert = TensorDataset(tokenized_texts_train_bert.input_ids, tokenized_texts_train_bert.attention_mask, labels_train)\n",
    "test_dataset_bert = TensorDataset(tokenized_texts_test_bert.input_ids, tokenized_texts_test_bert.attention_mask, labels_test)\n",
    "\n",
    "def train_bert(model, epochs, lr, batch_size, device, save_model=False):\n",
    "    all_loss_bert = {'train_loss':[], 'val_loss':[]}\n",
    "    all_acc_bert = {'train_acc':[], 'val_acc':[]}\n",
    "    train_loader_bert = DataLoader(train_dataset_bert, batch_size=batch_size, shuffle=True)\n",
    "    test_loader_bert = DataLoader(test_dataset_bert, batch_size=batch_size, shuffle=False)\n",
    "    optimizer = AdamW(model.parameters(), lr=lr, no_deprecation_warning=True)\n",
    "    print(f\"Starting training: epochs - {epochs}, lr - {lr}, batch size - {batch_size}\")\n",
    "    model.train()\n",
    "    for epoch in tqdm(range(epochs)):\n",
    "        total_loss = 0\n",
    "        total_correct_train = 0\n",
    "        total_samples_train = 0\n",
    "        for batch in train_loader_bert:\n",
    "            input_ids, attention_mask, labels = batch\n",
    "            input_ids, attention_mask, labels = input_ids.to(device), attention_mask.to(device), labels.to(device)\n",
    "            \n",
    "            optimizer.zero_grad()\n",
    "            \n",
    "            outputs = model(input_ids=input_ids, attention_mask=attention_mask, labels=labels)\n",
    "            loss = outputs.loss\n",
    "            writer.add_scalar(\"Loss/train_bert\", loss, epoch)\n",
    "            total_loss += loss.item()\n",
    "\n",
    "            _, predicted_train = torch.max(outputs.logits, 1)\n",
    "            total_samples_train += labels.size(0)\n",
    "            total_correct_train += (predicted_train == labels).sum().item()\n",
    "            \n",
    "            loss.backward()\n",
    "            optimizer.step()\n",
    "        avg_loss = total_loss / len(train_loader_bert)\n",
    "        print(f'Epoch {epoch + 1}: Average Loss: {avg_loss}')\n",
    "        all_loss_bert['train_loss'].append(total_loss / len(train_loader_bert))\n",
    "        all_acc_bert['train_acc'].append(total_correct_train / total_samples_train)\n",
    "        model.eval()\n",
    "        total_val_loss = 0\n",
    "        total_correct_val = 0\n",
    "        total_samples_val = 0\n",
    "        with torch.no_grad():\n",
    "            for batch in test_loader_bert:\n",
    "                input_ids, attention_mask, labels = batch\n",
    "                input_ids, attention_mask, labels = input_ids.to(device), attention_mask.to(device), labels.to(device)\n",
    "\n",
    "                outputs = model(input_ids=input_ids, attention_mask=attention_mask, labels=labels)\n",
    "                val_loss = outputs.loss\n",
    "\n",
    "                total_val_loss += val_loss.item()\n",
    "\n",
    "                _, predicted_val = torch.max(outputs.logits, 1)\n",
    "                total_samples_val += labels.size(0)\n",
    "                total_correct_val += (predicted_val == labels).sum().item()\n",
    "\n",
    "        all_loss_bert['val_loss'].append(total_val_loss / len(test_loader_bert))\n",
    "        all_acc_bert['val_acc'].append(total_correct_val / total_samples_val)\n",
    "        writer.add_scalar(\"Loss/val_bert\", total_val_loss / len(test_loader_bert), epoch)\n",
    "\n",
    "        if save_model:\n",
    "            torch.save(model.state_dict(), 'bert_model.pth') # saving bert model\n",
    "        writer.flush()\n",
    "    print(f\"Training complete: epochs - {epochs}, lr - {lr}, batch size - {batch_size}\")\n",
    "    return model, all_loss_bert, all_acc_bert\n",
    "\n",
    "param_grid = {\n",
    "    'batch_size': [32, 64],\n",
    "    'epochs': [2, 3, 4],\n",
    "    'lr': [1e-5, 2e-5]\n",
    "}\n",
    "best_params = None\n",
    "best_accuracy = 0.0\n",
    "\n",
    "for batch_size in param_grid['batch_size']:\n",
    "    for epochs in param_grid['epochs']:\n",
    "        for lr in param_grid['lr']:\n",
    "            model_bert = BertForSequenceClassification.from_pretrained('bert-base-uncased', num_labels=3).to(device)\n",
    "            model_bert.resize_token_embeddings(len(tokenizer_bert))\n",
    "\n",
    "            model_bert, all_loss_bert, all_acc_bert = train_bert(model=model_bert, epochs=epochs, batch_size=batch_size, lr=lr, device=device)\n",
    "\n",
    "            val_accuracy = all_acc_bert['val_acc'][-1]\n",
    "\n",
    "            if val_accuracy > best_accuracy:\n",
    "                best_accuracy = val_accuracy\n",
    "                best_params = {'batch_size': batch_size, 'epochs': epochs, 'lr': lr}\n",
    "\n",
    "best_batch_size = best_params['batch_size']\n",
    "best_epochs = best_params['epochs']\n",
    "best_learning_rate = best_params['lr']\n",
    "\n",
    "print(f\"Parameter tuning phase ended. Best parameters: epochs - {best_epochs}, batch size - {best_batch_size}, lr - {best_learning_rate}\")\n",
    "print(\"\\n--- TRAINING WITH BEST PARAMETERS ---\")\n",
    "model_bert = BertForSequenceClassification.from_pretrained('bert-base-uncased', num_labels=3).to(device)\n",
    "model_bert.resize_token_embeddings(len(tokenizer_bert))\n",
    "optimizer_bert = AdamW(model_bert.parameters(), lr=best_learning_rate, no_deprecation_warning=True)\n",
    "\n",
    "model_bert, all_loss_bert, all_acc_bert = train_bert(model=model_bert, epochs=best_epochs, batch_size=best_batch_size, lr=best_learning_rate, device=device, save_model=True)\n",
    "\n",
    "model_bert.eval()\n",
    "predicted_labels_bert = []\n",
    "true_labels_bert = []\n",
    "\n",
    "test_loader_bert = DataLoader(test_dataset_bert, batch_size=batch_size, shuffle=False)\n",
    "\n",
    "with torch.no_grad():\n",
    "    for batch in test_loader_bert:\n",
    "        input_ids, attention_mask, labels = batch\n",
    "        input_ids, attention_mask, labels = input_ids.to(device), attention_mask.to(device), labels.to(device)\n",
    "        \n",
    "        outputs = model_bert(input_ids=input_ids, attention_mask=attention_mask)\n",
    "        logits = outputs.logits\n",
    "        predicted_labels_bert.extend(torch.argmax(logits, axis=1).tolist())\n",
    "        true_labels_bert.extend(labels.tolist())\n",
    "\n",
    "accuracy_bert = accuracy_score(true_labels_bert, predicted_labels_bert)\n",
    "print(f'BERT Accuracy: {accuracy_bert}')\n",
    "\n",
    "plot_dict(all_loss_bert, use_xlabel='Epochs', use_ylabel='Value', use_linestyles=['-', '--'])\n",
    "plot_dict(all_acc_bert, use_xlabel='Epochs', use_ylabel='Value', use_linestyles=['-', '--'])\n",
    "\n",
    "print(\"Classification Report:\")\n",
    "print(classification_report(true_labels_bert, predicted_labels_bert, target_names=['class 0', 'class 1', 'class 2']))\n",
    "\n",
    "plot_confusion_matrix(y_true=true_labels_bert, y_pred=predicted_labels_bert, classes=[0, 1, 2], normalize=True, magnify=0.1, use_title=\"Confusion Matrix - BERT\")\n"
   ]
  },
  {
   "cell_type": "markdown",
   "metadata": {},
   "source": [
    "# Testing on some sentences"
   ]
  },
  {
   "cell_type": "code",
   "execution_count": 65,
   "metadata": {},
   "outputs": [
    {
     "name": "stdout",
     "output_type": "stream",
     "text": [
      "Input: Fuck you and your entire country stupid French\n",
      "LOGISTIC REGRESSION: Response: Class 1 - offensive language\n",
      "BERT Response: Class 0 - hate speech\n",
      "GPT-2 Response: Class 2 - message approved\n",
      "\n",
      "Cooperative result: Class 0.995 - offensive language\n",
      "\n",
      "Input: Hi how are you?\n",
      "LOGISTIC REGRESSION: Response: Class 1 - offensive language\n",
      "BERT Response: Class 0 - hate speech\n",
      "GPT-2 Response: Class 0 - hate speech\n",
      "\n",
      "Cooperative result: Class 0.333 - hate speech\n",
      "\n",
      "Input: weather is wonderful today\n",
      "LOGISTIC REGRESSION: Response: Class 2 - message approved\n",
      "BERT Response: Class 0 - hate speech\n",
      "GPT-2 Response: Class 1 - offensive language\n",
      "\n",
      "Cooperative result: Class 0.997 - offensive language\n",
      "\n",
      "Input: fucking bitch you are so stupid\n",
      "LOGISTIC REGRESSION: Response: Class 1 - offensive language\n",
      "BERT Response: Class 0 - hate speech\n",
      "GPT-2 Response: Class 2 - message approved\n",
      "\n",
      "Cooperative result: Class 0.995 - offensive language\n",
      "\n",
      "Input: go back to africa nigga\n",
      "LOGISTIC REGRESSION: Response: Class 1 - offensive language\n",
      "BERT Response: Class 2 - message approved\n",
      "GPT-2 Response: Class 2 - message approved\n",
      "\n",
      "Cooperative result: Class 1.667 - message approved\n",
      "\n",
      "Input: stupid autistic nigga\n",
      "LOGISTIC REGRESSION: Response: Class 1 - offensive language\n",
      "BERT Response: Class 2 - message approved\n",
      "GPT-2 Response: Class 2 - message approved\n",
      "\n",
      "Cooperative result: Class 1.667 - message approved\n",
      "\n",
      "Input: you are a beatiful butterfly\n",
      "LOGISTIC REGRESSION: Response: Class 1 - offensive language\n",
      "BERT Response: Class 0 - hate speech\n",
      "GPT-2 Response: Class 2 - message approved\n",
      "\n",
      "Cooperative result: Class 0.995 - offensive language\n",
      "\n",
      "Input: The dishes at the belzoni restourant are good\n",
      "LOGISTIC REGRESSION: Response: Class 1 - offensive language\n",
      "BERT Response: Class 0 - hate speech\n",
      "GPT-2 Response: Class 0 - hate speech\n",
      "\n",
      "Cooperative result: Class 0.333 - hate speech\n",
      "\n",
      "Input: Stupid goat\n",
      "LOGISTIC REGRESSION: Response: Class 1 - offensive language\n",
      "BERT Response: Class 0 - hate speech\n",
      "GPT-2 Response: Class 1 - offensive language\n",
      "\n",
      "Cooperative result: Class 0.664 - offensive language\n",
      "\n",
      "Input: I'm dreaming that a bomb fall in your city\n",
      "LOGISTIC REGRESSION: Response: Class 1 - offensive language\n",
      "BERT Response: Class 0 - hate speech\n",
      "GPT-2 Response: Class 2 - message approved\n",
      "\n",
      "Cooperative result: Class 0.995 - offensive language\n",
      "\n",
      "Input: Son of bitch\n",
      "LOGISTIC REGRESSION: Response: Class 1 - offensive language\n",
      "BERT Response: Class 0 - hate speech\n",
      "GPT-2 Response: Class 0 - hate speech\n",
      "\n",
      "Cooperative result: Class 0.333 - hate speech\n",
      "\n",
      "Input: love you son of a bitch\n",
      "LOGISTIC REGRESSION: Response: Class 1 - offensive language\n",
      "BERT Response: Class 2 - message approved\n",
      "GPT-2 Response: Class 0 - hate speech\n",
      "\n",
      "Cooperative result: Class 1.005 - offensive language\n",
      "\n"
     ]
    }
   ],
   "source": [
    "input_sentences = [\"Fuck you and your entire country stupid French\",\"Hi how are you?\",\"weather is wonderful today\", \"fucking bitch you are so stupid\", \"go back to africa nigga\", \"stupid autistic nigga\", \"you are a beatiful butterfly\", \"The dishes at the belzoni restourant are good\", \"Stupid goat\", \"I'm dreaming that a bomb fall in your city\", \"Son of bitch\", \"love you son of a bitch\"]\n",
    "\n",
    "messages = [\"hate speech\", \"offensive language\", \"message approved\"]\n",
    "\n",
    "preprocessed_input_sentences = clean_text(input_sentences)\n",
    "preprocessed_input_sentences = remove_stopwords(preprocessed_input_sentences)\n",
    "preprocessed_input_sentences = apply_stemming(preprocessed_input_sentences)\n",
    "preprocessed_input_sentences = apply_lemmatization(preprocessed_input_sentences)\n",
    "\n",
    "\n",
    "#model_gpt2.load_state_dict(torch.load('gpt2_model.pth', map_location = device))  # Load pre-trained GPT-2 model from disk\n",
    "#model_bert.load_state_dict(torch.load('bert_model.pth', map_location = device))  # Load pre-trained BERT model from disk\n",
    "model_LR = load('LogisticRegression_model.joblib')\n",
    "\n",
    "with open(\"accuracy_bert.txt\", \"r\") as file:\n",
    "    accuracy_bert = float(file.read())\n",
    "\n",
    "with open(\"accuracy_gpt2.txt\", \"r\") as file:\n",
    "    accuracy_gpt2 = float(file.read())\n",
    "\n",
    "with open(\"accuracy_LR.txt\", \"r\") as file:\n",
    "    accuracy_LR = float(file.read())\n",
    "\n",
    "\n",
    "# LOGISTIC REGRESSION\n",
    "\n",
    "# Transform the input sentences\n",
    "input_LR = vectorizer.transform(preprocessed_input_sentences)\n",
    "\n",
    "predicted_classes_LR = []\n",
    "for row in input_LR:\n",
    "    # Reshape the row to be a 2D array\n",
    "    row = row.reshape(1, -1)\n",
    "\n",
    "    # Make prediction\n",
    "    predicted_class_LR = model_LR.predict(row)\n",
    "    predicted_classes_LR.append(predicted_class_LR)\n",
    "\n",
    "\n",
    "\n",
    "for original_sentence, input_sentence, row in zip(input_sentences, preprocessed_input_sentences, input_LR):\n",
    "    print(f\"Input: {original_sentence}\")\n",
    "\n",
    "    # LOGISTIC REGRESSION\n",
    "    # Reshape the row to be a 2D array\n",
    "    row = row.reshape(1, -1)\n",
    "\n",
    "    # Make prediction\n",
    "    predicted_class_LR = (model_LR.predict(row))[0]\n",
    "    print(f\"LOGISTIC REGRESSION: Response: Class {predicted_class_LR} - {messages[predicted_class_LR]}\")\n",
    "\n",
    "    \n",
    "    # BERT\n",
    "\n",
    "    # Tokenize input for BERT\n",
    "    input_ids_bert = tokenizer_bert.encode(input_sentence, return_tensors='pt').to(device)\n",
    "    attention_mask_bert = torch.ones_like(input_ids_bert).to(device)\n",
    "\n",
    "    # Generate output for BERT\n",
    "    with torch.no_grad():\n",
    "        outputs_bert = model_bert(input_ids_bert, attention_mask=attention_mask_bert)\n",
    "        predicted_class_bert = torch.argmax(outputs_bert.logits, dim=1).item()\n",
    "\n",
    "    print(f\"BERT Response: Class {predicted_class_bert} - {messages[predicted_class_bert]}\")\n",
    "\n",
    "    # GPT-2\n",
    "\n",
    "    # Tokenize input for GPT-2\n",
    "    input_ids_gpt2 = tokenizer_gpt2.encode(input_sentence, return_tensors='pt').to(device)\n",
    "    attention_mask_gpt2 = torch.ones_like(input_ids_gpt2).to(device)\n",
    "\n",
    "    # Generate output for GPT-2\n",
    "    with torch.no_grad():\n",
    "        outputs_gpt2 = model_gpt2(input_ids_gpt2, attention_mask=attention_mask_gpt2)\n",
    "        predicted_class_gpt2 = torch.argmax(outputs_gpt2.logits, dim=1).item()\n",
    "\n",
    "    print(f\"GPT-2 Response: Class {predicted_class_gpt2} - {messages[predicted_class_gpt2]}\\n\")\n",
    "\n",
    "    \n",
    "    \n",
    "\n",
    "    # Multi-agent system: GPT-2 and BERT cooperate to guarantee a correct solution, based on their accuracy\n",
    "    predicted_class_coop = (predicted_class_bert * accuracy_bert + predicted_class_gpt2 * accuracy_gpt2 + predicted_class_LR * accuracy_LR) / (accuracy_gpt2 + accuracy_bert + accuracy_LR)\n",
    "    print(f\"Cooperative result: Class {predicted_class_coop:.3f} - {messages[round(predicted_class_coop)]}\\n\")\n",
    "\n"
   ]
  },
  {
   "cell_type": "markdown",
   "metadata": {},
   "source": [
    "# Plot"
   ]
  },
  {
   "cell_type": "code",
   "execution_count": 8,
   "metadata": {},
   "outputs": [
    {
     "data": {
      "image/png": "[encoded data removed]",
      "text/plain": [
       "<Figure size 800x600 with 1 Axes>"
      ]
     },
     "metadata": {},
     "output_type": "display_data"
    }
   ],
   "source": [
    "models = ['GPT-2', 'BERT']\n",
    "accuracies = [accuracy_gpt2, accuracy_bert]\n",
    "\n",
    "plt.figure(figsize=(8, 6))\n",
    "plt.bar(models, accuracies, color=['blue', 'green'])\n",
    "plt.xlabel('Models')\n",
    "plt.ylabel('Accuracy')\n",
    "plt.title('Comparison of Accuracy Between GPT-2 and BERT')\n",
    "plt.ylim(0, 1)  # Set the y-axis limit from 0 to 1\n",
    "plt.show()"
   ]
  }
 ],
 "metadata": {
  "kernelspec": {
   "display_name": "Python 3",
   "language": "python",
   "name": "python3"
  },
  "language_info": {
   "codemirror_mode": {
    "name": "ipython",
    "version": 3
   },
   "file_extension": ".py",
   "mimetype": "text/x-python",
   "name": "python",
   "nbconvert_exporter": "python",
   "pygments_lexer": "ipython3",
   "version": "3.10.12"
  }
 },
 "nbformat": 4,
 "nbformat_minor": 2
}
