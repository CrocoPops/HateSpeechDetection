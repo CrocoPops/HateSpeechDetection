{
 "cells": [
  {
   "cell_type": "markdown",
   "metadata": {},
   "source": [
    "# Libraries"
   ]
  },
  {
   "cell_type": "code",
   "execution_count": 1,
   "metadata": {},
   "outputs": [
    {
     "name": "stderr",
     "output_type": "stream",
     "text": [
      "[nltk_data] Downloading package stopwords to\n",
      "[nltk_data]     C:\\Users\\fdavi\\AppData\\Roaming\\nltk_data...\n",
      "[nltk_data]   Package stopwords is already up-to-date!\n",
      "[nltk_data] Downloading package punkt to\n",
      "[nltk_data]     C:\\Users\\fdavi\\AppData\\Roaming\\nltk_data...\n",
      "[nltk_data]   Package punkt is already up-to-date!\n",
      "[nltk_data] Downloading package wordnet to\n",
      "[nltk_data]     C:\\Users\\fdavi\\AppData\\Roaming\\nltk_data...\n",
      "[nltk_data]   Package wordnet is already up-to-date!\n",
      "<frozen importlib._bootstrap>:488: DeprecationWarning: Type google._upb._message.MessageMapContainer uses PyType_Spec with a metaclass that has custom tp_new. This is deprecated and will no longer be allowed in Python 3.14.\n",
      "<frozen importlib._bootstrap>:488: DeprecationWarning: Type google._upb._message.ScalarMapContainer uses PyType_Spec with a metaclass that has custom tp_new. This is deprecated and will no longer be allowed in Python 3.14.\n"
     ]
    }
   ],
   "source": [
    "import torch\n",
    "import matplotlib.pyplot as plt\n",
    "import datasets\n",
    "\n",
    "from sklearn.model_selection import train_test_split, GridSearchCV\n",
    "from transformers import GPT2Config, GPT2Tokenizer, GPT2ForSequenceClassification, BertTokenizer, BertForSequenceClassification, XLNetTokenizer, XLNetForSequenceClassification\n",
    "from torch.utils.data import TensorDataset\n",
    "from sklearn.metrics import accuracy_score, classification_report, precision_score, recall_score, f1_score, confusion_matrix\n",
    "from ml_things import plot_dict, plot_confusion_matrix\n",
    "from sklearn.linear_model import LogisticRegression\n",
    "from sklearn.feature_extraction.text import CountVectorizer\n",
    "from joblib import dump, load\n",
    "\n",
    "# Custom functions\n",
    "import preprocessing\n",
    "import models_handler\n"
   ]
  },
  {
   "cell_type": "markdown",
   "metadata": {},
   "source": [
    "# Constants"
   ]
  },
  {
   "cell_type": "code",
   "execution_count": 2,
   "metadata": {},
   "outputs": [],
   "source": [
    "DEVICE = torch.DEVICE(\"cuda\" if torch.cuda.is_available() else \"cpu\")\n",
    "MAX_LENGTH = 32"
   ]
  },
  {
   "cell_type": "markdown",
   "metadata": {},
   "source": [
    "# Preprocessing\n",
    "\n",
    "- <strong>count</strong>: number of CrowdFlower users who coded each tweet\n",
    "- <strong>hate_speech</strong>: number of CF users who judged the tweet to be hate speech\n",
    "- <strong>offensive_language</strong>: number of CF users who judged the tweet to be offensive\n",
    "- <strong>neither</strong>: number of CF users who judged the tweet to be neither offensive nor non-offensive\n",
    "- <strong>class</strong>: class label for majority of CF users. 0 - hate speech 1 - offensive language 2 - neither\n",
    "- <strong>tweet</strong>: text tweet"
   ]
  },
  {
   "cell_type": "code",
   "execution_count": 3,
   "metadata": {},
   "outputs": [
    {
     "data": {
      "text/html": [
       "<div>\n",
       "<style scoped>\n",
       "    .dataframe tbody tr th:only-of-type {\n",
       "        vertical-align: middle;\n",
       "    }\n",
       "\n",
       "    .dataframe tbody tr th {\n",
       "        vertical-align: top;\n",
       "    }\n",
       "\n",
       "    .dataframe thead th {\n",
       "        text-align: right;\n",
       "    }\n",
       "</style>\n",
       "<table border=\"1\" class=\"dataframe\">\n",
       "  <thead>\n",
       "    <tr style=\"text-align: right;\">\n",
       "      <th></th>\n",
       "      <th>hate_speech_score</th>\n",
       "      <th>text</th>\n",
       "    </tr>\n",
       "  </thead>\n",
       "  <tbody>\n",
       "    <tr>\n",
       "      <th>0</th>\n",
       "      <td>2</td>\n",
       "      <td>Yes indeed. She sort of reminds me of the elde...</td>\n",
       "    </tr>\n",
       "    <tr>\n",
       "      <th>1</th>\n",
       "      <td>2</td>\n",
       "      <td>The trans women reading this tweet right now i...</td>\n",
       "    </tr>\n",
       "    <tr>\n",
       "      <th>2</th>\n",
       "      <td>1</td>\n",
       "      <td>These 4 broads who criticize America, what co...</td>\n",
       "    </tr>\n",
       "    <tr>\n",
       "      <th>3</th>\n",
       "      <td>1</td>\n",
       "      <td>It is about time for all illegals to go back t...</td>\n",
       "    </tr>\n",
       "    <tr>\n",
       "      <th>4</th>\n",
       "      <td>0</td>\n",
       "      <td>For starters bend over the one in pink and kic...</td>\n",
       "    </tr>\n",
       "  </tbody>\n",
       "</table>\n",
       "</div>"
      ],
      "text/plain": [
       "   hate_speech_score                                               text\n",
       "0                  2  Yes indeed. She sort of reminds me of the elde...\n",
       "1                  2  The trans women reading this tweet right now i...\n",
       "2                  1   These 4 broads who criticize America, what co...\n",
       "3                  1  It is about time for all illegals to go back t...\n",
       "4                  0  For starters bend over the one in pink and kic..."
      ]
     },
     "execution_count": 3,
     "metadata": {},
     "output_type": "execute_result"
    }
   ],
   "source": [
    "# Load the dataset \n",
    "data = datasets.load_dataset('ucberkeley-dlab/measuring-hate-speech')['train'].to_pandas()\n",
    "\n",
    "# Parse text and transforming from real number to classes\n",
    "data['text'] = preprocessing.parse_tweets_until_colon(data)\n",
    "data['hate_speech_score'] = [2 if c < -1 else (1 if c > -1 and c < 0.5 else 0) for c in data['hate_speech_score']]\n",
    "\n",
    "# Dropping all the other columns\n",
    "data = data[['hate_speech_score', 'text']]\n",
    "\n",
    "data.head()"
   ]
  },
  {
   "cell_type": "markdown",
   "metadata": {},
   "source": [
    "# Text cleaning\n",
    "\n",
    "- <strong>Lowercasing</strong>: Convert all text to lowercase to ensure uniformity.\n",
    "- <strong>Removing Punctuation</strong>: Eliminate punctuation marks as they often don't carry much meaning in NLP tasks.\n",
    "- <strong>Removing Special Characters</strong>: Remove special characters, emojis, URLs, etc., which may not contribute to the task at hand.\n",
    "- <strong>Removing Stopwords</strong>: Stopwords are common words (e.g., \"the\", \"is\", \"and\") that occur frequently but often carry little information. Removing them can reduce noise in the data."
   ]
  },
  {
   "cell_type": "code",
   "execution_count": 4,
   "metadata": {},
   "outputs": [
    {
     "data": {
      "text/html": [
       "<div>\n",
       "<style scoped>\n",
       "    .dataframe tbody tr th:only-of-type {\n",
       "        vertical-align: middle;\n",
       "    }\n",
       "\n",
       "    .dataframe tbody tr th {\n",
       "        vertical-align: top;\n",
       "    }\n",
       "\n",
       "    .dataframe thead th {\n",
       "        text-align: right;\n",
       "    }\n",
       "</style>\n",
       "<table border=\"1\" class=\"dataframe\">\n",
       "  <thead>\n",
       "    <tr style=\"text-align: right;\">\n",
       "      <th></th>\n",
       "      <th>hate_speech_score</th>\n",
       "      <th>text</th>\n",
       "    </tr>\n",
       "  </thead>\n",
       "  <tbody>\n",
       "    <tr>\n",
       "      <th>0</th>\n",
       "      <td>2</td>\n",
       "      <td>ye inde sort remind elder ladi play part movi ...</td>\n",
       "    </tr>\n",
       "    <tr>\n",
       "      <th>1</th>\n",
       "      <td>2</td>\n",
       "      <td>tran woman read tweet right beauti</td>\n",
       "    </tr>\n",
       "    <tr>\n",
       "      <th>2</th>\n",
       "      <td>1</td>\n",
       "      <td>broad critic america countri flee get want mak...</td>\n",
       "    </tr>\n",
       "    <tr>\n",
       "      <th>3</th>\n",
       "      <td>1</td>\n",
       "      <td>time illeg go back countri origin keep freeway...</td>\n",
       "    </tr>\n",
       "    <tr>\n",
       "      <th>4</th>\n",
       "      <td>0</td>\n",
       "      <td>starter bend one pink kick as pussi get tast s...</td>\n",
       "    </tr>\n",
       "  </tbody>\n",
       "</table>\n",
       "</div>"
      ],
      "text/plain": [
       "   hate_speech_score                                               text\n",
       "0                  2  ye inde sort remind elder ladi play part movi ...\n",
       "1                  2                 tran woman read tweet right beauti\n",
       "2                  1  broad critic america countri flee get want mak...\n",
       "3                  1  time illeg go back countri origin keep freeway...\n",
       "4                  0  starter bend one pink kick as pussi get tast s..."
      ]
     },
     "execution_count": 4,
     "metadata": {},
     "output_type": "execute_result"
    }
   ],
   "source": [
    "# Performing text cleaning\n",
    "data[\"text\"] = preprocessing.clean_text(data[\"text\"])\n",
    "data[\"text\"] = preprocessing.remove_stopwords(data[\"text\"])\n",
    "data[\"text\"] = preprocessing.apply_stemming(data[\"text\"])\n",
    "data[\"text\"] = preprocessing.apply_lemmatization(data[\"text\"])\n",
    "\n",
    "data.head()"
   ]
  },
  {
   "cell_type": "markdown",
   "metadata": {},
   "source": [
    "## Split training/test set\n",
    "\n",
    "- 80% → training set\n",
    "- 20% → test set"
   ]
  },
  {
   "cell_type": "code",
   "execution_count": 30,
   "metadata": {},
   "outputs": [],
   "source": [
    "# Splitting the dataset\n",
    "X_train, X_test, y_train, y_test = train_test_split(data[\"text\"], data[\"hate_speech_score\"], test_size=0.2, random_state=37)\n",
    "\n",
    "# Getting the labels as tensors\n",
    "labels_train = torch.tensor(list(y_train)).to(DEVICE)\n",
    "labels_test = torch.tensor(list(y_test)).to(DEVICE)"
   ]
  },
  {
   "cell_type": "markdown",
   "metadata": {},
   "source": [
    "# Model initialization\n"
   ]
  },
  {
   "cell_type": "code",
   "execution_count": 31,
   "metadata": {},
   "outputs": [
    {
     "name": "stderr",
     "output_type": "stream",
     "text": [
      "Some weights of BertForSequenceClassification were not initialized from the model checkpoint at bert-base-uncased and are newly initialized: ['classifier.bias', 'classifier.weight']\n",
      "You should probably TRAIN this model on a down-stream task to be able to use it for predictions and inference.\n",
      "Some weights of XLNetForSequenceClassification were not initialized from the model checkpoint at xlnet-base-cased and are newly initialized: ['logits_proj.bias', 'logits_proj.weight', 'sequence_summary.summary.bias', 'sequence_summary.summary.weight']\n",
      "You should probably TRAIN this model on a down-stream task to be able to use it for predictions and inference.\n"
     ]
    }
   ],
   "source": [
    "\n",
    "# GPT-2\n",
    "tokenizer_gpt2 = GPT2Tokenizer.from_pretrained('gpt2')\n",
    "tokenizer_gpt2.pad_token = tokenizer_gpt2.eos_token  # Set padding token to eos_token\n",
    "\n",
    "model_config_gpt2 = GPT2Config.from_pretrained('gpt2', num_labels=3, pad_token_id=tokenizer_gpt2.pad_token_id)\n",
    "model_gpt2 = GPT2ForSequenceClassification(model_config_gpt2).to(DEVICE)\n",
    "\n",
    "#BERT\n",
    "tokenizer_bert = BertTokenizer.from_pretrained('bert-base-uncased')\n",
    "model_bert = BertForSequenceClassification.from_pretrained('bert-base-uncased', num_labels=3).to(DEVICE)\n",
    "\n",
    "# XLNET\n",
    "tokenizer_xlnet = XLNetTokenizer.from_pretrained(\"xlnet-base-cased\")\n",
    "model_xlnet = XLNetForSequenceClassification.from_pretrained(\"xlnet-base-cased\", num_labels=3).to(DEVICE)\n",
    "\n",
    "\n",
    "#LOGISTIC REGRESSION\n",
    "vectorizer = CountVectorizer()\n",
    "\n",
    "# Fit and transform the data\n",
    "X_train_vect = vectorizer.fit_transform(X_train)\n",
    "X_test_vect = vectorizer.transform(X_test)"
   ]
  },
  {
   "cell_type": "markdown",
   "metadata": {},
   "source": [
    "# ML: Logistic Regression"
   ]
  },
  {
   "cell_type": "code",
   "execution_count": 6,
   "metadata": {},
   "outputs": [
    {
     "name": "stderr",
     "output_type": "stream",
     "text": [
      "C:\\Users\\fdavi\\AppData\\Local\\Packages\\PythonSoftwareFoundation.Python.3.12_qbz5n2kfra8p0\\LocalCache\\local-packages\\Python312\\site-packages\\joblib\\_utils.py:38: DeprecationWarning: ast.Num is deprecated and will be removed in Python 3.14; use ast.Constant instead\n",
      "  if isinstance(node, ast.Num):  # <number>\n",
      "C:\\Users\\fdavi\\AppData\\Local\\Packages\\PythonSoftwareFoundation.Python.3.12_qbz5n2kfra8p0\\LocalCache\\local-packages\\Python312\\site-packages\\joblib\\_utils.py:38: DeprecationWarning: ast.Num is deprecated and will be removed in Python 3.14; use ast.Constant instead\n",
      "  if isinstance(node, ast.Num):  # <number>\n",
      "C:\\Users\\fdavi\\AppData\\Local\\Packages\\PythonSoftwareFoundation.Python.3.12_qbz5n2kfra8p0\\LocalCache\\local-packages\\Python312\\site-packages\\joblib\\_utils.py:38: DeprecationWarning: ast.Num is deprecated and will be removed in Python 3.14; use ast.Constant instead\n",
      "  if isinstance(node, ast.Num):  # <number>\n",
      "C:\\Users\\fdavi\\AppData\\Local\\Packages\\PythonSoftwareFoundation.Python.3.12_qbz5n2kfra8p0\\LocalCache\\local-packages\\Python312\\site-packages\\joblib\\_utils.py:39: DeprecationWarning: Attribute n is deprecated and will be removed in Python 3.14; use value instead\n",
      "  return node.n\n",
      "C:\\Users\\fdavi\\AppData\\Local\\Packages\\PythonSoftwareFoundation.Python.3.12_qbz5n2kfra8p0\\LocalCache\\local-packages\\Python312\\site-packages\\joblib\\_utils.py:38: DeprecationWarning: ast.Num is deprecated and will be removed in Python 3.14; use ast.Constant instead\n",
      "  if isinstance(node, ast.Num):  # <number>\n",
      "C:\\Users\\fdavi\\AppData\\Local\\Packages\\PythonSoftwareFoundation.Python.3.12_qbz5n2kfra8p0\\LocalCache\\local-packages\\Python312\\site-packages\\joblib\\_utils.py:39: DeprecationWarning: Attribute n is deprecated and will be removed in Python 3.14; use value instead\n",
      "  return node.n\n"
     ]
    },
    {
     "ename": "KeyboardInterrupt",
     "evalue": "",
     "output_type": "error",
     "traceback": [
      "\u001b[1;31m---------------------------------------------------------------------------\u001b[0m",
      "\u001b[1;31mKeyboardInterrupt\u001b[0m                         Traceback (most recent call last)",
      "Cell \u001b[1;32mIn[6], line 16\u001b[0m\n\u001b[0;32m     13\u001b[0m grid_search \u001b[38;5;241m=\u001b[39m GridSearchCV(logreg, param_grid, cv\u001b[38;5;241m=\u001b[39m\u001b[38;5;241m5\u001b[39m, n_jobs\u001b[38;5;241m=\u001b[39m\u001b[38;5;241m-\u001b[39m\u001b[38;5;241m1\u001b[39m)\n\u001b[0;32m     15\u001b[0m \u001b[38;5;66;03m# Fit the grid search on the scaled training data\u001b[39;00m\n\u001b[1;32m---> 16\u001b[0m \u001b[43mgrid_search\u001b[49m\u001b[38;5;241;43m.\u001b[39;49m\u001b[43mfit\u001b[49m\u001b[43m(\u001b[49m\u001b[43mX_train_vect\u001b[49m\u001b[43m,\u001b[49m\u001b[43m \u001b[49m\u001b[43my_train\u001b[49m\u001b[43m)\u001b[49m\n\u001b[0;32m     18\u001b[0m \u001b[38;5;66;03m# Get the best model\u001b[39;00m\n\u001b[0;32m     19\u001b[0m best_logreg \u001b[38;5;241m=\u001b[39m grid_search\u001b[38;5;241m.\u001b[39mbest_estimator_\n",
      "File \u001b[1;32m~\\AppData\\Local\\Packages\\PythonSoftwareFoundation.Python.3.12_qbz5n2kfra8p0\\LocalCache\\local-packages\\Python312\\site-packages\\sklearn\\base.py:1474\u001b[0m, in \u001b[0;36m_fit_context.<locals>.decorator.<locals>.wrapper\u001b[1;34m(estimator, *args, **kwargs)\u001b[0m\n\u001b[0;32m   1467\u001b[0m     estimator\u001b[38;5;241m.\u001b[39m_validate_params()\n\u001b[0;32m   1469\u001b[0m \u001b[38;5;28;01mwith\u001b[39;00m config_context(\n\u001b[0;32m   1470\u001b[0m     skip_parameter_validation\u001b[38;5;241m=\u001b[39m(\n\u001b[0;32m   1471\u001b[0m         prefer_skip_nested_validation \u001b[38;5;129;01mor\u001b[39;00m global_skip_validation\n\u001b[0;32m   1472\u001b[0m     )\n\u001b[0;32m   1473\u001b[0m ):\n\u001b[1;32m-> 1474\u001b[0m     \u001b[38;5;28;01mreturn\u001b[39;00m \u001b[43mfit_method\u001b[49m\u001b[43m(\u001b[49m\u001b[43mestimator\u001b[49m\u001b[43m,\u001b[49m\u001b[43m \u001b[49m\u001b[38;5;241;43m*\u001b[39;49m\u001b[43margs\u001b[49m\u001b[43m,\u001b[49m\u001b[43m \u001b[49m\u001b[38;5;241;43m*\u001b[39;49m\u001b[38;5;241;43m*\u001b[39;49m\u001b[43mkwargs\u001b[49m\u001b[43m)\u001b[49m\n",
      "File \u001b[1;32m~\\AppData\\Local\\Packages\\PythonSoftwareFoundation.Python.3.12_qbz5n2kfra8p0\\LocalCache\\local-packages\\Python312\\site-packages\\sklearn\\model_selection\\_search.py:970\u001b[0m, in \u001b[0;36mBaseSearchCV.fit\u001b[1;34m(self, X, y, **params)\u001b[0m\n\u001b[0;32m    964\u001b[0m     results \u001b[38;5;241m=\u001b[39m \u001b[38;5;28mself\u001b[39m\u001b[38;5;241m.\u001b[39m_format_results(\n\u001b[0;32m    965\u001b[0m         all_candidate_params, n_splits, all_out, all_more_results\n\u001b[0;32m    966\u001b[0m     )\n\u001b[0;32m    968\u001b[0m     \u001b[38;5;28;01mreturn\u001b[39;00m results\n\u001b[1;32m--> 970\u001b[0m \u001b[38;5;28;43mself\u001b[39;49m\u001b[38;5;241;43m.\u001b[39;49m\u001b[43m_run_search\u001b[49m\u001b[43m(\u001b[49m\u001b[43mevaluate_candidates\u001b[49m\u001b[43m)\u001b[49m\n\u001b[0;32m    972\u001b[0m \u001b[38;5;66;03m# multimetric is determined here because in the case of a callable\u001b[39;00m\n\u001b[0;32m    973\u001b[0m \u001b[38;5;66;03m# self.scoring the return type is only known after calling\u001b[39;00m\n\u001b[0;32m    974\u001b[0m first_test_score \u001b[38;5;241m=\u001b[39m all_out[\u001b[38;5;241m0\u001b[39m][\u001b[38;5;124m\"\u001b[39m\u001b[38;5;124mtest_scores\u001b[39m\u001b[38;5;124m\"\u001b[39m]\n",
      "File \u001b[1;32m~\\AppData\\Local\\Packages\\PythonSoftwareFoundation.Python.3.12_qbz5n2kfra8p0\\LocalCache\\local-packages\\Python312\\site-packages\\sklearn\\model_selection\\_search.py:1527\u001b[0m, in \u001b[0;36mGridSearchCV._run_search\u001b[1;34m(self, evaluate_candidates)\u001b[0m\n\u001b[0;32m   1525\u001b[0m \u001b[38;5;28;01mdef\u001b[39;00m \u001b[38;5;21m_run_search\u001b[39m(\u001b[38;5;28mself\u001b[39m, evaluate_candidates):\n\u001b[0;32m   1526\u001b[0m \u001b[38;5;250m    \u001b[39m\u001b[38;5;124;03m\"\"\"Search all candidates in param_grid\"\"\"\u001b[39;00m\n\u001b[1;32m-> 1527\u001b[0m     \u001b[43mevaluate_candidates\u001b[49m\u001b[43m(\u001b[49m\u001b[43mParameterGrid\u001b[49m\u001b[43m(\u001b[49m\u001b[38;5;28;43mself\u001b[39;49m\u001b[38;5;241;43m.\u001b[39;49m\u001b[43mparam_grid\u001b[49m\u001b[43m)\u001b[49m\u001b[43m)\u001b[49m\n",
      "File \u001b[1;32m~\\AppData\\Local\\Packages\\PythonSoftwareFoundation.Python.3.12_qbz5n2kfra8p0\\LocalCache\\local-packages\\Python312\\site-packages\\sklearn\\model_selection\\_search.py:916\u001b[0m, in \u001b[0;36mBaseSearchCV.fit.<locals>.evaluate_candidates\u001b[1;34m(candidate_params, cv, more_results)\u001b[0m\n\u001b[0;32m    908\u001b[0m \u001b[38;5;28;01mif\u001b[39;00m \u001b[38;5;28mself\u001b[39m\u001b[38;5;241m.\u001b[39mverbose \u001b[38;5;241m>\u001b[39m \u001b[38;5;241m0\u001b[39m:\n\u001b[0;32m    909\u001b[0m     \u001b[38;5;28mprint\u001b[39m(\n\u001b[0;32m    910\u001b[0m         \u001b[38;5;124m\"\u001b[39m\u001b[38;5;124mFitting \u001b[39m\u001b[38;5;132;01m{0}\u001b[39;00m\u001b[38;5;124m folds for each of \u001b[39m\u001b[38;5;132;01m{1}\u001b[39;00m\u001b[38;5;124m candidates,\u001b[39m\u001b[38;5;124m\"\u001b[39m\n\u001b[0;32m    911\u001b[0m         \u001b[38;5;124m\"\u001b[39m\u001b[38;5;124m totalling \u001b[39m\u001b[38;5;132;01m{2}\u001b[39;00m\u001b[38;5;124m fits\u001b[39m\u001b[38;5;124m\"\u001b[39m\u001b[38;5;241m.\u001b[39mformat(\n\u001b[0;32m    912\u001b[0m             n_splits, n_candidates, n_candidates \u001b[38;5;241m*\u001b[39m n_splits\n\u001b[0;32m    913\u001b[0m         )\n\u001b[0;32m    914\u001b[0m     )\n\u001b[1;32m--> 916\u001b[0m out \u001b[38;5;241m=\u001b[39m \u001b[43mparallel\u001b[49m\u001b[43m(\u001b[49m\n\u001b[0;32m    917\u001b[0m \u001b[43m    \u001b[49m\u001b[43mdelayed\u001b[49m\u001b[43m(\u001b[49m\u001b[43m_fit_and_score\u001b[49m\u001b[43m)\u001b[49m\u001b[43m(\u001b[49m\n\u001b[0;32m    918\u001b[0m \u001b[43m        \u001b[49m\u001b[43mclone\u001b[49m\u001b[43m(\u001b[49m\u001b[43mbase_estimator\u001b[49m\u001b[43m)\u001b[49m\u001b[43m,\u001b[49m\n\u001b[0;32m    919\u001b[0m \u001b[43m        \u001b[49m\u001b[43mX\u001b[49m\u001b[43m,\u001b[49m\n\u001b[0;32m    920\u001b[0m \u001b[43m        \u001b[49m\u001b[43my\u001b[49m\u001b[43m,\u001b[49m\n\u001b[0;32m    921\u001b[0m \u001b[43m        \u001b[49m\u001b[43mtrain\u001b[49m\u001b[38;5;241;43m=\u001b[39;49m\u001b[43mtrain\u001b[49m\u001b[43m,\u001b[49m\n\u001b[0;32m    922\u001b[0m \u001b[43m        \u001b[49m\u001b[43mtest\u001b[49m\u001b[38;5;241;43m=\u001b[39;49m\u001b[43mtest\u001b[49m\u001b[43m,\u001b[49m\n\u001b[0;32m    923\u001b[0m \u001b[43m        \u001b[49m\u001b[43mparameters\u001b[49m\u001b[38;5;241;43m=\u001b[39;49m\u001b[43mparameters\u001b[49m\u001b[43m,\u001b[49m\n\u001b[0;32m    924\u001b[0m \u001b[43m        \u001b[49m\u001b[43msplit_progress\u001b[49m\u001b[38;5;241;43m=\u001b[39;49m\u001b[43m(\u001b[49m\u001b[43msplit_idx\u001b[49m\u001b[43m,\u001b[49m\u001b[43m \u001b[49m\u001b[43mn_splits\u001b[49m\u001b[43m)\u001b[49m\u001b[43m,\u001b[49m\n\u001b[0;32m    925\u001b[0m \u001b[43m        \u001b[49m\u001b[43mcandidate_progress\u001b[49m\u001b[38;5;241;43m=\u001b[39;49m\u001b[43m(\u001b[49m\u001b[43mcand_idx\u001b[49m\u001b[43m,\u001b[49m\u001b[43m \u001b[49m\u001b[43mn_candidates\u001b[49m\u001b[43m)\u001b[49m\u001b[43m,\u001b[49m\n\u001b[0;32m    926\u001b[0m \u001b[43m        \u001b[49m\u001b[38;5;241;43m*\u001b[39;49m\u001b[38;5;241;43m*\u001b[39;49m\u001b[43mfit_and_score_kwargs\u001b[49m\u001b[43m,\u001b[49m\n\u001b[0;32m    927\u001b[0m \u001b[43m    \u001b[49m\u001b[43m)\u001b[49m\n\u001b[0;32m    928\u001b[0m \u001b[43m    \u001b[49m\u001b[38;5;28;43;01mfor\u001b[39;49;00m\u001b[43m \u001b[49m\u001b[43m(\u001b[49m\u001b[43mcand_idx\u001b[49m\u001b[43m,\u001b[49m\u001b[43m \u001b[49m\u001b[43mparameters\u001b[49m\u001b[43m)\u001b[49m\u001b[43m,\u001b[49m\u001b[43m \u001b[49m\u001b[43m(\u001b[49m\u001b[43msplit_idx\u001b[49m\u001b[43m,\u001b[49m\u001b[43m \u001b[49m\u001b[43m(\u001b[49m\u001b[43mtrain\u001b[49m\u001b[43m,\u001b[49m\u001b[43m \u001b[49m\u001b[43mtest\u001b[49m\u001b[43m)\u001b[49m\u001b[43m)\u001b[49m\u001b[43m \u001b[49m\u001b[38;5;129;43;01min\u001b[39;49;00m\u001b[43m \u001b[49m\u001b[43mproduct\u001b[49m\u001b[43m(\u001b[49m\n\u001b[0;32m    929\u001b[0m \u001b[43m        \u001b[49m\u001b[38;5;28;43menumerate\u001b[39;49m\u001b[43m(\u001b[49m\u001b[43mcandidate_params\u001b[49m\u001b[43m)\u001b[49m\u001b[43m,\u001b[49m\n\u001b[0;32m    930\u001b[0m \u001b[43m        \u001b[49m\u001b[38;5;28;43menumerate\u001b[39;49m\u001b[43m(\u001b[49m\u001b[43mcv\u001b[49m\u001b[38;5;241;43m.\u001b[39;49m\u001b[43msplit\u001b[49m\u001b[43m(\u001b[49m\u001b[43mX\u001b[49m\u001b[43m,\u001b[49m\u001b[43m \u001b[49m\u001b[43my\u001b[49m\u001b[43m,\u001b[49m\u001b[43m \u001b[49m\u001b[38;5;241;43m*\u001b[39;49m\u001b[38;5;241;43m*\u001b[39;49m\u001b[43mrouted_params\u001b[49m\u001b[38;5;241;43m.\u001b[39;49m\u001b[43msplitter\u001b[49m\u001b[38;5;241;43m.\u001b[39;49m\u001b[43msplit\u001b[49m\u001b[43m)\u001b[49m\u001b[43m)\u001b[49m\u001b[43m,\u001b[49m\n\u001b[0;32m    931\u001b[0m \u001b[43m    \u001b[49m\u001b[43m)\u001b[49m\n\u001b[0;32m    932\u001b[0m \u001b[43m\u001b[49m\u001b[43m)\u001b[49m\n\u001b[0;32m    934\u001b[0m \u001b[38;5;28;01mif\u001b[39;00m \u001b[38;5;28mlen\u001b[39m(out) \u001b[38;5;241m<\u001b[39m \u001b[38;5;241m1\u001b[39m:\n\u001b[0;32m    935\u001b[0m     \u001b[38;5;28;01mraise\u001b[39;00m \u001b[38;5;167;01mValueError\u001b[39;00m(\n\u001b[0;32m    936\u001b[0m         \u001b[38;5;124m\"\u001b[39m\u001b[38;5;124mNo fits were performed. \u001b[39m\u001b[38;5;124m\"\u001b[39m\n\u001b[0;32m    937\u001b[0m         \u001b[38;5;124m\"\u001b[39m\u001b[38;5;124mWas the CV iterator empty? \u001b[39m\u001b[38;5;124m\"\u001b[39m\n\u001b[0;32m    938\u001b[0m         \u001b[38;5;124m\"\u001b[39m\u001b[38;5;124mWere there no candidates?\u001b[39m\u001b[38;5;124m\"\u001b[39m\n\u001b[0;32m    939\u001b[0m     )\n",
      "File \u001b[1;32m~\\AppData\\Local\\Packages\\PythonSoftwareFoundation.Python.3.12_qbz5n2kfra8p0\\LocalCache\\local-packages\\Python312\\site-packages\\sklearn\\utils\\parallel.py:67\u001b[0m, in \u001b[0;36mParallel.__call__\u001b[1;34m(self, iterable)\u001b[0m\n\u001b[0;32m     62\u001b[0m config \u001b[38;5;241m=\u001b[39m get_config()\n\u001b[0;32m     63\u001b[0m iterable_with_config \u001b[38;5;241m=\u001b[39m (\n\u001b[0;32m     64\u001b[0m     (_with_config(delayed_func, config), args, kwargs)\n\u001b[0;32m     65\u001b[0m     \u001b[38;5;28;01mfor\u001b[39;00m delayed_func, args, kwargs \u001b[38;5;129;01min\u001b[39;00m iterable\n\u001b[0;32m     66\u001b[0m )\n\u001b[1;32m---> 67\u001b[0m \u001b[38;5;28;01mreturn\u001b[39;00m \u001b[38;5;28;43msuper\u001b[39;49m\u001b[43m(\u001b[49m\u001b[43m)\u001b[49m\u001b[38;5;241;43m.\u001b[39;49m\u001b[38;5;21;43m__call__\u001b[39;49m\u001b[43m(\u001b[49m\u001b[43miterable_with_config\u001b[49m\u001b[43m)\u001b[49m\n",
      "File \u001b[1;32m~\\AppData\\Local\\Packages\\PythonSoftwareFoundation.Python.3.12_qbz5n2kfra8p0\\LocalCache\\local-packages\\Python312\\site-packages\\joblib\\parallel.py:1952\u001b[0m, in \u001b[0;36mParallel.__call__\u001b[1;34m(self, iterable)\u001b[0m\n\u001b[0;32m   1946\u001b[0m \u001b[38;5;66;03m# The first item from the output is blank, but it makes the interpreter\u001b[39;00m\n\u001b[0;32m   1947\u001b[0m \u001b[38;5;66;03m# progress until it enters the Try/Except block of the generator and\u001b[39;00m\n\u001b[0;32m   1948\u001b[0m \u001b[38;5;66;03m# reach the first `yield` statement. This starts the aynchronous\u001b[39;00m\n\u001b[0;32m   1949\u001b[0m \u001b[38;5;66;03m# dispatch of the tasks to the workers.\u001b[39;00m\n\u001b[0;32m   1950\u001b[0m \u001b[38;5;28mnext\u001b[39m(output)\n\u001b[1;32m-> 1952\u001b[0m \u001b[38;5;28;01mreturn\u001b[39;00m output \u001b[38;5;28;01mif\u001b[39;00m \u001b[38;5;28mself\u001b[39m\u001b[38;5;241m.\u001b[39mreturn_generator \u001b[38;5;28;01melse\u001b[39;00m \u001b[38;5;28;43mlist\u001b[39;49m\u001b[43m(\u001b[49m\u001b[43moutput\u001b[49m\u001b[43m)\u001b[49m\n",
      "File \u001b[1;32m~\\AppData\\Local\\Packages\\PythonSoftwareFoundation.Python.3.12_qbz5n2kfra8p0\\LocalCache\\local-packages\\Python312\\site-packages\\joblib\\parallel.py:1595\u001b[0m, in \u001b[0;36mParallel._get_outputs\u001b[1;34m(self, iterator, pre_dispatch)\u001b[0m\n\u001b[0;32m   1592\u001b[0m     \u001b[38;5;28;01myield\u001b[39;00m\n\u001b[0;32m   1594\u001b[0m     \u001b[38;5;28;01mwith\u001b[39;00m \u001b[38;5;28mself\u001b[39m\u001b[38;5;241m.\u001b[39m_backend\u001b[38;5;241m.\u001b[39mretrieval_context():\n\u001b[1;32m-> 1595\u001b[0m         \u001b[38;5;28;01myield from\u001b[39;00m \u001b[38;5;28mself\u001b[39m\u001b[38;5;241m.\u001b[39m_retrieve()\n\u001b[0;32m   1597\u001b[0m \u001b[38;5;28;01mexcept\u001b[39;00m \u001b[38;5;167;01mGeneratorExit\u001b[39;00m:\n\u001b[0;32m   1598\u001b[0m     \u001b[38;5;66;03m# The generator has been garbage collected before being fully\u001b[39;00m\n\u001b[0;32m   1599\u001b[0m     \u001b[38;5;66;03m# consumed. This aborts the remaining tasks if possible and warn\u001b[39;00m\n\u001b[0;32m   1600\u001b[0m     \u001b[38;5;66;03m# the user if necessary.\u001b[39;00m\n\u001b[0;32m   1601\u001b[0m     \u001b[38;5;28mself\u001b[39m\u001b[38;5;241m.\u001b[39m_exception \u001b[38;5;241m=\u001b[39m \u001b[38;5;28;01mTrue\u001b[39;00m\n",
      "File \u001b[1;32m~\\AppData\\Local\\Packages\\PythonSoftwareFoundation.Python.3.12_qbz5n2kfra8p0\\LocalCache\\local-packages\\Python312\\site-packages\\joblib\\parallel.py:1707\u001b[0m, in \u001b[0;36mParallel._retrieve\u001b[1;34m(self)\u001b[0m\n\u001b[0;32m   1702\u001b[0m \u001b[38;5;66;03m# If the next job is not ready for retrieval yet, we just wait for\u001b[39;00m\n\u001b[0;32m   1703\u001b[0m \u001b[38;5;66;03m# async callbacks to progress.\u001b[39;00m\n\u001b[0;32m   1704\u001b[0m \u001b[38;5;28;01mif\u001b[39;00m ((\u001b[38;5;28mlen\u001b[39m(\u001b[38;5;28mself\u001b[39m\u001b[38;5;241m.\u001b[39m_jobs) \u001b[38;5;241m==\u001b[39m \u001b[38;5;241m0\u001b[39m) \u001b[38;5;129;01mor\u001b[39;00m\n\u001b[0;32m   1705\u001b[0m     (\u001b[38;5;28mself\u001b[39m\u001b[38;5;241m.\u001b[39m_jobs[\u001b[38;5;241m0\u001b[39m]\u001b[38;5;241m.\u001b[39mget_status(\n\u001b[0;32m   1706\u001b[0m         timeout\u001b[38;5;241m=\u001b[39m\u001b[38;5;28mself\u001b[39m\u001b[38;5;241m.\u001b[39mtimeout) \u001b[38;5;241m==\u001b[39m TASK_PENDING)):\n\u001b[1;32m-> 1707\u001b[0m     \u001b[43mtime\u001b[49m\u001b[38;5;241;43m.\u001b[39;49m\u001b[43msleep\u001b[49m\u001b[43m(\u001b[49m\u001b[38;5;241;43m0.01\u001b[39;49m\u001b[43m)\u001b[49m\n\u001b[0;32m   1708\u001b[0m     \u001b[38;5;28;01mcontinue\u001b[39;00m\n\u001b[0;32m   1710\u001b[0m \u001b[38;5;66;03m# We need to be careful: the job list can be filling up as\u001b[39;00m\n\u001b[0;32m   1711\u001b[0m \u001b[38;5;66;03m# we empty it and Python list are not thread-safe by\u001b[39;00m\n\u001b[0;32m   1712\u001b[0m \u001b[38;5;66;03m# default hence the use of the lock\u001b[39;00m\n",
      "\u001b[1;31mKeyboardInterrupt\u001b[0m: "
     ]
    }
   ],
   "source": [
    "logreg = LogisticRegression(n_jobs=1, C=1e5)\n",
    "\n",
    "# Define the parameter grid\n",
    "param_grid = {\n",
    "    'C': [1000, 100, 10],\n",
    "    'penalty': ['l2'],\n",
    "    'solver': ['lbfgs', 'newton-cg', 'sag', 'saga'],\n",
    "    'max_iter': [1000, 100, 10]\n",
    "}\n",
    "\n",
    "\n",
    "# Perform GridSearchCV\n",
    "grid_search = GridSearchCV(logreg, param_grid, cv=5, n_jobs=-1)\n",
    "\n",
    "# Fit the grid search on the scaled training data\n",
    "grid_search.fit(X_train_vect, y_train)\n",
    "\n",
    "# Get the best model\n",
    "best_logreg = grid_search.best_estimator_\n",
    "\n",
    "# Evaluate the best model on the test set\n",
    "logreg_pred = best_logreg.predict(X_test_vect)\n",
    "\n",
    "# Print the best parameters and accuracy\n",
    "print(f\"Best params: {grid_search.best_params_}\")\n",
    "print(f\"Accuracy: {accuracy_score(logreg_pred, y_test):.3f}\")\n",
    "\n",
    "# Save the best Logistic Regression model\n",
    "dump(best_logreg, 'LogisticRegression_model.joblib')\n",
    "\n",
    "# Analysis\n",
    "precision = precision_score(y_test, logreg_pred, average='weighted')\n",
    "recall = recall_score(y_test, logreg_pred, average='weighted')\n",
    "f1 = f1_score(y_test, logreg_pred, average='weighted')\n",
    "conf_matrix = confusion_matrix(y_test, logreg_pred)\n",
    "\n",
    "classes = sorted(set(y_test))\n",
    "\n",
    "print(f\"Precision: {precision:.3f}\")\n",
    "print(f\"Recall: {recall:.3f}\")\n",
    "print(f\"F1 Score: {f1:.3f}\")\n",
    "print(\"Confusion Matrix:\\n\", conf_matrix)\n",
    "\n",
    "# Plot confusion matrix\n",
    "print(\"Classification Report:\")\n",
    "print(classification_report(y_test, logreg_pred, target_names=['class 0', 'class 1', 'class 2']))\n",
    "plot_confusion_matrix(y_true = y_test, y_pred = logreg_pred, classes=[0, 1, 2], normalize=True, magnify=0.1, use_title=\"Confusion Matrix - Logistic Regression\")"
   ]
  },
  {
   "cell_type": "markdown",
   "metadata": {},
   "source": [
    "# GPT-2\n",
    "\n",
    "The OpenAI GPT-2 (Generative Pre-Trained Transformer 2) is a transfomer-based language model. It's a standard model for NLP tasks."
   ]
  },
  {
   "cell_type": "code",
   "execution_count": 21,
   "metadata": {},
   "outputs": [
    {
     "name": "stdout",
     "output_type": "stream",
     "text": [
      "Starting training: epochs - 3, lr - 1e-05, batch size - 32\n"
     ]
    },
    {
     "name": "stderr",
     "output_type": "stream",
     "text": [
      "  0%|          | 0/3 [00:03<?, ?it/s]\n"
     ]
    },
    {
     "ename": "KeyboardInterrupt",
     "evalue": "",
     "output_type": "error",
     "traceback": [
      "\u001b[1;31m---------------------------------------------------------------------------\u001b[0m",
      "\u001b[1;31mKeyboardInterrupt\u001b[0m                         Traceback (most recent call last)",
      "Cell \u001b[1;32mIn[21], line 25\u001b[0m\n\u001b[0;32m     22\u001b[0m model_gpt2 \u001b[38;5;241m=\u001b[39m GPT2ForSequenceClassification(model_config_gpt2)\u001b[38;5;241m.\u001b[39mto(device)\n\u001b[0;32m     23\u001b[0m model_gpt2\u001b[38;5;241m.\u001b[39mresize_token_embeddings(\u001b[38;5;28mlen\u001b[39m(tokenizer_gpt2))\n\u001b[1;32m---> 25\u001b[0m model_gpt2, all_loss_gpt2, all_acc_gpt2 \u001b[38;5;241m=\u001b[39m \u001b[43mmodels_handler\u001b[49m\u001b[38;5;241;43m.\u001b[39;49m\u001b[43mtrain\u001b[49m\u001b[43m(\u001b[49m\u001b[43mmodel_gpt2\u001b[49m\u001b[43m,\u001b[49m\u001b[43m \u001b[49m\u001b[43mepochs\u001b[49m\u001b[43m,\u001b[49m\u001b[43m \u001b[49m\u001b[43mlr\u001b[49m\u001b[43m,\u001b[49m\u001b[43m \u001b[49m\u001b[43mbatch_size\u001b[49m\u001b[43m,\u001b[49m\u001b[43m \u001b[49m\u001b[43mdevice\u001b[49m\u001b[43m,\u001b[49m\u001b[43m \u001b[49m\u001b[43mtrain_dataset_gpt2\u001b[49m\u001b[43m,\u001b[49m\u001b[43m \u001b[49m\u001b[43mtest_dataset_gpt2\u001b[49m\u001b[43m,\u001b[49m\u001b[43m \u001b[49m\u001b[38;5;124;43m\"\u001b[39;49m\u001b[38;5;124;43mGPT-2\u001b[39;49m\u001b[38;5;124;43m\"\u001b[39;49m\u001b[43m)\u001b[49m\n\u001b[0;32m     27\u001b[0m \u001b[38;5;28;01mfor\u001b[39;00m val_accuracy \u001b[38;5;129;01min\u001b[39;00m all_acc_gpt2[\u001b[38;5;124m'\u001b[39m\u001b[38;5;124mval_acc\u001b[39m\u001b[38;5;124m'\u001b[39m]:\n\u001b[0;32m     28\u001b[0m     \u001b[38;5;28;01mif\u001b[39;00m val_accuracy \u001b[38;5;241m>\u001b[39m best_accuracy:\n",
      "File \u001b[1;32mc:\\Users\\fdavi\\Desktop\\HateSpeechDetection\\models_handler.py:27\u001b[0m, in \u001b[0;36mtrain\u001b[1;34m(model, epochs, lr, batch_size, device, train_ds, test_ds, logger_prefix)\u001b[0m\n\u001b[0;32m     25\u001b[0m \u001b[38;5;28;01mfor\u001b[39;00m batch \u001b[38;5;129;01min\u001b[39;00m train_dl:\n\u001b[0;32m     26\u001b[0m     input_ids, attention_mask, labels \u001b[38;5;241m=\u001b[39m batch\n\u001b[1;32m---> 27\u001b[0m     input_ids, attention_mask, labels \u001b[38;5;241m=\u001b[39m \u001b[43minput_ids\u001b[49m\u001b[38;5;241;43m.\u001b[39;49m\u001b[43mto\u001b[49m\u001b[43m(\u001b[49m\u001b[43mdevice\u001b[49m\u001b[43m)\u001b[49m, attention_mask\u001b[38;5;241m.\u001b[39mto(device), labels\u001b[38;5;241m.\u001b[39mto(device)\n\u001b[0;32m     29\u001b[0m     optimizer\u001b[38;5;241m.\u001b[39mzero_grad()\n\u001b[0;32m     31\u001b[0m     outputs \u001b[38;5;241m=\u001b[39m model(input_ids\u001b[38;5;241m=\u001b[39minput_ids, attention_mask\u001b[38;5;241m=\u001b[39mattention_mask, labels\u001b[38;5;241m=\u001b[39mlabels)\n",
      "\u001b[1;31mKeyboardInterrupt\u001b[0m: "
     ]
    }
   ],
   "source": [
    "\n",
    "tokenized_texts_train = tokenizer_gpt2(X_train, padding=True, truncation=True, max_length=MAX_LENGTH, return_tensors='pt')\n",
    "tokenized_texts_test = tokenizer_gpt2(X_test, padding=True, truncation=True, max_length=MAX_LENGTH, return_tensors='pt')\n",
    "\n",
    "train_dataset_gpt2 = TensorDataset(tokenized_texts_train.input_ids, tokenized_texts_train.attention_mask, labels_train)\n",
    "test_dataset_gpt2 = TensorDataset(tokenized_texts_test.input_ids, tokenized_texts_test.attention_mask, labels_test)\n",
    "\n",
    "model_config_gpt2 = GPT2Config.from_pretrained('gpt2', num_labels=3, pad_token_id=tokenizer_gpt2.pad_token_id)\n",
    "\n",
    "param_grid = {\n",
    "    'batch_size': [32],\n",
    "    'epochs': [3, 4],\n",
    "    'lr': [1e-5, 2e-5]\n",
    "}\n",
    "best_params = None\n",
    "best_accuracy = 0.0\n",
    "best_model_gpt2 = None\n",
    "\n",
    "for batch_size in param_grid['batch_size']:\n",
    "    for epochs in param_grid['epochs']:\n",
    "        for lr in param_grid['lr']:\n",
    "            model_gpt2 = GPT2ForSequenceClassification(model_config_gpt2).to(DEVICE)\n",
    "            model_gpt2.resize_token_embeddings(len(tokenizer_gpt2))\n",
    "\n",
    "            model_gpt2, all_loss_gpt2, all_acc_gpt2 = models_handler.train(model_gpt2, epochs, lr, batch_size, train_dataset_gpt2, test_dataset_gpt2, \"GPT-2\")\n",
    "            \n",
    "            for val_accuracy in all_acc_gpt2['val_acc']:\n",
    "                if val_accuracy > best_accuracy:\n",
    "                    best_accuracy = val_accuracy\n",
    "                    best_params = {'batch_size': batch_size, 'epochs': epochs, 'lr': lr}\n",
    "                    best_model_gpt2 = model_gpt2\n",
    "\n",
    "best_batch_size = best_params['batch_size']\n",
    "best_epochs = best_params['epochs']\n",
    "best_learning_rate = best_params['lr']\n",
    "\n",
    "torch.save(best_model_gpt2.state_dict(), 'gpt2_model.pth') # saving gpt-2 model\n",
    "\n",
    "print(f\"Parameter tuning phase ended. Best parameters: epochs - {best_epochs}, batch size - {best_batch_size}, lr - {best_learning_rate}\")\n",
    "\n",
    "true_labels_gpt2, predicted_labels_gpt2 = models_handler.test(best_model_gpt2, best_batch_size, test_dataset_gpt2)\n",
    "\n",
    "accuracy_gpt2 = accuracy_score(true_labels_gpt2, predicted_labels_gpt2)\n",
    "print(f'GPT-2 Accuracy: {accuracy_gpt2:.4f}')\n",
    "\n",
    "plot_dict(all_loss_gpt2, use_xlabel='Epochs', use_ylabel='Loss', use_linestyles=['-', '--'])\n",
    "plot_dict(all_acc_gpt2, use_xlabel='Epochs', use_ylabel='Accuracy', use_linestyles=['-', '--'])\n",
    "\n",
    "print(\"Classification Report:\")\n",
    "print(classification_report(true_labels_gpt2, predicted_labels_gpt2, target_names=['class 0', 'class 1', 'class 2']))\n",
    "\n",
    "plot_confusion_matrix(y_true=true_labels_gpt2, y_pred=predicted_labels_gpt2, classes=[0, 1, 2], normalize=True, magnify=0.1, use_title=\"Confusion Matrix - GPT-2\")"
   ]
  },
  {
   "cell_type": "markdown",
   "metadata": {},
   "source": [
    "# BERT\n",
    "\n",
    "BERT (Bidirectional Encoder Representations from Transformers) was developed by Google researchers."
   ]
  },
  {
   "cell_type": "code",
   "execution_count": 34,
   "metadata": {},
   "outputs": [
    {
     "name": "stderr",
     "output_type": "stream",
     "text": [
      "Some weights of BertForSequenceClassification were not initialized from the model checkpoint at bert-base-uncased and are newly initialized: ['classifier.bias', 'classifier.weight']\n",
      "You should probably TRAIN this model on a down-stream task to be able to use it for predictions and inference.\n"
     ]
    },
    {
     "name": "stdout",
     "output_type": "stream",
     "text": [
      "Starting training: epochs - 3, lr - 1e-05, batch size - 32\n"
     ]
    },
    {
     "data": {
      "application/vnd.jupyter.widget-view+json": {
       "model_id": "d33e467cb34644fc957c99eed6064f7b",
       "version_major": 2,
       "version_minor": 0
      },
      "text/plain": [
       "  0%|          | 0/3 [00:00<?, ?it/s]"
      ]
     },
     "metadata": {},
     "output_type": "display_data"
    },
    {
     "name": "stdout",
     "output_type": "stream",
     "text": [
      "Epoch 1: Average Loss: 0.5481994335244771\n",
      "Epoch 2: Average Loss: 0.2944554743772237\n",
      "Epoch 3: Average Loss: 0.07621859522641099\n",
      "Training complete: epochs - 3, lr - 1e-05, batch size - 32\n"
     ]
    },
    {
     "name": "stderr",
     "output_type": "stream",
     "text": [
      "Some weights of BertForSequenceClassification were not initialized from the model checkpoint at bert-base-uncased and are newly initialized: ['classifier.bias', 'classifier.weight']\n",
      "You should probably TRAIN this model on a down-stream task to be able to use it for predictions and inference.\n"
     ]
    },
    {
     "name": "stdout",
     "output_type": "stream",
     "text": [
      "Starting training: epochs - 3, lr - 2e-05, batch size - 32\n"
     ]
    },
    {
     "data": {
      "application/vnd.jupyter.widget-view+json": {
       "model_id": "4e60cb13902648c4b3ef55871183791c",
       "version_major": 2,
       "version_minor": 0
      },
      "text/plain": [
       "  0%|          | 0/3 [00:00<?, ?it/s]"
      ]
     },
     "metadata": {},
     "output_type": "display_data"
    },
    {
     "name": "stdout",
     "output_type": "stream",
     "text": [
      "Epoch 1: Average Loss: 0.5202785876845322\n",
      "Epoch 2: Average Loss: 0.2516098818965707\n",
      "Epoch 3: Average Loss: 0.07464909994356828\n",
      "Training complete: epochs - 3, lr - 2e-05, batch size - 32\n"
     ]
    },
    {
     "name": "stderr",
     "output_type": "stream",
     "text": [
      "Some weights of BertForSequenceClassification were not initialized from the model checkpoint at bert-base-uncased and are newly initialized: ['classifier.bias', 'classifier.weight']\n",
      "You should probably TRAIN this model on a down-stream task to be able to use it for predictions and inference.\n"
     ]
    },
    {
     "name": "stdout",
     "output_type": "stream",
     "text": [
      "Starting training: epochs - 4, lr - 1e-05, batch size - 32\n"
     ]
    },
    {
     "data": {
      "application/vnd.jupyter.widget-view+json": {
       "model_id": "b8b31280f3924588ba43c04905d9a67e",
       "version_major": 2,
       "version_minor": 0
      },
      "text/plain": [
       "  0%|          | 0/4 [00:00<?, ?it/s]"
      ]
     },
     "metadata": {},
     "output_type": "display_data"
    },
    {
     "name": "stdout",
     "output_type": "stream",
     "text": [
      "Epoch 1: Average Loss: 0.5443306550335202\n",
      "Epoch 2: Average Loss: 0.2961413876259879\n",
      "Epoch 3: Average Loss: 0.08191456295653335\n",
      "Epoch 4: Average Loss: 0.03465378769281738\n",
      "Training complete: epochs - 4, lr - 1e-05, batch size - 32\n"
     ]
    },
    {
     "name": "stderr",
     "output_type": "stream",
     "text": [
      "Some weights of BertForSequenceClassification were not initialized from the model checkpoint at bert-base-uncased and are newly initialized: ['classifier.bias', 'classifier.weight']\n",
      "You should probably TRAIN this model on a down-stream task to be able to use it for predictions and inference.\n"
     ]
    },
    {
     "name": "stdout",
     "output_type": "stream",
     "text": [
      "Starting training: epochs - 4, lr - 2e-05, batch size - 32\n"
     ]
    },
    {
     "data": {
      "application/vnd.jupyter.widget-view+json": {
       "model_id": "a31accf7b3364c83bd3eb7d43b4b2a4d",
       "version_major": 2,
       "version_minor": 0
      },
      "text/plain": [
       "  0%|          | 0/4 [00:00<?, ?it/s]"
      ]
     },
     "metadata": {},
     "output_type": "display_data"
    },
    {
     "name": "stdout",
     "output_type": "stream",
     "text": [
      "Epoch 1: Average Loss: 0.5176957395992894\n",
      "Epoch 2: Average Loss: 0.250395518742715\n",
      "Epoch 3: Average Loss: 0.0701232722952134\n",
      "Epoch 4: Average Loss: 0.03954009522446416\n",
      "Training complete: epochs - 4, lr - 2e-05, batch size - 32\n",
      "Parameter tuning phase ended. Best parameters: epochs - 4, batch size - 32, lr - 2e-05\n",
      "\n",
      "--- TRAINING WITH BEST PARAMETERS ---\n",
      "BERT Accuracy: 0.9408380053113012\n"
     ]
    },
    {
     "name": "stderr",
     "output_type": "stream",
     "text": [
      "C:\\Users\\Eddy\\AppData\\Roaming\\Python\\Python312\\site-packages\\ml_things\\plot_functions.py:409: DeprecationWarning: `magnify` needs to have value in [0,1]! `1.2` will be converted to `0.1` as default.\n",
      "  warnings.warn(f'`magnify` needs to have value in [0,1]! `{magnify}` will be converted to `0.1` as default.',\n"
     ]
    },
    {
     "data": {
      "image/png": "[encoded data removed]",
      "text/plain": [
       "<Figure size 2880x720 with 1 Axes>"
      ]
     },
     "metadata": {},
     "output_type": "display_data"
    },
    {
     "name": "stderr",
     "output_type": "stream",
     "text": [
      "C:\\Users\\Eddy\\AppData\\Roaming\\Python\\Python312\\site-packages\\ml_things\\plot_functions.py:409: DeprecationWarning: `magnify` needs to have value in [0,1]! `1.2` will be converted to `0.1` as default.\n",
      "  warnings.warn(f'`magnify` needs to have value in [0,1]! `{magnify}` will be converted to `0.1` as default.',\n"
     ]
    },
    {
     "data": {
      "image/png": "[encoded data removed]",
      "text/plain": [
       "<Figure size 2880x720 with 1 Axes>"
      ]
     },
     "metadata": {},
     "output_type": "display_data"
    },
    {
     "name": "stdout",
     "output_type": "stream",
     "text": [
      "Classification Report:\n",
      "              precision    recall  f1-score   support\n",
      "\n",
      "     class 0       0.95      0.96      0.96      9913\n",
      "     class 1       0.89      0.90      0.90      6546\n",
      "     class 2       0.96      0.95      0.95     10653\n",
      "\n",
      "    accuracy                           0.94     27112\n",
      "   macro avg       0.93      0.94      0.94     27112\n",
      "weighted avg       0.94      0.94      0.94     27112\n",
      "\n",
      "Normalized confusion matrix\n"
     ]
    },
    {
     "data": {
      "image/png": "[encoded data removed]",
      "text/plain": [
       "<Figure size 2880x720 with 2 Axes>"
      ]
     },
     "metadata": {},
     "output_type": "display_data"
    },
    {
     "data": {
      "text/plain": [
       "array([[0.9589428 , 0.03036417, 0.01069303],\n",
       "       [0.05178735, 0.90192484, 0.04628781],\n",
       "       [0.01088895, 0.04120905, 0.947902  ]])"
      ]
     },
     "execution_count": 34,
     "metadata": {},
     "output_type": "execute_result"
    }
   ],
   "source": [
    "\n",
    "tokenized_texts_train_bert = tokenizer_bert(X_train, padding=True, truncation=True, max_length=MAX_LENGTH, return_tensors='pt')\n",
    "tokenized_texts_test_bert = tokenizer_bert(X_test, padding=True, truncation=True, max_length=MAX_LENGTH, return_tensors='pt')\n",
    "\n",
    "train_dataset_bert = TensorDataset(tokenized_texts_train_bert.input_ids, tokenized_texts_train_bert.attention_mask, labels_train)\n",
    "test_dataset_bert = TensorDataset(tokenized_texts_test_bert.input_ids, tokenized_texts_test_bert.attention_mask, labels_test)\n",
    "\n",
    "param_grid = {\n",
    "    'batch_size': [32],\n",
    "    'epochs': [3, 4],\n",
    "    'lr': [1e-5, 2e-5]\n",
    "}\n",
    "best_params = None\n",
    "best_accuracy = 0.0\n",
    "best_model_bert = None\n",
    "\n",
    "for batch_size in param_grid['batch_size']:\n",
    "    for epochs in param_grid['epochs']:\n",
    "        for lr in param_grid['lr']:\n",
    "            model_bert = BertForSequenceClassification.from_pretrained('bert-base-uncased', num_labels=3).to(DEVICE)\n",
    "            model_bert.resize_token_embeddings(len(tokenizer_bert))\n",
    "\n",
    "            model_bert, all_loss_bert, all_acc_bert = models_handler.train(model_bert, epochs, lr, batch_size, train_dataset_bert, test_dataset_bert, \"BERT\")\n",
    "\n",
    "            for val_accuracy in all_acc_gpt2['val_acc']:\n",
    "                if val_accuracy > best_accuracy:\n",
    "                    best_accuracy = val_accuracy\n",
    "                    best_params = {'batch_size': batch_size, 'epochs': epochs, 'lr': lr}\n",
    "                    best_model_bert = model_bert\n",
    "\n",
    "best_batch_size = best_params['batch_size']\n",
    "best_epochs = best_params['epochs']\n",
    "best_learning_rate = best_params['lr']\n",
    "\n",
    "print(f\"Parameter tuning phase ended. Best parameters: epochs - {best_epochs}, batch size - {best_batch_size}, lr - {best_learning_rate}\")\n",
    "print(\"\\n--- TRAINING WITH BEST PARAMETERS ---\")\n",
    "# model_bert = BertForSequenceClassification.from_pretrained('bert-base-uncased', num_labels=3).to(DEVICE)\n",
    "# model_bert.resize_token_embeddings(len(tokenizer_bert))\n",
    "# optimizer_bert = AdamW(model_bert.parameters(), lr=best_learning_rate, no_deprecation_warning=True)\n",
    "\n",
    "# model_bert, all_loss_bert, all_acc_bert = train_bert(model=model_bert, epochs=best_epochs, batch_size=best_batch_size, lr=best_learning_rate, DEVICE=DEVICE, save_model=True)\n",
    "\n",
    "torch.save(best_model_bert.state_dict(), 'bert_model.pth') # saving bert model\n",
    "\n",
    "true_labels_bert, predicted_labels_bert = models_handler.test(best_model_bert, best_batch_size, test_dataset_bert)\n",
    "\n",
    "accuracy_bert = accuracy_score(true_labels_bert, predicted_labels_bert)\n",
    "print(f'BERT Accuracy: {accuracy_bert}')\n",
    "\n",
    "plot_dict(all_loss_bert, use_xlabel='Epochs', use_ylabel='Value', use_linestyles=['-', '--'])\n",
    "plot_dict(all_acc_bert, use_xlabel='Epochs', use_ylabel='Value', use_linestyles=['-', '--'])\n",
    "\n",
    "print(\"Classification Report:\")\n",
    "print(classification_report(true_labels_bert, predicted_labels_bert, target_names=['class 0', 'class 1', 'class 2']))\n",
    "\n",
    "plot_confusion_matrix(y_true=true_labels_bert, y_pred=predicted_labels_bert, classes=[0, 1, 2], normalize=True, magnify=0.1, use_title=\"Confusion Matrix - BERT\")\n"
   ]
  },
  {
   "cell_type": "markdown",
   "metadata": {},
   "source": [
    "# XLNet"
   ]
  },
  {
   "cell_type": "code",
   "execution_count": 6,
   "metadata": {},
   "outputs": [
    {
     "name": "stdout",
     "output_type": "stream",
     "text": [
      "cuda\n"
     ]
    },
    {
     "name": "stderr",
     "output_type": "stream",
     "text": [
      "Some weights of XLNetForSequenceClassification were not initialized from the model checkpoint at xlnet-base-cased and are newly initialized: ['logits_proj.bias', 'logits_proj.weight', 'sequence_summary.summary.bias', 'sequence_summary.summary.weight']\n",
      "You should probably TRAIN this model on a down-stream task to be able to use it for predictions and inference.\n"
     ]
    },
    {
     "name": "stdout",
     "output_type": "stream",
     "text": [
      "Starting training: epochs - 3, lr - 1e-05, batch size - 32\n"
     ]
    },
    {
     "data": {
      "application/vnd.jupyter.widget-view+json": {
       "model_id": "bf0311bc129847aaacde9b7349a8ec2f",
       "version_major": 2,
       "version_minor": 0
      },
      "text/plain": [
       "  0%|          | 0/3 [00:00<?, ?it/s]"
      ]
     },
     "metadata": {},
     "output_type": "display_data"
    },
    {
     "name": "stdout",
     "output_type": "stream",
     "text": [
      "Epoch 1: Average Loss: 1.0762577613007183\n",
      "Epoch 2: Average Loss: 1.0323479197376348\n",
      "Epoch 3: Average Loss: 0.9895360990589296\n",
      "Training complete: epochs - 3, lr - 1e-05, batch size - 32\n"
     ]
    },
    {
     "name": "stderr",
     "output_type": "stream",
     "text": [
      "Some weights of XLNetForSequenceClassification were not initialized from the model checkpoint at xlnet-base-cased and are newly initialized: ['logits_proj.bias', 'logits_proj.weight', 'sequence_summary.summary.bias', 'sequence_summary.summary.weight']\n",
      "You should probably TRAIN this model on a down-stream task to be able to use it for predictions and inference.\n"
     ]
    },
    {
     "name": "stdout",
     "output_type": "stream",
     "text": [
      "Starting training: epochs - 3, lr - 2e-05, batch size - 32\n"
     ]
    },
    {
     "data": {
      "application/vnd.jupyter.widget-view+json": {
       "model_id": "053b3d0f69564db0860bf58c40b353eb",
       "version_major": 2,
       "version_minor": 0
      },
      "text/plain": [
       "  0%|          | 0/3 [00:00<?, ?it/s]"
      ]
     },
     "metadata": {},
     "output_type": "display_data"
    },
    {
     "name": "stdout",
     "output_type": "stream",
     "text": [
      "Epoch 1: Average Loss: 0.0008069824245025719\n",
      "Epoch 2: Average Loss: 9.224197420166767e-07\n",
      "Epoch 3: Average Loss: 5.342695265439182e-07\n",
      "Training complete: epochs - 3, lr - 2e-05, batch size - 32\n"
     ]
    },
    {
     "name": "stderr",
     "output_type": "stream",
     "text": [
      "Some weights of XLNetForSequenceClassification were not initialized from the model checkpoint at xlnet-base-cased and are newly initialized: ['logits_proj.bias', 'logits_proj.weight', 'sequence_summary.summary.bias', 'sequence_summary.summary.weight']\n",
      "You should probably TRAIN this model on a down-stream task to be able to use it for predictions and inference.\n"
     ]
    },
    {
     "name": "stdout",
     "output_type": "stream",
     "text": [
      "Starting training: epochs - 4, lr - 1e-05, batch size - 32\n"
     ]
    },
    {
     "data": {
      "application/vnd.jupyter.widget-view+json": {
       "model_id": "b9c87c75349543eebb9a0f56bd85a1ab",
       "version_major": 2,
       "version_minor": 0
      },
      "text/plain": [
       "  0%|          | 0/4 [00:00<?, ?it/s]"
      ]
     },
     "metadata": {},
     "output_type": "display_data"
    },
    {
     "name": "stdout",
     "output_type": "stream",
     "text": [
      "Epoch 1: Average Loss: 0.001300812731536504\n",
      "Epoch 2: Average Loss: 2.9114500023817257e-06\n",
      "Epoch 3: Average Loss: 1.4786229837148807e-06\n",
      "Epoch 4: Average Loss: 6.683262499759249e-07\n",
      "Training complete: epochs - 4, lr - 1e-05, batch size - 32\n"
     ]
    },
    {
     "name": "stderr",
     "output_type": "stream",
     "text": [
      "Some weights of XLNetForSequenceClassification were not initialized from the model checkpoint at xlnet-base-cased and are newly initialized: ['logits_proj.bias', 'logits_proj.weight', 'sequence_summary.summary.bias', 'sequence_summary.summary.weight']\n",
      "You should probably TRAIN this model on a down-stream task to be able to use it for predictions and inference.\n"
     ]
    },
    {
     "name": "stdout",
     "output_type": "stream",
     "text": [
      "Starting training: epochs - 4, lr - 2e-05, batch size - 32\n"
     ]
    },
    {
     "data": {
      "application/vnd.jupyter.widget-view+json": {
       "model_id": "1ab58cc311f54e20b21ca2d2f95cef0f",
       "version_major": 2,
       "version_minor": 0
      },
      "text/plain": [
       "  0%|          | 0/4 [00:00<?, ?it/s]"
      ]
     },
     "metadata": {},
     "output_type": "display_data"
    },
    {
     "name": "stdout",
     "output_type": "stream",
     "text": [
      "Epoch 1: Average Loss: 0.0006715577118100329\n"
     ]
    },
    {
     "ename": "KeyboardInterrupt",
     "evalue": "",
     "output_type": "error",
     "traceback": [
      "\u001b[1;31m---------------------------------------------------------------------------\u001b[0m",
      "\u001b[1;31mKeyboardInterrupt\u001b[0m                         Traceback (most recent call last)",
      "Cell \u001b[1;32mIn[6], line 92\u001b[0m\n\u001b[0;32m     89\u001b[0m model_xlnet \u001b[38;5;241m=\u001b[39m XLNetForSequenceClassification\u001b[38;5;241m.\u001b[39mfrom_pretrained(\u001b[38;5;124m\"\u001b[39m\u001b[38;5;124mxlnet-base-cased\u001b[39m\u001b[38;5;124m\"\u001b[39m, num_labels\u001b[38;5;241m=\u001b[39m\u001b[38;5;241m3\u001b[39m)\u001b[38;5;241m.\u001b[39mto(device)\n\u001b[0;32m     90\u001b[0m model_xlnet\u001b[38;5;241m.\u001b[39mresize_token_embeddings(\u001b[38;5;28mlen\u001b[39m(tokenizer_xlnet))\n\u001b[1;32m---> 92\u001b[0m model_xlnet, all_loss_xlnet, all_acc_xlnet \u001b[38;5;241m=\u001b[39m \u001b[43mtrain_xlnet\u001b[49m\u001b[43m(\u001b[49m\u001b[43mmodel\u001b[49m\u001b[38;5;241;43m=\u001b[39;49m\u001b[43mmodel_xlnet\u001b[49m\u001b[43m,\u001b[49m\u001b[43m \u001b[49m\u001b[43mepochs\u001b[49m\u001b[38;5;241;43m=\u001b[39;49m\u001b[43mepochs\u001b[49m\u001b[43m,\u001b[49m\u001b[43m \u001b[49m\u001b[43mbatch_size\u001b[49m\u001b[38;5;241;43m=\u001b[39;49m\u001b[43mbatch_size\u001b[49m\u001b[43m,\u001b[49m\u001b[43m \u001b[49m\u001b[43mlr\u001b[49m\u001b[38;5;241;43m=\u001b[39;49m\u001b[43mlr\u001b[49m\u001b[43m,\u001b[49m\u001b[43m \u001b[49m\u001b[43mdevice\u001b[49m\u001b[38;5;241;43m=\u001b[39;49m\u001b[43mdevice\u001b[49m\u001b[43m)\u001b[49m\n\u001b[0;32m     94\u001b[0m val_accuracy \u001b[38;5;241m=\u001b[39m all_acc_xlnet[\u001b[38;5;124m'\u001b[39m\u001b[38;5;124mval_acc\u001b[39m\u001b[38;5;124m'\u001b[39m][\u001b[38;5;241m-\u001b[39m\u001b[38;5;241m1\u001b[39m]\n\u001b[0;32m     96\u001b[0m \u001b[38;5;28;01mif\u001b[39;00m val_accuracy \u001b[38;5;241m>\u001b[39m best_accuracy:\n",
      "Cell \u001b[1;32mIn[6], line 44\u001b[0m, in \u001b[0;36mtrain_xlnet\u001b[1;34m(model, epochs, lr, batch_size, device, save_model)\u001b[0m\n\u001b[0;32m     41\u001b[0m     total_correct_train \u001b[38;5;241m+\u001b[39m\u001b[38;5;241m=\u001b[39m (predicted_train \u001b[38;5;241m==\u001b[39m labels)\u001b[38;5;241m.\u001b[39msum()\u001b[38;5;241m.\u001b[39mitem()\n\u001b[0;32m     43\u001b[0m     loss\u001b[38;5;241m.\u001b[39mbackward()\n\u001b[1;32m---> 44\u001b[0m     \u001b[43moptimizer\u001b[49m\u001b[38;5;241;43m.\u001b[39;49m\u001b[43mstep\u001b[49m\u001b[43m(\u001b[49m\u001b[43m)\u001b[49m\n\u001b[0;32m     45\u001b[0m avg_loss \u001b[38;5;241m=\u001b[39m total_loss \u001b[38;5;241m/\u001b[39m \u001b[38;5;28mlen\u001b[39m(train_loader_xlnet)\n\u001b[0;32m     46\u001b[0m \u001b[38;5;28mprint\u001b[39m(\u001b[38;5;124mf\u001b[39m\u001b[38;5;124m'\u001b[39m\u001b[38;5;124mEpoch \u001b[39m\u001b[38;5;132;01m{\u001b[39;00mepoch\u001b[38;5;250m \u001b[39m\u001b[38;5;241m+\u001b[39m\u001b[38;5;250m \u001b[39m\u001b[38;5;241m1\u001b[39m\u001b[38;5;132;01m}\u001b[39;00m\u001b[38;5;124m: Average Loss: \u001b[39m\u001b[38;5;132;01m{\u001b[39;00mavg_loss\u001b[38;5;132;01m}\u001b[39;00m\u001b[38;5;124m'\u001b[39m)\n",
      "File \u001b[1;32m~\\AppData\\Roaming\\Python\\Python312\\site-packages\\torch\\optim\\optimizer.py:385\u001b[0m, in \u001b[0;36mOptimizer.profile_hook_step.<locals>.wrapper\u001b[1;34m(*args, **kwargs)\u001b[0m\n\u001b[0;32m    380\u001b[0m         \u001b[38;5;28;01melse\u001b[39;00m:\n\u001b[0;32m    381\u001b[0m             \u001b[38;5;28;01mraise\u001b[39;00m \u001b[38;5;167;01mRuntimeError\u001b[39;00m(\n\u001b[0;32m    382\u001b[0m                 \u001b[38;5;124mf\u001b[39m\u001b[38;5;124m\"\u001b[39m\u001b[38;5;132;01m{\u001b[39;00mfunc\u001b[38;5;132;01m}\u001b[39;00m\u001b[38;5;124m must return None or a tuple of (new_args, new_kwargs), but got \u001b[39m\u001b[38;5;132;01m{\u001b[39;00mresult\u001b[38;5;132;01m}\u001b[39;00m\u001b[38;5;124m.\u001b[39m\u001b[38;5;124m\"\u001b[39m\n\u001b[0;32m    383\u001b[0m             )\n\u001b[1;32m--> 385\u001b[0m out \u001b[38;5;241m=\u001b[39m \u001b[43mfunc\u001b[49m\u001b[43m(\u001b[49m\u001b[38;5;241;43m*\u001b[39;49m\u001b[43margs\u001b[49m\u001b[43m,\u001b[49m\u001b[43m \u001b[49m\u001b[38;5;241;43m*\u001b[39;49m\u001b[38;5;241;43m*\u001b[39;49m\u001b[43mkwargs\u001b[49m\u001b[43m)\u001b[49m\n\u001b[0;32m    386\u001b[0m \u001b[38;5;28mself\u001b[39m\u001b[38;5;241m.\u001b[39m_optimizer_step_code()\n\u001b[0;32m    388\u001b[0m \u001b[38;5;66;03m# call optimizer step post hooks\u001b[39;00m\n",
      "File \u001b[1;32m~\\AppData\\Roaming\\Python\\Python312\\site-packages\\torch\\utils\\_contextlib.py:115\u001b[0m, in \u001b[0;36mcontext_decorator.<locals>.decorate_context\u001b[1;34m(*args, **kwargs)\u001b[0m\n\u001b[0;32m    112\u001b[0m \u001b[38;5;129m@functools\u001b[39m\u001b[38;5;241m.\u001b[39mwraps(func)\n\u001b[0;32m    113\u001b[0m \u001b[38;5;28;01mdef\u001b[39;00m \u001b[38;5;21mdecorate_context\u001b[39m(\u001b[38;5;241m*\u001b[39margs, \u001b[38;5;241m*\u001b[39m\u001b[38;5;241m*\u001b[39mkwargs):\n\u001b[0;32m    114\u001b[0m     \u001b[38;5;28;01mwith\u001b[39;00m ctx_factory():\n\u001b[1;32m--> 115\u001b[0m         \u001b[38;5;28;01mreturn\u001b[39;00m \u001b[43mfunc\u001b[49m\u001b[43m(\u001b[49m\u001b[38;5;241;43m*\u001b[39;49m\u001b[43margs\u001b[49m\u001b[43m,\u001b[49m\u001b[43m \u001b[49m\u001b[38;5;241;43m*\u001b[39;49m\u001b[38;5;241;43m*\u001b[39;49m\u001b[43mkwargs\u001b[49m\u001b[43m)\u001b[49m\n",
      "File \u001b[1;32m~\\AppData\\Roaming\\Python\\Python312\\site-packages\\transformers\\optimization.py:513\u001b[0m, in \u001b[0;36mAdamW.step\u001b[1;34m(self, closure)\u001b[0m\n\u001b[0;32m    510\u001b[0m \u001b[38;5;66;03m# Decay the first and second moment running average coefficient\u001b[39;00m\n\u001b[0;32m    511\u001b[0m \u001b[38;5;66;03m# In-place operations to update the averages at the same time\u001b[39;00m\n\u001b[0;32m    512\u001b[0m exp_avg\u001b[38;5;241m.\u001b[39mmul_(beta1)\u001b[38;5;241m.\u001b[39madd_(grad, alpha\u001b[38;5;241m=\u001b[39m(\u001b[38;5;241m1.0\u001b[39m \u001b[38;5;241m-\u001b[39m beta1))\n\u001b[1;32m--> 513\u001b[0m \u001b[43mexp_avg_sq\u001b[49m\u001b[38;5;241;43m.\u001b[39;49m\u001b[43mmul_\u001b[49m\u001b[43m(\u001b[49m\u001b[43mbeta2\u001b[49m\u001b[43m)\u001b[49m\u001b[38;5;241m.\u001b[39maddcmul_(grad, grad, value\u001b[38;5;241m=\u001b[39m\u001b[38;5;241m1.0\u001b[39m \u001b[38;5;241m-\u001b[39m beta2)\n\u001b[0;32m    514\u001b[0m denom \u001b[38;5;241m=\u001b[39m exp_avg_sq\u001b[38;5;241m.\u001b[39msqrt()\u001b[38;5;241m.\u001b[39madd_(group[\u001b[38;5;124m\"\u001b[39m\u001b[38;5;124meps\u001b[39m\u001b[38;5;124m\"\u001b[39m])\n\u001b[0;32m    516\u001b[0m step_size \u001b[38;5;241m=\u001b[39m group[\u001b[38;5;124m\"\u001b[39m\u001b[38;5;124mlr\u001b[39m\u001b[38;5;124m\"\u001b[39m]\n",
      "\u001b[1;31mKeyboardInterrupt\u001b[0m: "
     ]
    }
   ],
   "source": [
    "\n",
    "tokenized_texts_train_xlnet = tokenizer_xlnet(X_train, padding=True, truncation=True, max_length=MAX_LENGTH, return_tensors='pt')\n",
    "tokenized_texts_test_xlnet = tokenizer_xlnet(X_test, padding=True, truncation=True, max_length=MAX_LENGTH, return_tensors='pt')\n",
    "\n",
    "train_dataset_xlnet = TensorDataset(tokenized_texts_train_xlnet.input_ids, tokenized_texts_train_xlnet.attention_mask, labels_train)\n",
    "test_dataset_xlnet = TensorDataset(tokenized_texts_test_xlnet.input_ids, tokenized_texts_test_xlnet.attention_mask, labels_test)\n",
    "\n",
    "param_grid = {\n",
    "    'batch_size': [32],\n",
    "    'epochs': [3, 4],\n",
    "    'lr': [1e-5, 2e-5]\n",
    "}\n",
    "best_params = None\n",
    "best_accuracy = 0.0\n",
    "best_model_xlnet = None\n",
    "\n",
    "for batch_size in param_grid['batch_size']:\n",
    "    for epochs in param_grid['epochs']:\n",
    "        for lr in param_grid['lr']:\n",
    "            model_xlnet = XLNetForSequenceClassification.from_pretrained(\"xlnet-base-cased\", num_labels=3).to(DEVICE)\n",
    "            model_xlnet.resize_token_embeddings(len(tokenizer_xlnet))\n",
    "\n",
    "            model_xlnet, all_loss_xlnet, all_acc_xlnet = models_handler.train(model_xlnet, epochs, lr, batch_size, train_dataset_xlnet, test_dataset_xlnet, \"XLNet\")\n",
    "\n",
    "            val_accuracy = all_acc_xlnet['val_acc'][-1]\n",
    "\n",
    "            if val_accuracy > best_accuracy:\n",
    "                best_accuracy = val_accuracy\n",
    "                best_params = {'batch_size': batch_size, 'epochs': epochs, 'lr': lr}\n",
    "                best_model_xlnet = model_xlnet\n",
    "\n",
    "best_batch_size = best_params['batch_size']\n",
    "best_epochs = best_params['epochs']\n",
    "best_learning_rate = best_params['lr']\n",
    "\n",
    "print(f\"Parameter tuning phase ended. Best parameters: epochs - {best_epochs}, batch size - {best_batch_size}, lr - {best_learning_rate}\")\n",
    "\n",
    "torch.save(best_model_xlnet.state_dict(), 'xlnet_model.pth') # saving bert model\n",
    "\n",
    "true_labels_xlnet, predicted_labels_xlnet = models_handler.test(best_model_xlnet, batch_size, test_dataset_xlnet)\n",
    "\n",
    "accuracy_xlnet = accuracy_score(true_labels_xlnet, predicted_labels_xlnet)\n",
    "print(f'XLNET Accuracy: {accuracy_xlnet}')\n",
    "\n",
    "plot_dict(all_loss_xlnet, use_xlabel='Epochs', use_ylabel='Value', use_linestyles=['-', '--'])\n",
    "plot_dict(all_acc_xlnet, use_xlabel='Epochs', use_ylabel='Value', use_linestyles=['-', '--'])\n",
    "\n",
    "print(\"Classification Report:\")\n",
    "print(classification_report(true_labels_xlnet, predicted_labels_xlnet, target_names=['class 0', 'class 1', 'class 2']))\n",
    "\n",
    "plot_confusion_matrix(y_true=true_labels_xlnet, y_pred=predicted_labels_xlnet, classes=[0, 1, 2], normalize=True, magnify=0.1, use_title=\"Confusion Matrix - XLNET\")\n"
   ]
  },
  {
   "cell_type": "markdown",
   "metadata": {},
   "source": [
    "# Testing some sentences"
   ]
  },
  {
   "cell_type": "code",
   "execution_count": 40,
   "metadata": {},
   "outputs": [
    {
     "name": "stdout",
     "output_type": "stream",
     "text": [
      "----\n",
      "Input: Fuck you and your entire country stupid French\n",
      "\n",
      "Logistic Regression Response: Class 1 - offensive language\n",
      "Logistic Regression Probabilities: [[0.0011995  0.81613303 0.18266747]]\n",
      "\n",
      "XLNET Response: Class 0 - hate speech\n",
      "XLNET Probabilities: tensor([[0.3639, 0.3180, 0.3180]], device='cuda:0')\n",
      "\n",
      "BERT Response: Class 0 - hate speech\n",
      "BERT Probabilities: tensor([[9.8594e-01, 1.3910e-02, 1.5185e-04]], device='cuda:0')\n",
      "\n",
      "GPT-2 Response: Class 0 - hate speech\n",
      "GPT-2 Probabilities: tensor([[0.6126, 0.2258, 0.1616]], device='cuda:0')\n",
      "\n",
      "Cooperative result: Class 0.333 - hate speech\n",
      "\n",
      "----\n",
      "Input: Hi how are you?\n",
      "\n",
      "Logistic Regression Response: Class 2 - message approved\n",
      "Logistic Regression Probabilities: [[0.15479571 0.01169382 0.83351047]]\n",
      "\n",
      "XLNET Response: Class 0 - hate speech\n",
      "XLNET Probabilities: tensor([[0.3639, 0.3180, 0.3180]], device='cuda:0')\n",
      "\n",
      "BERT Response: Class 2 - message approved\n",
      "BERT Probabilities: tensor([[0.0015, 0.0200, 0.9784]], device='cuda:0')\n",
      "\n",
      "GPT-2 Response: Class 2 - message approved\n",
      "GPT-2 Probabilities: tensor([[0.0106, 0.0519, 0.9375]], device='cuda:0')\n",
      "\n",
      "Cooperative result: Class 2.000 - message approved\n",
      "\n",
      "----\n",
      "Input: weather is wonderful today\n",
      "\n",
      "Logistic Regression Response: Class 1 - offensive language\n",
      "Logistic Regression Probabilities: [[3.36679538e-05 9.86435280e-01 1.35310518e-02]]\n",
      "\n",
      "XLNET Response: Class 0 - hate speech\n",
      "XLNET Probabilities: tensor([[0.3639, 0.3180, 0.3180]], device='cuda:0')\n",
      "\n",
      "BERT Response: Class 2 - message approved\n",
      "BERT Probabilities: tensor([[0.0013, 0.0050, 0.9937]], device='cuda:0')\n",
      "\n",
      "GPT-2 Response: Class 2 - message approved\n",
      "GPT-2 Probabilities: tensor([[0.0025, 0.0064, 0.9910]], device='cuda:0')\n",
      "\n",
      "Cooperative result: Class 1.667 - message approved\n",
      "\n",
      "----\n",
      "Input: fucking bitch you are so stupid\n",
      "\n",
      "Logistic Regression Response: Class 0 - hate speech\n",
      "Logistic Regression Probabilities: [[0.77127775 0.22294166 0.00578059]]\n",
      "\n",
      "XLNET Response: Class 0 - hate speech\n",
      "XLNET Probabilities: tensor([[0.3639, 0.3180, 0.3180]], device='cuda:0')\n",
      "\n",
      "BERT Response: Class 0 - hate speech\n",
      "BERT Probabilities: tensor([[0.9344, 0.0641, 0.0015]], device='cuda:0')\n",
      "\n",
      "GPT-2 Response: Class 0 - hate speech\n",
      "GPT-2 Probabilities: tensor([[0.7150, 0.2359, 0.0492]], device='cuda:0')\n",
      "\n",
      "Cooperative result: Class 0.000 - hate speech\n",
      "\n",
      "----\n",
      "Input: go back to africa nigga\n",
      "\n",
      "Logistic Regression Response: Class 0 - hate speech\n",
      "Logistic Regression Probabilities: [[0.84012724 0.10905691 0.05081585]]\n",
      "\n",
      "XLNET Response: Class 0 - hate speech\n",
      "XLNET Probabilities: tensor([[0.3639, 0.3180, 0.3180]], device='cuda:0')\n",
      "\n",
      "BERT Response: Class 0 - hate speech\n",
      "BERT Probabilities: tensor([[9.9595e-01, 3.6579e-03, 3.9389e-04]], device='cuda:0')\n",
      "\n",
      "GPT-2 Response: Class 1 - offensive language\n",
      "GPT-2 Probabilities: tensor([[0.2439, 0.7289, 0.0273]], device='cuda:0')\n",
      "\n",
      "Cooperative result: Class 0.331 - hate speech\n",
      "\n",
      "----\n",
      "Input: stupid autistic nigga\n",
      "\n",
      "Logistic Regression Response: Class 0 - hate speech\n",
      "Logistic Regression Probabilities: [[0.5453762  0.44404212 0.01058168]]\n",
      "\n",
      "XLNET Response: Class 0 - hate speech\n",
      "XLNET Probabilities: tensor([[0.3639, 0.3180, 0.3180]], device='cuda:0')\n",
      "\n",
      "BERT Response: Class 0 - hate speech\n",
      "BERT Probabilities: tensor([[9.9724e-01, 2.5913e-03, 1.7120e-04]], device='cuda:0')\n",
      "\n",
      "GPT-2 Response: Class 0 - hate speech\n",
      "GPT-2 Probabilities: tensor([[0.8380, 0.1477, 0.0142]], device='cuda:0')\n",
      "\n",
      "Cooperative result: Class 0.000 - hate speech\n",
      "\n",
      "----\n",
      "Input: you are a beatiful butterfly\n",
      "\n",
      "Logistic Regression Response: Class 2 - message approved\n",
      "Logistic Regression Probabilities: [[0.21179756 0.09652036 0.69168208]]\n",
      "\n",
      "XLNET Response: Class 0 - hate speech\n",
      "XLNET Probabilities: tensor([[0.3639, 0.3180, 0.3180]], device='cuda:0')\n",
      "\n",
      "BERT Response: Class 0 - hate speech\n",
      "BERT Probabilities: tensor([[0.5320, 0.4229, 0.0451]], device='cuda:0')\n",
      "\n",
      "GPT-2 Response: Class 2 - message approved\n",
      "GPT-2 Probabilities: tensor([[0.0119, 0.4875, 0.5005]], device='cuda:0')\n",
      "\n",
      "Cooperative result: Class 1.328 - offensive language\n",
      "\n",
      "----\n",
      "Input: The dishes at the belzoni restourant are good\n",
      "\n",
      "Logistic Regression Response: Class 0 - hate speech\n",
      "Logistic Regression Probabilities: [[0.9305458  0.03046889 0.03898531]]\n",
      "\n",
      "XLNET Response: Class 0 - hate speech\n",
      "XLNET Probabilities: tensor([[0.3639, 0.3180, 0.3180]], device='cuda:0')\n",
      "\n",
      "BERT Response: Class 2 - message approved\n",
      "BERT Probabilities: tensor([[0.0014, 0.4967, 0.5019]], device='cuda:0')\n",
      "\n",
      "GPT-2 Response: Class 2 - message approved\n",
      "GPT-2 Probabilities: tensor([[8.2199e-05, 7.5560e-04, 9.9916e-01]], device='cuda:0')\n",
      "\n",
      "Cooperative result: Class 1.334 - offensive language\n",
      "\n",
      "----\n",
      "Input: Stupid goat\n",
      "\n",
      "Logistic Regression Response: Class 0 - hate speech\n",
      "Logistic Regression Probabilities: [[0.7253568  0.13932882 0.13531438]]\n",
      "\n",
      "XLNET Response: Class 0 - hate speech\n",
      "XLNET Probabilities: tensor([[0.3639, 0.3180, 0.3180]], device='cuda:0')\n",
      "\n",
      "BERT Response: Class 0 - hate speech\n",
      "BERT Probabilities: tensor([[9.8350e-01, 1.6351e-02, 1.5170e-04]], device='cuda:0')\n",
      "\n",
      "GPT-2 Response: Class 0 - hate speech\n",
      "GPT-2 Probabilities: tensor([[0.9032, 0.0923, 0.0045]], device='cuda:0')\n",
      "\n",
      "Cooperative result: Class 0.000 - hate speech\n",
      "\n",
      "----\n",
      "Input: I'm dreaming that a bomb fall in your city\n",
      "\n",
      "Logistic Regression Response: Class 1 - offensive language\n",
      "Logistic Regression Probabilities: [[0.20442323 0.73252218 0.06305459]]\n",
      "\n",
      "XLNET Response: Class 0 - hate speech\n",
      "XLNET Probabilities: tensor([[0.3639, 0.3180, 0.3180]], device='cuda:0')\n",
      "\n",
      "BERT Response: Class 1 - offensive language\n",
      "BERT Probabilities: tensor([[6.3220e-05, 9.9616e-01, 3.7818e-03]], device='cuda:0')\n",
      "\n",
      "GPT-2 Response: Class 1 - offensive language\n",
      "GPT-2 Probabilities: tensor([[0.0022, 0.9923, 0.0055]], device='cuda:0')\n",
      "\n",
      "Cooperative result: Class 1.000 - offensive language\n",
      "\n",
      "----\n",
      "Input: Son of bitch\n",
      "\n",
      "Logistic Regression Response: Class 1 - offensive language\n",
      "Logistic Regression Probabilities: [[0.21914619 0.67816813 0.10268568]]\n",
      "\n",
      "XLNET Response: Class 0 - hate speech\n",
      "XLNET Probabilities: tensor([[0.3639, 0.3180, 0.3180]], device='cuda:0')\n",
      "\n",
      "BERT Response: Class 1 - offensive language\n",
      "BERT Probabilities: tensor([[4.1399e-04, 9.9950e-01, 8.1230e-05]], device='cuda:0')\n",
      "\n",
      "GPT-2 Response: Class 0 - hate speech\n",
      "GPT-2 Probabilities: tensor([[0.8304, 0.1533, 0.0164]], device='cuda:0')\n",
      "\n",
      "Cooperative result: Class 0.669 - offensive language\n",
      "\n",
      "----\n",
      "Input: love you son of a bitch\n",
      "\n",
      "Logistic Regression Response: Class 1 - offensive language\n",
      "Logistic Regression Probabilities: [[0.07702838 0.60341959 0.31955203]]\n",
      "\n",
      "XLNET Response: Class 0 - hate speech\n",
      "XLNET Probabilities: tensor([[0.3639, 0.3180, 0.3180]], device='cuda:0')\n",
      "\n",
      "BERT Response: Class 1 - offensive language\n",
      "BERT Probabilities: tensor([[1.0916e-03, 9.9817e-01, 7.3431e-04]], device='cuda:0')\n",
      "\n",
      "GPT-2 Response: Class 1 - offensive language\n",
      "GPT-2 Probabilities: tensor([[0.0518, 0.8240, 0.1242]], device='cuda:0')\n",
      "\n",
      "Cooperative result: Class 1.000 - offensive language\n",
      "\n"
     ]
    }
   ],
   "source": [
    "input_sentences = [\n",
    "    \"Fuck you and your entire country stupid French\",\n",
    "    \"Hi how are you?\",\n",
    "    \"weather is wonderful today\",\n",
    "    \"fucking bitch you are so stupid\", \n",
    "    \"go back to africa nigga\", \n",
    "    \"stupid autistic nigga\", \n",
    "    \"you are a beatiful butterfly\", \n",
    "    \"The dishes at the belzoni restourant are good\", \n",
    "    \"Stupid goat\", \n",
    "    \"I'm dreaming that a bomb fall in your city\", \n",
    "    \"Son of bitch\", \n",
    "    \"love you son of a bitch\"]\n",
    "\n",
    "messages = [\"hate speech\", \"offensive language\", \"message approved\"]\n",
    "\n",
    "preprocessed_input_sentences = preprocessing.clean_text(input_sentences)\n",
    "preprocessed_input_sentences = preprocessing.remove_stopwords(preprocessed_input_sentences)\n",
    "preprocessed_input_sentences = preprocessing.apply_stemming(preprocessed_input_sentences)\n",
    "preprocessed_input_sentences = preprocessing.apply_lemmatization(preprocessed_input_sentences)\n",
    "\n",
    "\n",
    "model_gpt2.load_state_dict(torch.load('gpt2_model.pth', map_location = DEVICE))  # Load pre-trained GPT-2 model from disk\n",
    "model_bert.load_state_dict(torch.load('bert_model.pth', map_location = DEVICE))  # Load pre-trained BERT model from disk\n",
    "model_xlnet.load_state_dict(torch.load('xlnet_model.pth', map_location = DEVICE))  # Load pre-trained BERT model from disk\n",
    "\n",
    "model_LR = load('LogisticRegression_model.joblib')\n",
    "\n",
    "with open(\"accuracy_bert.txt\", \"r\") as file:\n",
    "    accuracy_bert = float(file.read())\n",
    "\n",
    "with open(\"accuracy_gpt2.txt\", \"r\") as file:\n",
    "    accuracy_gpt2 = float(file.read())\n",
    "\n",
    "with open(\"accuracy_LR.txt\", \"r\") as file:\n",
    "    accuracy_LR = float(file.read())\n",
    "\n",
    "\n",
    "# LOGISTIC REGRESSION\n",
    "\n",
    "# Transform the input sentences\n",
    "input_LR = vectorizer.transform(preprocessed_input_sentences)\n",
    "\n",
    "predicted_classes_LR = []\n",
    "predicted_probs_LR = []\n",
    "for row in input_LR:\n",
    "    # Reshape the row to be a 2D array\n",
    "    row = row.reshape(1, -1)\n",
    "\n",
    "    # Make prediction\n",
    "    predicted_class_LR = model_LR.predict(row)\n",
    "    predicted_classes_LR.append(predicted_class_LR)\n",
    "\n",
    "    predicted_prob_LR = model_LR.predict_proba(row)\n",
    "    predicted_probs_LR.append(predicted_prob_LR)\n",
    "\n",
    "\n",
    "for original_sentence, input_sentence, row, prob_LR in zip(input_sentences, preprocessed_input_sentences, input_LR, predicted_probs_LR):\n",
    "    print(\"----\")\n",
    "    print(f\"Input: {original_sentence}\")\n",
    "    print(\"\")\n",
    "\n",
    "    # LOGISTIC REGRESSION\n",
    "    # Reshape the row to be a 2D array\n",
    "    row = row.reshape(1, -1)\n",
    "\n",
    "    # Make prediction\n",
    "    predicted_class_LR = (model_LR.predict(row))[0]\n",
    "    print(f\"Logistic Regression Response: Class {predicted_class_LR} - {messages[predicted_class_LR]}\")\n",
    "    print(f\"Logistic Regression Probabilities: {prob_LR}\")\n",
    "    print(\"\")\n",
    "\n",
    "    # XLNET\n",
    "\n",
    "    input_ids_xlnet = tokenizer_xlnet.encode(input_sentence, return_tensors='pt').to(DEVICE)\n",
    "    attention_mask_xlnet = torch.ones_like(input_ids_xlnet).to(DEVICE)\n",
    "\n",
    "    with torch.no_grad():\n",
    "        outputs_xlnet = model_xlnet(input_ids_xlnet, attention_mask=attention_mask_xlnet)\n",
    "        predicted_probs_xlnet = torch.softmax(outputs_xlnet.logits, dim=1)\n",
    "        predicted_class_xlnet = torch.argmax(outputs_xlnet.logits, dim=1).item()\n",
    "\n",
    "    print(f\"XLNET Response: Class {predicted_class_xlnet} - {messages[predicted_class_xlnet]}\")\n",
    "    print(f\"XLNET Probabilities: {predicted_probs_xlnet}\")\n",
    "    print(\"\")\n",
    "    \n",
    "    # BERT\n",
    "\n",
    "    # Tokenize input for BERT\n",
    "    input_ids_bert = tokenizer_bert.encode(input_sentence, return_tensors='pt').to(DEVICE)\n",
    "    attention_mask_bert = torch.ones_like(input_ids_bert).to(DEVICE)\n",
    "\n",
    "    # Generate output for BERT\n",
    "    with torch.no_grad():\n",
    "        outputs_bert = model_bert(input_ids_bert, attention_mask=attention_mask_bert)\n",
    "        predicted_probs_bert = torch.softmax(outputs_bert.logits, dim=1)\n",
    "        predicted_class_bert = torch.argmax(outputs_bert.logits, dim=1).item()\n",
    "\n",
    "    print(f\"BERT Response: Class {predicted_class_bert} - {messages[predicted_class_bert]}\")\n",
    "    print(f\"BERT Probabilities: {predicted_probs_bert}\")\n",
    "    print(\"\")\n",
    "\n",
    "    # GPT-2\n",
    "\n",
    "    # Tokenize input for GPT-2\n",
    "    input_ids_gpt2 = tokenizer_gpt2.encode(input_sentence, return_tensors='pt').to(DEVICE)\n",
    "    attention_mask_gpt2 = torch.ones_like(input_ids_gpt2).to(DEVICE)\n",
    "\n",
    "    # Generate output for GPT-2\n",
    "    with torch.no_grad():\n",
    "        outputs_gpt2 = model_gpt2(input_ids_gpt2, attention_mask=attention_mask_gpt2)\n",
    "        predicted_probs_gpt2 = torch.softmax(outputs_gpt2.logits, dim=1)\n",
    "        predicted_class_gpt2 = torch.argmax(outputs_gpt2.logits, dim=1).item()\n",
    "\n",
    "    print(f\"GPT-2 Response: Class {predicted_class_gpt2} - {messages[predicted_class_gpt2]}\")\n",
    "    print(f\"GPT-2 Probabilities: {predicted_probs_gpt2}\")\n",
    "    print(\"\")\n",
    "\n",
    "    # Multi-agent system: GPT-2 and BERT cooperate to guarantee a correct solution, based on their accuracy\n",
    "    predicted_class_coop = (predicted_class_bert * accuracy_bert + predicted_class_gpt2 * accuracy_gpt2 + predicted_class_LR * accuracy_LR) / (accuracy_gpt2 + accuracy_bert + accuracy_LR)\n",
    "    print(f\"Cooperative result: Class {predicted_class_coop:.3f} - {messages[round(predicted_class_coop)]}\\n\")\n",
    "\n"
   ]
  },
  {
   "cell_type": "markdown",
   "metadata": {},
   "source": [
    "# Plot"
   ]
  },
  {
   "cell_type": "code",
   "execution_count": null,
   "metadata": {},
   "outputs": [
    {
     "data": {
      "image/png": "[encoded data removed]",
      "text/plain": [
       "<Figure size 800x600 with 1 Axes>"
      ]
     },
     "metadata": {},
     "output_type": "display_data"
    }
   ],
   "source": [
    "models = ['Logistic Regression', 'GPT-2', 'BERT', 'XLNET']\n",
    "accuracies = [accuracy_LR, accuracy_gpt2, accuracy_bert, accuracy_xlnet]\n",
    "\n",
    "plt.figure(figsize=(8, 6))\n",
    "plt.bar(models, accuracies, color=['red', 'blue', 'green', 'yellow'])\n",
    "plt.xlabel('Models')\n",
    "plt.ylabel('Accuracy')\n",
    "plt.title('Comparison of Accuracy Between LR, GPT-2, BERT and XLNET')\n",
    "plt.ylim(0, 1)  # Set the y-axis limit from 0 to 1\n",
    "plt.show()"
   ]
  }
 ],
 "metadata": {
  "kernelspec": {
   "display_name": "Python 3",
   "language": "python",
   "name": "python3"
  },
  "language_info": {
   "codemirror_mode": {
    "name": "ipython",
    "version": 3
   },
   "file_extension": ".py",
   "mimetype": "text/x-python",
   "name": "python",
   "nbconvert_exporter": "python",
   "pygments_lexer": "ipython3",
   "version": "3.12.3"
  }
 },
 "nbformat": 4,
 "nbformat_minor": 2
}
